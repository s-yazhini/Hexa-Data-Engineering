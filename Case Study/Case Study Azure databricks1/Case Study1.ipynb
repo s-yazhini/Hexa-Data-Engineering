{
 "cells": [
  {
   "cell_type": "markdown",
   "metadata": {
    "application/vnd.databricks.v1+cell": {
     "cellMetadata": {},
     "inputWidgets": {},
     "nuid": "43eb6e21-3f26-4760-98a0-f8db5c49fe8b",
     "showTitle": false,
     "tableResultSettingsMap": {},
     "title": ""
    }
   },
   "source": [
    "# Case Study\n",
    "Create an ETL pipeline of ingestion & transform and load queries on any data set and initiate the pipeline from workflow using notebook\n",
    "\n",
    "Part1: create a notebook with ETL queries\n",
    "Part2: Run the notebook from workflow pipeline in azure Databricks workspace\n"
   ]
  },
  {
   "cell_type": "code",
   "execution_count": 0,
   "metadata": {
    "application/vnd.databricks.v1+cell": {
     "cellMetadata": {
      "byteLimit": 2048000,
      "rowLimit": 10000
     },
     "inputWidgets": {},
     "nuid": "af25843d-18a9-439a-91b1-7ceaa558c0a0",
     "showTitle": false,
     "tableResultSettingsMap": {},
     "title": ""
    }
   },
   "outputs": [],
   "source": [
    "spark.conf.set(\n",
    "    \"fs.azure.account.key.hexa1casestudy1adls.dfs.core.windows.net\",\n",
    "    \"s95FXGkWbk0h1NkPgZSC9TRP8YpxQyJVh9qEeHhKpTtYUBNumLCkxDrVFu6p8KWCDwrc8fPPjB9L+ASte/d5/Q==\"\n",
    ")\n"
   ]
  },
  {
   "cell_type": "code",
   "execution_count": 0,
   "metadata": {
    "application/vnd.databricks.v1+cell": {
     "cellMetadata": {
      "byteLimit": 2048000,
      "rowLimit": 10000
     },
     "inputWidgets": {},
     "nuid": "acfdec1e-77f4-47b3-9326-515e18070db7",
     "showTitle": false,
     "tableResultSettingsMap": {},
     "title": ""
    }
   },
   "outputs": [
    {
     "output_type": "execute_result",
     "data": {
      "text/plain": [
       "[FileInfo(path='abfss://database@hexa1casestudy1adls.dfs.core.windows.net/Employee Sample Data 1.csv', name='Employee Sample Data 1.csv', size=148604, modificationTime=1733739857000),\n",
       " FileInfo(path='abfss://database@hexa1casestudy1adls.dfs.core.windows.net/txn.csv', name='txn.csv', size=7885867, modificationTime=1733739885000)]"
      ]
     },
     "execution_count": 2,
     "metadata": {},
     "output_type": "execute_result"
    }
   ],
   "source": [
    "dbutils.fs.ls(\"abfss://database@hexa1casestudy1adls.dfs.core.windows.net/\")\n"
   ]
  },
  {
   "cell_type": "code",
   "execution_count": 0,
   "metadata": {
    "application/vnd.databricks.v1+cell": {
     "cellMetadata": {
      "byteLimit": 2048000,
      "rowLimit": 10000
     },
     "inputWidgets": {},
     "nuid": "3b2e49e1-bf84-446e-abc0-87a21a68df69",
     "showTitle": false,
     "tableResultSettingsMap": {},
     "title": ""
    }
   },
   "outputs": [],
   "source": [
    "# # Load the CSV file from ADLS\n",
    "# df2 = spark.read.csv(\"abfss://database@hexa1casestudy1adls.dfs.core.windows.net/txn.csv\", header=True, inferSchema=True)\n",
    "\n",
    "# # Create a temporary view\n",
    "# df2.createOrReplaceTempView(\"txn_view\")\n",
    "\n",
    "# Load the CSV file from ADLS\n",
    "df = spark.read.format(\"csv\").option(\"header\", \"true\").option(\"inferSchema\", \"true\").load(\"abfss://database@hexa1casestudy1adls.dfs.core.windows.net/txn.csv\")\n",
    "\n",
    "# Create a temporary view\n",
    "df.createOrReplaceTempView(\"txn_view\")"
   ]
  },
  {
   "cell_type": "code",
   "execution_count": 0,
   "metadata": {
    "application/vnd.databricks.v1+cell": {
     "cellMetadata": {
      "byteLimit": 2048000,
      "rowLimit": 10000
     },
     "inputWidgets": {},
     "nuid": "da867628-3f42-4c4f-b490-0d225802c7ae",
     "showTitle": false,
     "tableResultSettingsMap": {},
     "title": ""
    }
   },
   "outputs": [
    {
     "output_type": "stream",
     "name": "stdout",
     "output_type": "stream",
     "text": [
      "+-------------+--------------------+----------+----------------+-------------+-----------+\n|   Account No| TRANSACTION DETAILS|VALUE DATE| WITHDRAWAL AMT | DEPOSIT AMT |BALANCE AMT|\n+-------------+--------------------+----------+----------------+-------------+-----------+\n|409000611074'|TRF FROM  Indiafo...| 29-Jun-17|            NULL|    1000000.0|  1000000.0|\n|409000611074'|TRF FROM  Indiafo...|  5-Jul-17|            NULL|    1000000.0|  2000000.0|\n|409000611074'|FDRL/INTERNAL FUN...| 18-Jul-17|            NULL|     500000.0|  2500000.0|\n|409000611074'|TRF FRM  Indiafor...|  1-Aug-17|            NULL|    3000000.0|  5500000.0|\n|409000611074'|FDRL/INTERNAL FUN...| 16-Aug-17|            NULL|     500000.0|  6000000.0|\n|409000611074'|FDRL/INTERNAL FUN...| 16-Aug-17|            NULL|     500000.0|  6500000.0|\n|409000611074'|FDRL/INTERNAL FUN...| 16-Aug-17|            NULL|     500000.0|  7000000.0|\n|409000611074'|FDRL/INTERNAL FUN...| 16-Aug-17|            NULL|     500000.0|  7500000.0|\n|409000611074'|FDRL/INTERNAL FUN...| 16-Aug-17|            NULL|     500000.0|  8000000.0|\n|409000611074'|FDRL/INTERNAL FUN...| 16-Aug-17|            NULL|     500000.0|  8500000.0|\n+-------------+--------------------+----------+----------------+-------------+-----------+\nonly showing top 10 rows\n\n"
     ]
    }
   ],
   "source": [
    "df.show(10)\n"
   ]
  },
  {
   "cell_type": "code",
   "execution_count": 0,
   "metadata": {
    "application/vnd.databricks.v1+cell": {
     "cellMetadata": {
      "byteLimit": 2048000,
      "rowLimit": 10000
     },
     "inputWidgets": {},
     "nuid": "83ab4547-4b0e-41a0-b9c9-54e58a8c7a2a",
     "showTitle": false,
     "tableResultSettingsMap": {},
     "title": ""
    }
   },
   "outputs": [
    {
     "output_type": "stream",
     "name": "stdout",
     "output_type": "stream",
     "text": [
      "+-------------+--------------------+----------+----------------+-------------+-----------+\n|   Account_No| TRANSACTION_DETAILS|VALUE_DATE|_WITHDRAWAL_AMT_|_DEPOSIT_AMT_|BALANCE_AMT|\n+-------------+--------------------+----------+----------------+-------------+-----------+\n|409000611074'|TRF FROM  Indiafo...| 29-Jun-17|            NULL|    1000000.0|  1000000.0|\n|409000611074'|TRF FROM  Indiafo...|  5-Jul-17|            NULL|    1000000.0|  2000000.0|\n|409000611074'|FDRL/INTERNAL FUN...| 18-Jul-17|            NULL|     500000.0|  2500000.0|\n|409000611074'|TRF FRM  Indiafor...|  1-Aug-17|            NULL|    3000000.0|  5500000.0|\n|409000611074'|FDRL/INTERNAL FUN...| 16-Aug-17|            NULL|     500000.0|  6000000.0|\n|409000611074'|FDRL/INTERNAL FUN...| 16-Aug-17|            NULL|     500000.0|  6500000.0|\n|409000611074'|FDRL/INTERNAL FUN...| 16-Aug-17|            NULL|     500000.0|  7000000.0|\n|409000611074'|FDRL/INTERNAL FUN...| 16-Aug-17|            NULL|     500000.0|  7500000.0|\n|409000611074'|FDRL/INTERNAL FUN...| 16-Aug-17|            NULL|     500000.0|  8000000.0|\n|409000611074'|FDRL/INTERNAL FUN...| 16-Aug-17|            NULL|     500000.0|  8500000.0|\n+-------------+--------------------+----------+----------------+-------------+-----------+\nonly showing top 10 rows\n\n"
     ]
    }
   ],
   "source": [
    "# Replace invalid characters in column names\n",
    "df_renamed = df.toDF(*[col.replace(\" \", \"_\").replace(\".\", \"\").replace(\",\", \"\") for col in df.columns])\n",
    "\n",
    "# Save the DataFrame as a Delta table\n",
    "df_renamed.write.format(\"delta\").mode(\"overwrite\").saveAsTable(\"txn_table\")\n",
    "\n",
    "df_renamed.show(10)"
   ]
  },
  {
   "cell_type": "code",
   "execution_count": 0,
   "metadata": {
    "application/vnd.databricks.v1+cell": {
     "cellMetadata": {
      "byteLimit": 2048000,
      "rowLimit": 10000
     },
     "inputWidgets": {},
     "nuid": "c445231a-9536-4ae1-9cb9-a3378a797367",
     "showTitle": false,
     "tableResultSettingsMap": {},
     "title": ""
    }
   },
   "outputs": [
    {
     "output_type": "stream",
     "name": "stdout",
     "output_type": "stream",
     "text": [
      "+-------------+--------------------+----------+----------------+-------------+-----------+\n|   Account_No| TRANSACTION_DETAILS|VALUE_DATE|_WITHDRAWAL_AMT_|_DEPOSIT_AMT_|BALANCE_AMT|\n+-------------+--------------------+----------+----------------+-------------+-----------+\n|409000611074'|TRF FROM  Indiafo...| 29-Jun-17|             0.0|    1000000.0|  1000000.0|\n|409000611074'|TRF FROM  Indiafo...|  5-Jul-17|             0.0|    1000000.0|  2000000.0|\n|409000611074'|FDRL/INTERNAL FUN...| 18-Jul-17|             0.0|     500000.0|  2500000.0|\n|409000611074'|TRF FRM  Indiafor...|  1-Aug-17|             0.0|    3000000.0|  5500000.0|\n|409000611074'|FDRL/INTERNAL FUN...| 16-Aug-17|             0.0|     500000.0|  6000000.0|\n|409000611074'|FDRL/INTERNAL FUN...| 16-Aug-17|             0.0|     500000.0|  6500000.0|\n|409000611074'|FDRL/INTERNAL FUN...| 16-Aug-17|             0.0|     500000.0|  7000000.0|\n|409000611074'|FDRL/INTERNAL FUN...| 16-Aug-17|             0.0|     500000.0|  7500000.0|\n|409000611074'|FDRL/INTERNAL FUN...| 16-Aug-17|             0.0|     500000.0|  8000000.0|\n|409000611074'|FDRL/INTERNAL FUN...| 16-Aug-17|             0.0|     500000.0|  8500000.0|\n+-------------+--------------------+----------+----------------+-------------+-----------+\nonly showing top 10 rows\n\n"
     ]
    }
   ],
   "source": [
    "# Replace null with 0 only in specific columns\n",
    "\n",
    "columns_to_update = [\"_WITHDRAWAL_AMT_\", \"_DEPOSIT_AMT_\", \"BALANCE_AMT\"]  # Specify the columns\n",
    "df_renamed = df_renamed.na.fill(0, subset=columns_to_update)\n",
    "\n",
    "df_renamed.show(10)\n",
    "\n",
    "\n"
   ]
  },
  {
   "cell_type": "code",
   "execution_count": 0,
   "metadata": {
    "application/vnd.databricks.v1+cell": {
     "cellMetadata": {
      "byteLimit": 2048000,
      "rowLimit": 10000
     },
     "inputWidgets": {},
     "nuid": "1cdb1b6d-023c-4f08-9b71-78558f657c9f",
     "showTitle": false,
     "tableResultSettingsMap": {},
     "title": ""
    }
   },
   "outputs": [
    {
     "output_type": "stream",
     "name": "stdout",
     "output_type": "stream",
     "text": [
      "+-------------+--------------------+----------+----------------+-------------+-----------+\n|   Account_No| TRANSACTION_DETAILS|VALUE_DATE|_WITHDRAWAL_AMT_|_DEPOSIT_AMT_|BALANCE_AMT|\n+-------------+--------------------+----------+----------------+-------------+-----------+\n|409000611074'|TRF FROM  Indiafo...| 29-Jun-17|             0.0|    1000000.0|  1000000.0|\n|409000611074'|TRF FROM  Indiafo...|  5-Jul-17|             0.0|    1000000.0|  2000000.0|\n|409000611074'|FDRL/INTERNAL FUN...| 18-Jul-17|             0.0|     500000.0|  2500000.0|\n|409000611074'|TRF FRM  Indiafor...|  1-Aug-17|             0.0|    3000000.0|  5500000.0|\n|409000611074'|FDRL/INTERNAL FUN...| 16-Aug-17|             0.0|     500000.0|  6000000.0|\n|409000611074'|FDRL/INTERNAL FUN...| 16-Aug-17|             0.0|     500000.0|  6500000.0|\n|409000611074'|FDRL/INTERNAL FUN...| 16-Aug-17|             0.0|     500000.0|  7000000.0|\n|409000611074'|FDRL/INTERNAL FUN...| 16-Aug-17|             0.0|     500000.0|  7500000.0|\n|409000611074'|FDRL/INTERNAL FUN...| 16-Aug-17|             0.0|     500000.0|  8000000.0|\n|409000611074'|FDRL/INTERNAL FUN...| 16-Aug-17|             0.0|     500000.0|  8500000.0|\n+-------------+--------------------+----------+----------------+-------------+-----------+\nonly showing top 10 rows\n\n"
     ]
    }
   ],
   "source": [
    "df_renamed.show(10)"
   ]
  },
  {
   "cell_type": "code",
   "execution_count": 0,
   "metadata": {
    "application/vnd.databricks.v1+cell": {
     "cellMetadata": {
      "byteLimit": 2048000,
      "implicitDf": true,
      "rowLimit": 10000
     },
     "inputWidgets": {},
     "nuid": "50a01a78-afc7-418a-a3d0-65697dd56075",
     "showTitle": false,
     "tableResultSettingsMap": {},
     "title": ""
    }
   },
   "outputs": [
    {
     "output_type": "display_data",
     "data": {
      "text/html": [
       "<style scoped>\n",
       "  .table-result-container {\n",
       "    max-height: 300px;\n",
       "    overflow: auto;\n",
       "  }\n",
       "  table, th, td {\n",
       "    border: 1px solid black;\n",
       "    border-collapse: collapse;\n",
       "  }\n",
       "  th, td {\n",
       "    padding: 5px;\n",
       "  }\n",
       "  th {\n",
       "    text-align: left;\n",
       "  }\n",
       "</style><div class='table-result-container'><table class='table-result'><thead style='background-color: white'><tr><th>Account_No</th><th>TRANSACTION_DETAILS</th><th>VALUE_DATE</th><th>_WITHDRAWAL_AMT_</th><th>_DEPOSIT_AMT_</th><th>BALANCE_AMT</th></tr></thead><tbody><tr><td>409000611074'</td><td>TRF FROM  Indiaforensic SERVICES</td><td>29-Jun-17</td><td>null</td><td>1000000.0</td><td>1000000.0</td></tr><tr><td>409000611074'</td><td>TRF FROM  Indiaforensic SERVICES</td><td>5-Jul-17</td><td>null</td><td>1000000.0</td><td>2000000.0</td></tr><tr><td>409000611074'</td><td>FDRL/INTERNAL FUND TRANSFE</td><td>18-Jul-17</td><td>null</td><td>500000.0</td><td>2500000.0</td></tr><tr><td>409000611074'</td><td>TRF FRM  Indiaforensic SERVICES</td><td>1-Aug-17</td><td>null</td><td>3000000.0</td><td>5500000.0</td></tr><tr><td>409000611074'</td><td>FDRL/INTERNAL FUND TRANSFE</td><td>16-Aug-17</td><td>null</td><td>500000.0</td><td>6000000.0</td></tr><tr><td>409000611074'</td><td>FDRL/INTERNAL FUND TRANSFE</td><td>16-Aug-17</td><td>null</td><td>500000.0</td><td>6500000.0</td></tr><tr><td>409000611074'</td><td>FDRL/INTERNAL FUND TRANSFE</td><td>16-Aug-17</td><td>null</td><td>500000.0</td><td>7000000.0</td></tr><tr><td>409000611074'</td><td>FDRL/INTERNAL FUND TRANSFE</td><td>16-Aug-17</td><td>null</td><td>500000.0</td><td>7500000.0</td></tr><tr><td>409000611074'</td><td>FDRL/INTERNAL FUND TRANSFE</td><td>16-Aug-17</td><td>null</td><td>500000.0</td><td>8000000.0</td></tr><tr><td>409000611074'</td><td>FDRL/INTERNAL FUND TRANSFE</td><td>16-Aug-17</td><td>null</td><td>500000.0</td><td>8500000.0</td></tr><tr><td>409000611074'</td><td>INDO GIBL Indiaforensic STL01071</td><td>16-Aug-17</td><td>133900.0</td><td>null</td><td>8366100.0</td></tr><tr><td>409000611074'</td><td>INDO GIBL Indiaforensic STL02071</td><td>16-Aug-17</td><td>18000.0</td><td>null</td><td>8348100.0</td></tr><tr><td>409000611074'</td><td>INDO GIBL Indiaforensic STL03071</td><td>16-Aug-17</td><td>5000.0</td><td>null</td><td>8343100.0</td></tr><tr><td>409000611074'</td><td>INDO GIBL Indiaforensic STL04071</td><td>16-Aug-17</td><td>195800.0</td><td>null</td><td>8147300.0</td></tr><tr><td>409000611074'</td><td>INDO GIBL Indiaforensic STL05071</td><td>16-Aug-17</td><td>81600.0</td><td>null</td><td>8065700.0</td></tr><tr><td>409000611074'</td><td>INDO GIBL Indiaforensic STL06071</td><td>16-Aug-17</td><td>41800.0</td><td>null</td><td>8023900.0</td></tr><tr><td>409000611074'</td><td>INDO GIBL Indiaforensic STL07071</td><td>16-Aug-17</td><td>98500.0</td><td>null</td><td>7925400.0</td></tr><tr><td>409000611074'</td><td>INDO GIBL Indiaforensic STL10071</td><td>16-Aug-17</td><td>143800.0</td><td>null</td><td>7781600.0</td></tr><tr><td>409000611074'</td><td>INDO GIBL Indiaforensic STL11071</td><td>16-Aug-17</td><td>331650.0</td><td>null</td><td>7449950.0</td></tr><tr><td>409000611074'</td><td>INDO GIBL Indiaforensic STL12071</td><td>16-Aug-17</td><td>129000.0</td><td>null</td><td>7320950.0</td></tr><tr><td>409000611074'</td><td>INDO GIBL Indiaforensic STL13071</td><td>16-Aug-17</td><td>230013.0</td><td>null</td><td>7090937.0</td></tr><tr><td>409000611074'</td><td>INDO GIBL Indiaforensic STL14071</td><td>16-Aug-17</td><td>367900.0</td><td>null</td><td>6723037.0</td></tr><tr><td>409000611074'</td><td>INDO GIBL Indiaforensic STL15071</td><td>16-Aug-17</td><td>108000.0</td><td>null</td><td>6615037.0</td></tr><tr><td>409000611074'</td><td>INDO GIBL Indiaforensic STL16071</td><td>16-Aug-17</td><td>64800.0</td><td>null</td><td>6550237.0</td></tr><tr><td>409000611074'</td><td>INDO GIBL Indiaforensic STL17071</td><td>16-Aug-17</td><td>141000.0</td><td>null</td><td>6409237.0</td></tr><tr><td>409000611074'</td><td>INDO GIBL Indiaforensic STL18071</td><td>16-Aug-17</td><td>61750.0</td><td>null</td><td>6347487.0</td></tr><tr><td>409000611074'</td><td>INDO GIBL Indiaforensic STL19071</td><td>16-Aug-17</td><td>67920.0</td><td>null</td><td>6279567.0</td></tr><tr><td>409000611074'</td><td>INDO GIBL Indiaforensic STL20071</td><td>16-Aug-17</td><td>78100.0</td><td>null</td><td>6201467.0</td></tr><tr><td>409000611074'</td><td>INDO GIBL Indiaforensic STL21071</td><td>16-Aug-17</td><td>35650.0</td><td>null</td><td>6165817.0</td></tr><tr><td>409000611074'</td><td>INDO GIBL Indiaforensic STL22071</td><td>16-Aug-17</td><td>206000.0</td><td>null</td><td>5959817.0</td></tr><tr><td>409000611074'</td><td>INDO GIBL Indiaforensic STL24071</td><td>16-Aug-17</td><td>35300.0</td><td>null</td><td>5924517.0</td></tr><tr><td>409000611074'</td><td>INDO GIBL Indiaforensic STL25071</td><td>16-Aug-17</td><td>49800.0</td><td>null</td><td>5874717.0</td></tr><tr><td>409000611074'</td><td>INDO GIBL Indiaforensic STL26071</td><td>16-Aug-17</td><td>53000.0</td><td>null</td><td>5821717.0</td></tr><tr><td>409000611074'</td><td>INDO GIBL Indiaforensic STL27071</td><td>16-Aug-17</td><td>91300.0</td><td>null</td><td>5730417.0</td></tr><tr><td>409000611074'</td><td>INDO GIBL Indiaforensic STL28071</td><td>16-Aug-17</td><td>57499.0</td><td>null</td><td>5672918.0</td></tr><tr><td>409000611074'</td><td>INDO GIBL Indiaforensic STL30071</td><td>16-Aug-17</td><td>20000.0</td><td>null</td><td>5652918.0</td></tr><tr><td>409000611074'</td><td>INDO GIBL Indiaforensic STL31071</td><td>16-Aug-17</td><td>19400.0</td><td>null</td><td>5633518.0</td></tr><tr><td>409000611074'</td><td>INDO GIBL Indiaforensic STL01081</td><td>6-Sep-17</td><td>40500.0</td><td>null</td><td>5593018.0</td></tr><tr><td>409000611074'</td><td>INDO GIBL Indiaforensic STL02081</td><td>6-Sep-17</td><td>242300.0</td><td>null</td><td>5350718.0</td></tr><tr><td>409000611074'</td><td>INDO GIBL Indiaforensic STL03081</td><td>6-Sep-17</td><td>90100.0</td><td>null</td><td>5260618.0</td></tr><tr><td>409000611074'</td><td>INDO GIBL Indiaforensic STL04081</td><td>6-Sep-17</td><td>113250.0</td><td>null</td><td>5147368.0</td></tr><tr><td>409000611074'</td><td>INDO GIBL Indiaforensic STL05081</td><td>6-Sep-17</td><td>12500.0</td><td>null</td><td>5134868.0</td></tr><tr><td>409000611074'</td><td>INDO GIBL Indiaforensic STL06081</td><td>6-Sep-17</td><td>40000.0</td><td>null</td><td>5094868.0</td></tr><tr><td>409000611074'</td><td>INDO GIBL Indiaforensic STL07081</td><td>6-Sep-17</td><td>206900.0</td><td>null</td><td>4887968.0</td></tr><tr><td>409000611074'</td><td>INDO GIBL Indiaforensic STL08081</td><td>6-Sep-17</td><td>276000.0</td><td>null</td><td>4611968.0</td></tr><tr><td>409000611074'</td><td>INDO GIBL Indiaforensic STL09081</td><td>6-Sep-17</td><td>171000.0</td><td>null</td><td>4440968.0</td></tr><tr><td>409000611074'</td><td>INDO GIBL Indiaforensic STL10081</td><td>6-Sep-17</td><td>40100.0</td><td>null</td><td>4400868.0</td></tr><tr><td>409000611074'</td><td>INDO GIBL Indiaforensic STL11081</td><td>6-Sep-17</td><td>189800.0</td><td>null</td><td>4211068.0</td></tr><tr><td>409000611074'</td><td>INDO GIBL Indiaforensic STL12081</td><td>6-Sep-17</td><td>55800.0</td><td>null</td><td>4155268.0</td></tr><tr><td>409000611074'</td><td>INDO GIBL Indiaforensic STL13081</td><td>6-Sep-17</td><td>95400.0</td><td>null</td><td>4059868.0</td></tr></tbody></table></div>"
      ]
     },
     "metadata": {
      "application/vnd.databricks.v1+output": {
       "addedWidgets": {},
       "aggData": [],
       "aggError": "",
       "aggOverflow": false,
       "aggSchema": [],
       "aggSeriesLimitReached": false,
       "aggType": "",
       "arguments": {},
       "columnCustomDisplayInfos": {},
       "data": [
        [
         "409000611074'",
         "TRF FROM  Indiaforensic SERVICES",
         "29-Jun-17",
         null,
         1000000.0,
         1000000.0
        ],
        [
         "409000611074'",
         "TRF FROM  Indiaforensic SERVICES",
         "5-Jul-17",
         null,
         1000000.0,
         2000000.0
        ],
        [
         "409000611074'",
         "FDRL/INTERNAL FUND TRANSFE",
         "18-Jul-17",
         null,
         500000.0,
         2500000.0
        ],
        [
         "409000611074'",
         "TRF FRM  Indiaforensic SERVICES",
         "1-Aug-17",
         null,
         3000000.0,
         5500000.0
        ],
        [
         "409000611074'",
         "FDRL/INTERNAL FUND TRANSFE",
         "16-Aug-17",
         null,
         500000.0,
         6000000.0
        ],
        [
         "409000611074'",
         "FDRL/INTERNAL FUND TRANSFE",
         "16-Aug-17",
         null,
         500000.0,
         6500000.0
        ],
        [
         "409000611074'",
         "FDRL/INTERNAL FUND TRANSFE",
         "16-Aug-17",
         null,
         500000.0,
         7000000.0
        ],
        [
         "409000611074'",
         "FDRL/INTERNAL FUND TRANSFE",
         "16-Aug-17",
         null,
         500000.0,
         7500000.0
        ],
        [
         "409000611074'",
         "FDRL/INTERNAL FUND TRANSFE",
         "16-Aug-17",
         null,
         500000.0,
         8000000.0
        ],
        [
         "409000611074'",
         "FDRL/INTERNAL FUND TRANSFE",
         "16-Aug-17",
         null,
         500000.0,
         8500000.0
        ],
        [
         "409000611074'",
         "INDO GIBL Indiaforensic STL01071",
         "16-Aug-17",
         133900.0,
         null,
         8366100.0
        ],
        [
         "409000611074'",
         "INDO GIBL Indiaforensic STL02071",
         "16-Aug-17",
         18000.0,
         null,
         8348100.0
        ],
        [
         "409000611074'",
         "INDO GIBL Indiaforensic STL03071",
         "16-Aug-17",
         5000.0,
         null,
         8343100.0
        ],
        [
         "409000611074'",
         "INDO GIBL Indiaforensic STL04071",
         "16-Aug-17",
         195800.0,
         null,
         8147300.0
        ],
        [
         "409000611074'",
         "INDO GIBL Indiaforensic STL05071",
         "16-Aug-17",
         81600.0,
         null,
         8065700.0
        ],
        [
         "409000611074'",
         "INDO GIBL Indiaforensic STL06071",
         "16-Aug-17",
         41800.0,
         null,
         8023900.0
        ],
        [
         "409000611074'",
         "INDO GIBL Indiaforensic STL07071",
         "16-Aug-17",
         98500.0,
         null,
         7925400.0
        ],
        [
         "409000611074'",
         "INDO GIBL Indiaforensic STL10071",
         "16-Aug-17",
         143800.0,
         null,
         7781600.0
        ],
        [
         "409000611074'",
         "INDO GIBL Indiaforensic STL11071",
         "16-Aug-17",
         331650.0,
         null,
         7449950.0
        ],
        [
         "409000611074'",
         "INDO GIBL Indiaforensic STL12071",
         "16-Aug-17",
         129000.0,
         null,
         7320950.0
        ],
        [
         "409000611074'",
         "INDO GIBL Indiaforensic STL13071",
         "16-Aug-17",
         230013.0,
         null,
         7090937.0
        ],
        [
         "409000611074'",
         "INDO GIBL Indiaforensic STL14071",
         "16-Aug-17",
         367900.0,
         null,
         6723037.0
        ],
        [
         "409000611074'",
         "INDO GIBL Indiaforensic STL15071",
         "16-Aug-17",
         108000.0,
         null,
         6615037.0
        ],
        [
         "409000611074'",
         "INDO GIBL Indiaforensic STL16071",
         "16-Aug-17",
         64800.0,
         null,
         6550237.0
        ],
        [
         "409000611074'",
         "INDO GIBL Indiaforensic STL17071",
         "16-Aug-17",
         141000.0,
         null,
         6409237.0
        ],
        [
         "409000611074'",
         "INDO GIBL Indiaforensic STL18071",
         "16-Aug-17",
         61750.0,
         null,
         6347487.0
        ],
        [
         "409000611074'",
         "INDO GIBL Indiaforensic STL19071",
         "16-Aug-17",
         67920.0,
         null,
         6279567.0
        ],
        [
         "409000611074'",
         "INDO GIBL Indiaforensic STL20071",
         "16-Aug-17",
         78100.0,
         null,
         6201467.0
        ],
        [
         "409000611074'",
         "INDO GIBL Indiaforensic STL21071",
         "16-Aug-17",
         35650.0,
         null,
         6165817.0
        ],
        [
         "409000611074'",
         "INDO GIBL Indiaforensic STL22071",
         "16-Aug-17",
         206000.0,
         null,
         5959817.0
        ],
        [
         "409000611074'",
         "INDO GIBL Indiaforensic STL24071",
         "16-Aug-17",
         35300.0,
         null,
         5924517.0
        ],
        [
         "409000611074'",
         "INDO GIBL Indiaforensic STL25071",
         "16-Aug-17",
         49800.0,
         null,
         5874717.0
        ],
        [
         "409000611074'",
         "INDO GIBL Indiaforensic STL26071",
         "16-Aug-17",
         53000.0,
         null,
         5821717.0
        ],
        [
         "409000611074'",
         "INDO GIBL Indiaforensic STL27071",
         "16-Aug-17",
         91300.0,
         null,
         5730417.0
        ],
        [
         "409000611074'",
         "INDO GIBL Indiaforensic STL28071",
         "16-Aug-17",
         57499.0,
         null,
         5672918.0
        ],
        [
         "409000611074'",
         "INDO GIBL Indiaforensic STL30071",
         "16-Aug-17",
         20000.0,
         null,
         5652918.0
        ],
        [
         "409000611074'",
         "INDO GIBL Indiaforensic STL31071",
         "16-Aug-17",
         19400.0,
         null,
         5633518.0
        ],
        [
         "409000611074'",
         "INDO GIBL Indiaforensic STL01081",
         "6-Sep-17",
         40500.0,
         null,
         5593018.0
        ],
        [
         "409000611074'",
         "INDO GIBL Indiaforensic STL02081",
         "6-Sep-17",
         242300.0,
         null,
         5350718.0
        ],
        [
         "409000611074'",
         "INDO GIBL Indiaforensic STL03081",
         "6-Sep-17",
         90100.0,
         null,
         5260618.0
        ],
        [
         "409000611074'",
         "INDO GIBL Indiaforensic STL04081",
         "6-Sep-17",
         113250.0,
         null,
         5147368.0
        ],
        [
         "409000611074'",
         "INDO GIBL Indiaforensic STL05081",
         "6-Sep-17",
         12500.0,
         null,
         5134868.0
        ],
        [
         "409000611074'",
         "INDO GIBL Indiaforensic STL06081",
         "6-Sep-17",
         40000.0,
         null,
         5094868.0
        ],
        [
         "409000611074'",
         "INDO GIBL Indiaforensic STL07081",
         "6-Sep-17",
         206900.0,
         null,
         4887968.0
        ],
        [
         "409000611074'",
         "INDO GIBL Indiaforensic STL08081",
         "6-Sep-17",
         276000.0,
         null,
         4611968.0
        ],
        [
         "409000611074'",
         "INDO GIBL Indiaforensic STL09081",
         "6-Sep-17",
         171000.0,
         null,
         4440968.0
        ],
        [
         "409000611074'",
         "INDO GIBL Indiaforensic STL10081",
         "6-Sep-17",
         40100.0,
         null,
         4400868.0
        ],
        [
         "409000611074'",
         "INDO GIBL Indiaforensic STL11081",
         "6-Sep-17",
         189800.0,
         null,
         4211068.0
        ],
        [
         "409000611074'",
         "INDO GIBL Indiaforensic STL12081",
         "6-Sep-17",
         55800.0,
         null,
         4155268.0
        ],
        [
         "409000611074'",
         "INDO GIBL Indiaforensic STL13081",
         "6-Sep-17",
         95400.0,
         null,
         4059868.0
        ]
       ],
       "datasetInfos": [],
       "dbfsResultPath": null,
       "isJsonSchema": true,
       "metadata": {
        "createTempViewForImplicitDf": true,
        "dataframeName": "_sqldf",
        "executionCount": 8
       },
       "overflow": false,
       "plotOptions": {
        "customPlotOptions": {},
        "displayType": "table",
        "pivotAggregation": null,
        "pivotColumns": null,
        "xColumns": null,
        "yColumns": null
       },
       "removedWidgets": [],
       "schema": [
        {
         "metadata": "{}",
         "name": "Account_No",
         "type": "\"string\""
        },
        {
         "metadata": "{}",
         "name": "TRANSACTION_DETAILS",
         "type": "\"string\""
        },
        {
         "metadata": "{}",
         "name": "VALUE_DATE",
         "type": "\"string\""
        },
        {
         "metadata": "{}",
         "name": "_WITHDRAWAL_AMT_",
         "type": "\"double\""
        },
        {
         "metadata": "{}",
         "name": "_DEPOSIT_AMT_",
         "type": "\"double\""
        },
        {
         "metadata": "{}",
         "name": "BALANCE_AMT",
         "type": "\"double\""
        }
       ],
       "type": "table"
      }
     },
     "output_type": "display_data"
    },
    {
     "output_type": "display_data",
     "data": {
      "text/plain": [
       "Databricks visualization. Run in Databricks to view."
      ]
     },
     "metadata": {
      "application/vnd.databricks.v1.subcommand+json": {
       "baseErrorDetails": null,
       "bindings": {},
       "collapsed": false,
       "command": "%sql WITH q AS (SELECT * FROM txn_table\nlimit 50) SELECT `VALUE_DATE`,SUM(`_DEPOSIT_AMT_`) `column_29bc13724`,`Account_No` FROM q GROUP BY `Account_No`,`VALUE_DATE`",
       "commandTitle": "Visualization 1",
       "commandType": "auto",
       "commandVersion": 0,
       "commentThread": [],
       "commentsVisible": false,
       "contentSha256Hex": null,
       "customPlotOptions": {
        "redashChart": [
         {
          "key": "type",
          "value": "CHART"
         },
         {
          "key": "options",
          "value": {
           "alignYAxesAtZero": true,
           "coefficient": 1,
           "columnConfigurationMap": {
            "series": {
             "column": "Account_No",
             "id": "column_29bc137210"
            },
            "x": {
             "column": "VALUE_DATE",
             "id": "column_29bc13729"
            },
            "y": [
             {
              "column": "_DEPOSIT_AMT_",
              "id": "column_29bc13724",
              "transform": "SUM"
             }
            ]
           },
           "dateTimeFormat": "DD/MM/YYYY HH:mm",
           "direction": {
            "type": "counterclockwise"
           },
           "error_y": {
            "type": "data",
            "visible": true
           },
           "globalSeriesType": "line",
           "isAggregationOn": true,
           "legend": {
            "traceorder": "normal"
           },
           "missingValuesAsZero": true,
           "numberFormat": "0,0.[00000]",
           "percentFormat": "0[.]00%",
           "series": {
            "error_y": {
             "type": "data",
             "visible": true
            },
            "stacking": null
           },
           "seriesOptions": {
            "column_29bc13724": {
             "type": "line",
             "yAxis": 0
            }
           },
           "showDataLabels": false,
           "sizemode": "diameter",
           "sortX": true,
           "sortY": true,
           "swappedAxes": false,
           "textFormat": "",
           "useAggregationsUi": true,
           "valuesOptions": {},
           "version": 2,
           "xAxis": {
            "labels": {
             "enabled": true
            },
            "type": "-"
           },
           "yAxis": [
            {
             "type": "-"
            },
            {
             "opposite": true,
             "type": "-"
            }
           ]
          }
         }
        ]
       },
       "datasetPreviewNameToCmdIdMap": {},
       "diffDeletes": [],
       "diffInserts": [],
       "displayType": "redashChart",
       "error": null,
       "errorDetails": null,
       "errorSummary": null,
       "errorTraceType": null,
       "finishTime": 0,
       "globalVars": {},
       "guid": "",
       "height": "auto",
       "hideCommandCode": false,
       "hideCommandResult": false,
       "iPythonMetadata": null,
       "inputWidgets": {},
       "isLockedInExamMode": false,
       "latestUser": "a user",
       "latestUserId": null,
       "listResultMetadata": null,
       "metadata": {},
       "nuid": "ee5183f7-abfc-40c7-b091-be3e84f4056f",
       "origId": 0,
       "parentHierarchy": [],
       "pivotAggregation": null,
       "pivotColumns": null,
       "position": 9.0,
       "resultDbfsErrorMessage": null,
       "resultDbfsStatus": "INLINED_IN_TREE",
       "results": null,
       "showCommandTitle": false,
       "startTime": 0,
       "state": "input",
       "streamStates": {},
       "subcommandOptions": {
        "queryPlan": {
         "groups": [
          {
           "column": "VALUE_DATE",
           "type": "column"
          },
          {
           "column": "Account_No",
           "type": "column"
          }
         ],
         "selects": [
          {
           "column": "VALUE_DATE",
           "type": "column"
          },
          {
           "alias": "column_29bc13724",
           "args": [
            {
             "column": "_DEPOSIT_AMT_",
             "type": "column"
            }
           ],
           "function": "SUM",
           "type": "function"
          },
          {
           "column": "Account_No",
           "type": "column"
          }
         ]
        }
       },
       "submitTime": 0,
       "subtype": "tableResultSubCmd.visualization",
       "tableResultIndex": 0,
       "tableResultSettingsMap": {},
       "useConsistentColors": false,
       "version": "CommandV1",
       "width": "auto",
       "workflows": [],
       "xColumns": null,
       "yColumns": null
      }
     },
     "output_type": "display_data"
    }
   ],
   "source": [
    "%sql\n",
    "SELECT * FROM txn_table\n",
    "limit 50;"
   ]
  }
 ],
 "metadata": {
  "application/vnd.databricks.v1+notebook": {
   "computePreferences": null,
   "dashboards": [],
   "environmentMetadata": {
    "base_environment": "",
    "client": "1"
   },
   "language": "python",
   "notebookMetadata": {
    "mostRecentlyExecutedCommandWithImplicitDF": {
     "commandId": 12070002797511,
     "dataframes": [
      "_sqldf"
     ]
    },
    "pythonIndentUnit": 4
   },
   "notebookName": "Case Study1",
   "widgets": {}
  },
  "language_info": {
   "name": "python"
  }
 },
 "nbformat": 4,
 "nbformat_minor": 0
}