{
 "cells": [
  {
   "cell_type": "code",
   "execution_count": 0,
   "metadata": {
    "application/vnd.databricks.v1+cell": {
     "cellMetadata": {
      "byteLimit": 2048000,
      "rowLimit": 10000
     },
     "inputWidgets": {},
     "nuid": "1a651e4e-b886-4a95-a60a-9e20dbf9751a",
     "showTitle": false,
     "tableResultSettingsMap": {},
     "title": ""
    }
   },
   "outputs": [],
   "source": [
    "# Import necessary libraries\n",
    "from pyspark.sql import SparkSession\n",
    "from pyspark.sql.functions import col, to_date, sum, window, desc\n",
    "\n",
    "# Create a SparkSession\n",
    "spark = SparkSession.builder.appName(\"Online Retail Cleaning\").getOrCreate()\n"
   ]
  },
  {
   "cell_type": "code",
   "execution_count": 0,
   "metadata": {
    "application/vnd.databricks.v1+cell": {
     "cellMetadata": {
      "byteLimit": 2048000,
      "rowLimit": 10000
     },
     "inputWidgets": {},
     "nuid": "bed7773e-1ea5-44f6-a5d9-e03f768bcde3",
     "showTitle": false,
     "tableResultSettingsMap": {},
     "title": ""
    }
   },
   "outputs": [],
   "source": [
    "# 1. Ingestion: Load data into DataFrame\n",
    "file_path1 = \"dbfs:/user/hive/warehouse/online_retail_data_2009_10\"\n",
    "\n",
    "file_path2 = \"dbfs:/user/hive/warehouse/online_retail_data_2010_11\"\n",
    "\n",
    "# Load the Delta Table into a DataFrame\n",
    "df1 = spark.read.format(\"delta\").load(file_path1)\n",
    "\n",
    "df2 = spark.read.format(\"delta\").load(file_path2)\n"
   ]
  },
  {
   "cell_type": "code",
   "execution_count": 0,
   "metadata": {
    "application/vnd.databricks.v1+cell": {
     "cellMetadata": {
      "byteLimit": 2048000,
      "rowLimit": 10000
     },
     "inputWidgets": {},
     "nuid": "0cab57cf-a3c4-41bc-9ce3-30a54bd36752",
     "showTitle": false,
     "tableResultSettingsMap": {},
     "title": ""
    }
   },
   "outputs": [
    {
     "output_type": "stream",
     "name": "stdout",
     "output_type": "stream",
     "text": [
      "+-------+---------+--------------------+--------+----------------+-----+-----------+--------------+\n|Invoice|StockCode|         Description|Quantity|     InvoiceDate|Price|Customer ID|       Country|\n+-------+---------+--------------------+--------+----------------+-----+-----------+--------------+\n| 489434|    85048|15CM CHRISTMAS GL...|      12|01-12-2009 07:45| 6.95|      13085|United Kingdom|\n| 489434|   79323P|  PINK CHERRY LIGHTS|      12|01-12-2009 07:45| 6.75|      13085|United Kingdom|\n| 489434|   79323W| WHITE CHERRY LIGHTS|      12|01-12-2009 07:45| 6.75|      13085|United Kingdom|\n| 489434|    22041|RECORD FRAME 7\" S...|      48|01-12-2009 07:45|  2.1|      13085|United Kingdom|\n| 489434|    21232|STRAWBERRY CERAMI...|      24|01-12-2009 07:45| 1.25|      13085|United Kingdom|\n| 489434|    22064|PINK DOUGHNUT TRI...|      24|01-12-2009 07:45| 1.65|      13085|United Kingdom|\n| 489434|    21871| SAVE THE PLANET MUG|      24|01-12-2009 07:45| 1.25|      13085|United Kingdom|\n| 489434|    21523|FANCY FONT HOME S...|      10|01-12-2009 07:45| 5.95|      13085|United Kingdom|\n| 489435|    22350|           CAT BOWL |      12|01-12-2009 07:46| 2.55|      13085|United Kingdom|\n| 489435|    22349|DOG BOWL , CHASIN...|      12|01-12-2009 07:46| 3.75|      13085|United Kingdom|\n+-------+---------+--------------------+--------+----------------+-----+-----------+--------------+\nonly showing top 10 rows\n\n"
     ]
    }
   ],
   "source": [
    "# Show the first few rows of df1\n",
    "df1.show(10)"
   ]
  },
  {
   "cell_type": "code",
   "execution_count": 0,
   "metadata": {
    "application/vnd.databricks.v1+cell": {
     "cellMetadata": {
      "byteLimit": 2048000,
      "rowLimit": 10000
     },
     "inputWidgets": {},
     "nuid": "810cf8b6-362d-4610-bb60-13163ec80f59",
     "showTitle": false,
     "tableResultSettingsMap": {},
     "title": ""
    }
   },
   "outputs": [
    {
     "output_type": "stream",
     "name": "stdout",
     "output_type": "stream",
     "text": [
      "+-------+---------+--------------------+--------+----------------+-----+-----------+--------------+\n|Invoice|StockCode|         Description|Quantity|     InvoiceDate|Price|Customer ID|       Country|\n+-------+---------+--------------------+--------+----------------+-----+-----------+--------------+\n| 536365|   85123A|WHITE HANGING HEA...|       6|01-12-2010 08:26| 2.55|      17850|United Kingdom|\n| 536365|    71053| WHITE METAL LANTERN|       6|01-12-2010 08:26| 3.39|      17850|United Kingdom|\n| 536365|   84406B|CREAM CUPID HEART...|       8|01-12-2010 08:26| 2.75|      17850|United Kingdom|\n| 536365|   84029G|KNITTED UNION FLA...|       6|01-12-2010 08:26| 3.39|      17850|United Kingdom|\n| 536365|   84029E|RED WOOLLY HOTTIE...|       6|01-12-2010 08:26| 3.39|      17850|United Kingdom|\n| 536365|    22752|SET 7 BABUSHKA NE...|       2|01-12-2010 08:26| 7.65|      17850|United Kingdom|\n| 536365|    21730|GLASS STAR FROSTE...|       6|01-12-2010 08:26| 4.25|      17850|United Kingdom|\n| 536366|    22633|HAND WARMER UNION...|       6|01-12-2010 08:28| 1.85|      17850|United Kingdom|\n| 536366|    22632|HAND WARMER RED P...|       6|01-12-2010 08:28| 1.85|      17850|United Kingdom|\n| 536368|    22960|JAM MAKING SET WI...|       6|01-12-2010 08:34| 4.25|      13047|United Kingdom|\n+-------+---------+--------------------+--------+----------------+-----+-----------+--------------+\nonly showing top 10 rows\n\n"
     ]
    }
   ],
   "source": [
    "# Show the first few rows\n",
    "df2.show(10)"
   ]
  },
  {
   "cell_type": "code",
   "execution_count": 0,
   "metadata": {
    "application/vnd.databricks.v1+cell": {
     "cellMetadata": {
      "byteLimit": 2048000,
      "rowLimit": 10000
     },
     "inputWidgets": {},
     "nuid": "776a8ba1-8d25-452c-a259-c7373cc564ea",
     "showTitle": false,
     "tableResultSettingsMap": {},
     "title": ""
    }
   },
   "outputs": [],
   "source": [
    "# CLEANING\n",
    "# Combine datasets using union\n",
    "combined_df = df1.unionByName(df2)\n",
    "\n",
    "# Drop rows with null values in key columns\n",
    "cleaned_df = combined_df.dropna(subset=[\"Invoice\", \"StockCode\", \"InvoiceDate\", \"Customer ID\", \"Quantity\"])\n",
    "\n",
    "# Remove duplicate rows\n",
    "cleaned_df = cleaned_df.dropDuplicates()"
   ]
  },
  {
   "cell_type": "code",
   "execution_count": 0,
   "metadata": {
    "application/vnd.databricks.v1+cell": {
     "cellMetadata": {
      "byteLimit": 2048000,
      "rowLimit": 10000
     },
     "inputWidgets": {},
     "nuid": "dfb60e5f-658c-4097-8646-04a37e95f90f",
     "showTitle": false,
     "tableResultSettingsMap": {},
     "title": ""
    }
   },
   "outputs": [
    {
     "output_type": "stream",
     "name": "stdout",
     "output_type": "stream",
     "text": [
      "+-------+---------+--------------------+--------+----------------+-----+-----------+--------------+\n|Invoice|StockCode|         Description|Quantity|     InvoiceDate|Price|Customer ID|       Country|\n+-------+---------+--------------------+--------+----------------+-----+-----------+--------------+\n| 503063|    47566|       PARTY BUNTING|       5|29-03-2010 17:17| 4.65|      17664|United Kingdom|\n| 503063|    21495|         SKULLS WRAP|      25|29-03-2010 17:17| 0.42|      17664|United Kingdom|\n| 503063|    22084|PAPER CHAIN KIT E...|       6|29-03-2010 17:17| 2.95|      17664|United Kingdom|\n| 503063|    21380|WOODEN HAPPY BIRT...|       6|29-03-2010 17:17| 2.95|      17664|United Kingdom|\n| 503063|    20974|12 PENCILS SMALL ...|      24|29-03-2010 17:17| 0.65|      17664|United Kingdom|\n| 503063|    20829|GLITTER HANGING B...|       8|29-03-2010 17:17|  2.1|      17664|United Kingdom|\n| 503063|    20973|12 PENCIL SMALL T...|      24|29-03-2010 17:17| 0.65|      17664|United Kingdom|\n| 503063|    10125|MINI FUNKY DESIGN...|      20|29-03-2010 17:17| 0.85|      17664|United Kingdom|\n| 503063|   85226C|BLUE PULL BACK RA...|      12|29-03-2010 17:17| 0.55|      17664|United Kingdom|\n| 503063|    22127|PARTY CONES CARNI...|      12|29-03-2010 17:17| 1.25|      17664|United Kingdom|\n| 503063|    22089|PAPER BUNTING VIN...|       6|29-03-2010 17:17| 2.95|      17664|United Kingdom|\n| 503063|    22236|CAKE STAND 3 TIER...|       1|29-03-2010 17:17|12.75|      17664|United Kingdom|\n| 503063|    22088|PAPER BUNTING COL...|       6|29-03-2010 17:17| 2.95|      17664|United Kingdom|\n| 503063|    20828|GLITTER BUTTERFLY...|       6|29-03-2010 17:17| 2.55|      17664|United Kingdom|\n| 503063|    22090|PAPER BUNTING RET...|       6|29-03-2010 17:17| 2.95|      17664|United Kingdom|\n+-------+---------+--------------------+--------+----------------+-----+-----------+--------------+\nonly showing top 15 rows\n\n"
     ]
    }
   ],
   "source": [
    "cleaned_df.show(15)"
   ]
  }
 ],
 "metadata": {
  "application/vnd.databricks.v1+notebook": {
   "computePreferences": null,
   "dashboards": [],
   "environmentMetadata": null,
   "language": "python",
   "notebookMetadata": {
    "pythonIndentUnit": 4
   },
   "notebookName": "Project_1_Extraction_and_cleaning",
   "widgets": {}
  },
  "language_info": {
   "name": "python"
  }
 },
 "nbformat": 4,
 "nbformat_minor": 0
}