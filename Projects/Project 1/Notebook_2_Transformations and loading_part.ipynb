{
 "cells": [
  {
   "cell_type": "code",
   "execution_count": 0,
   "metadata": {
    "application/vnd.databricks.v1+cell": {
     "cellMetadata": {
      "byteLimit": 2048000,
      "rowLimit": 10000
     },
     "inputWidgets": {},
     "nuid": "07bce51e-7083-4b6e-bc0e-304c3dedb4c1",
     "showTitle": false,
     "tableResultSettingsMap": {},
     "title": ""
    }
   },
   "outputs": [],
   "source": [
    "# project name: Project_1_Extraction_and_cleaning\n",
    "# Import necessary libraries\n",
    "from pyspark.sql import SparkSession\n",
    "from pyspark.sql.functions import col, to_date, sum, window, desc\n",
    "\n",
    "# Create a SparkSession\n",
    "spark = SparkSession.builder.appName(\"Online Retail Cleaning\").getOrCreate()\n",
    "\n",
    "# 1. Ingestion: Load data into DataFrame\n",
    "file_path1 = \"dbfs:/user/hive/warehouse/online_retail_data_2009_10\"\n",
    "\n",
    "file_path2 = \"dbfs:/user/hive/warehouse/online_retail_data_2010_11\"\n",
    "\n",
    "# Load the Delta Table into a DataFrame\n",
    "df1 = spark.read.format(\"delta\").load(file_path1)\n",
    "\n",
    "df2 = spark.read.format(\"delta\").load(file_path2)\n",
    "\n",
    "# CLEANING\n",
    "# Combine datasets using union\n",
    "combined_df = df1.unionByName(df2)\n",
    "\n",
    "# Drop rows with null values in key columns\n",
    "cleaned_df = combined_df.dropna(subset=[\"Invoice\", \"StockCode\", \"InvoiceDate\", \"Customer ID\", \"Quantity\"])\n",
    "\n",
    "# Remove duplicate rows\n",
    "cleaned_df = cleaned_df.dropDuplicates()"
   ]
  },
  {
   "cell_type": "code",
   "execution_count": 0,
   "metadata": {
    "application/vnd.databricks.v1+cell": {
     "cellMetadata": {
      "byteLimit": 2048000,
      "rowLimit": 10000
     },
     "inputWidgets": {},
     "nuid": "018eda14-cc44-4cfb-8033-58d5ac402cc3",
     "showTitle": false,
     "tableResultSettingsMap": {},
     "title": ""
    }
   },
   "outputs": [],
   "source": [
    "# # Run the notebook that contains the cleaned_df DataFrame\n",
    "# %run /Users/azuser2370_mml.local@techademy.com/Project_1_Extraction_and_cleaning\n"
   ]
  },
  {
   "cell_type": "code",
   "execution_count": 0,
   "metadata": {
    "application/vnd.databricks.v1+cell": {
     "cellMetadata": {
      "byteLimit": 2048000,
      "rowLimit": 10000
     },
     "inputWidgets": {},
     "nuid": "de69d922-185a-4070-bd01-50aaaa93881c",
     "showTitle": false,
     "tableResultSettingsMap": {},
     "title": ""
    }
   },
   "outputs": [
    {
     "output_type": "stream",
     "name": "stdout",
     "output_type": "stream",
     "text": [
      "+-------+---------+--------------------+--------+----------------+-----+-----------+--------------+\n|Invoice|StockCode|         Description|Quantity|     InvoiceDate|Price|Customer ID|       Country|\n+-------+---------+--------------------+--------+----------------+-----+-----------+--------------+\n| 503063|    21495|         SKULLS WRAP|      25|29-03-2010 17:17| 0.42|      17664|United Kingdom|\n| 503063|    21380|WOODEN HAPPY BIRT...|       6|29-03-2010 17:17| 2.95|      17664|United Kingdom|\n| 503063|    20974|12 PENCILS SMALL ...|      24|29-03-2010 17:17| 0.65|      17664|United Kingdom|\n| 503063|    20973|12 PENCIL SMALL T...|      24|29-03-2010 17:17| 0.65|      17664|United Kingdom|\n| 503063|    10125|MINI FUNKY DESIGN...|      20|29-03-2010 17:17| 0.85|      17664|United Kingdom|\n| 503063|   85226C|BLUE PULL BACK RA...|      12|29-03-2010 17:17| 0.55|      17664|United Kingdom|\n| 503063|    22127|PARTY CONES CARNI...|      12|29-03-2010 17:17| 1.25|      17664|United Kingdom|\n| 503063|    22089|PAPER BUNTING VIN...|       6|29-03-2010 17:17| 2.95|      17664|United Kingdom|\n| 503063|    22236|CAKE STAND 3 TIER...|       1|29-03-2010 17:17|12.75|      17664|United Kingdom|\n| 503063|    22088|PAPER BUNTING COL...|       6|29-03-2010 17:17| 2.95|      17664|United Kingdom|\n+-------+---------+--------------------+--------+----------------+-----+-----------+--------------+\nonly showing top 10 rows\n\n"
     ]
    },
    {
     "output_type": "stream",
     "name": "stdout",
     "output_type": "stream",
     "text": [
      "+-------+---------+--------------------+--------+----------------+-----+-----------+--------------+\n|Invoice|StockCode|         Description|Quantity|     InvoiceDate|Price|Customer ID|       Country|\n+-------+---------+--------------------+--------+----------------+-----+-----------+--------------+\n| 489434|    85048|15CM CHRISTMAS GL...|      12|01-12-2009 07:45| 6.95|      13085|United Kingdom|\n| 489434|   79323P|  PINK CHERRY LIGHTS|      12|01-12-2009 07:45| 6.75|      13085|United Kingdom|\n| 489434|   79323W| WHITE CHERRY LIGHTS|      12|01-12-2009 07:45| 6.75|      13085|United Kingdom|\n| 489434|    22041|RECORD FRAME 7\" S...|      48|01-12-2009 07:45|  2.1|      13085|United Kingdom|\n| 489434|    21232|STRAWBERRY CERAMI...|      24|01-12-2009 07:45| 1.25|      13085|United Kingdom|\n| 489434|    22064|PINK DOUGHNUT TRI...|      24|01-12-2009 07:45| 1.65|      13085|United Kingdom|\n| 489434|    21871| SAVE THE PLANET MUG|      24|01-12-2009 07:45| 1.25|      13085|United Kingdom|\n| 489434|    21523|FANCY FONT HOME S...|      10|01-12-2009 07:45| 5.95|      13085|United Kingdom|\n| 489435|    22350|           CAT BOWL |      12|01-12-2009 07:46| 2.55|      13085|United Kingdom|\n| 489435|    22349|DOG BOWL , CHASIN...|      12|01-12-2009 07:46| 3.75|      13085|United Kingdom|\n+-------+---------+--------------------+--------+----------------+-----+-----------+--------------+\nonly showing top 10 rows\n\n"
     ]
    },
    {
     "output_type": "stream",
     "name": "stdout",
     "output_type": "stream",
     "text": [
      "+-------+---------+--------------------+--------+----------------+-----+-----------+--------------+\n|Invoice|StockCode|         Description|Quantity|     InvoiceDate|Price|Customer ID|       Country|\n+-------+---------+--------------------+--------+----------------+-----+-----------+--------------+\n| 536365|   85123A|WHITE HANGING HEA...|       6|01-12-2010 08:26| 2.55|      17850|United Kingdom|\n| 536365|    71053| WHITE METAL LANTERN|       6|01-12-2010 08:26| 3.39|      17850|United Kingdom|\n| 536365|   84406B|CREAM CUPID HEART...|       8|01-12-2010 08:26| 2.75|      17850|United Kingdom|\n| 536365|   84029G|KNITTED UNION FLA...|       6|01-12-2010 08:26| 3.39|      17850|United Kingdom|\n| 536365|   84029E|RED WOOLLY HOTTIE...|       6|01-12-2010 08:26| 3.39|      17850|United Kingdom|\n| 536365|    22752|SET 7 BABUSHKA NE...|       2|01-12-2010 08:26| 7.65|      17850|United Kingdom|\n| 536365|    21730|GLASS STAR FROSTE...|       6|01-12-2010 08:26| 4.25|      17850|United Kingdom|\n| 536366|    22633|HAND WARMER UNION...|       6|01-12-2010 08:28| 1.85|      17850|United Kingdom|\n| 536366|    22632|HAND WARMER RED P...|       6|01-12-2010 08:28| 1.85|      17850|United Kingdom|\n| 536368|    22960|JAM MAKING SET WI...|       6|01-12-2010 08:34| 4.25|      13047|United Kingdom|\n+-------+---------+--------------------+--------+----------------+-----+-----------+--------------+\nonly showing top 10 rows\n\n"
     ]
    }
   ],
   "source": [
    "# Use the DataFrame directly\n",
    "cleaned_df.show(10)"
   ]
  },
  {
   "cell_type": "code",
   "execution_count": 0,
   "metadata": {
    "application/vnd.databricks.v1+cell": {
     "cellMetadata": {
      "byteLimit": 2048000,
      "rowLimit": 10000
     },
     "inputWidgets": {},
     "nuid": "2ca7fe97-4276-40f2-959b-5aff95225f7a",
     "showTitle": false,
     "tableResultSettingsMap": {},
     "title": ""
    }
   },
   "outputs": [
    {
     "output_type": "stream",
     "name": "stdout",
     "output_type": "stream",
     "text": [
      "Transformed Dataset with TotalPrice:\n+-------+---------+--------------------+--------+----------------+-----+-----------+--------------+----------+\n|Invoice|StockCode|         Description|Quantity|     InvoiceDate|Price|Customer ID|       Country|TotalPrice|\n+-------+---------+--------------------+--------+----------------+-----+-----------+--------------+----------+\n| 503063|    21380|WOODEN HAPPY BIRT...|       6|29-03-2010 17:17| 2.95|      17664|United Kingdom|      17.7|\n| 503063|   85226C|BLUE PULL BACK RA...|      12|29-03-2010 17:17| 0.55|      17664|United Kingdom|       6.6|\n| 503063|    22127|PARTY CONES CARNI...|      12|29-03-2010 17:17| 1.25|      17664|United Kingdom|      15.0|\n| 503063|    22236|CAKE STAND 3 TIER...|       1|29-03-2010 17:17|12.75|      17664|United Kingdom|     12.75|\n| 503063|    22088|PAPER BUNTING COL...|       6|29-03-2010 17:17| 2.95|      17664|United Kingdom|      17.7|\n+-------+---------+--------------------+--------+----------------+-----+-----------+--------------+----------+\nonly showing top 5 rows\n\n"
     ]
    },
    {
     "output_type": "stream",
     "name": "stdout",
     "output_type": "stream",
     "text": [
      "+-------+---------+--------------------+--------+----------------+-----+-----------+--------------+\n|Invoice|StockCode|         Description|Quantity|     InvoiceDate|Price|Customer ID|       Country|\n+-------+---------+--------------------+--------+----------------+-----+-----------+--------------+\n| 503063|    47566|       PARTY BUNTING|       5|29-03-2010 17:17| 4.65|      17664|United Kingdom|\n| 503063|    21495|         SKULLS WRAP|      25|29-03-2010 17:17| 0.42|      17664|United Kingdom|\n| 503063|    22084|PAPER CHAIN KIT E...|       6|29-03-2010 17:17| 2.95|      17664|United Kingdom|\n| 503063|    21380|WOODEN HAPPY BIRT...|       6|29-03-2010 17:17| 2.95|      17664|United Kingdom|\n| 503063|    20974|12 PENCILS SMALL ...|      24|29-03-2010 17:17| 0.65|      17664|United Kingdom|\n| 503063|    20829|GLITTER HANGING B...|       8|29-03-2010 17:17|  2.1|      17664|United Kingdom|\n| 503063|    20973|12 PENCIL SMALL T...|      24|29-03-2010 17:17| 0.65|      17664|United Kingdom|\n| 503063|    10125|MINI FUNKY DESIGN...|      20|29-03-2010 17:17| 0.85|      17664|United Kingdom|\n| 503063|   85226C|BLUE PULL BACK RA...|      12|29-03-2010 17:17| 0.55|      17664|United Kingdom|\n| 503063|    22127|PARTY CONES CARNI...|      12|29-03-2010 17:17| 1.25|      17664|United Kingdom|\n| 503063|    22089|PAPER BUNTING VIN...|       6|29-03-2010 17:17| 2.95|      17664|United Kingdom|\n| 503063|    22236|CAKE STAND 3 TIER...|       1|29-03-2010 17:17|12.75|      17664|United Kingdom|\n| 503063|    22088|PAPER BUNTING COL...|       6|29-03-2010 17:17| 2.95|      17664|United Kingdom|\n| 503063|    20828|GLITTER BUTTERFLY...|       6|29-03-2010 17:17| 2.55|      17664|United Kingdom|\n| 503063|    22090|PAPER BUNTING RET...|       6|29-03-2010 17:17| 2.95|      17664|United Kingdom|\n+-------+---------+--------------------+--------+----------------+-----+-----------+--------------+\nonly showing top 15 rows\n\n"
     ]
    }
   ],
   "source": [
    "from pyspark.sql.functions import col, round\n",
    "\n",
    "# Add a TotalPrice column rounded to 2 decimal places\n",
    "transformed_df = cleaned_df.withColumn(\"TotalPrice\", round(col(\"Quantity\") * col(\"Price\"), 2))\n",
    "print(\"Transformed Dataset with TotalPrice:\")\n",
    "transformed_df.show(5)\n",
    "\n"
   ]
  },
  {
   "cell_type": "code",
   "execution_count": 0,
   "metadata": {
    "application/vnd.databricks.v1+cell": {
     "cellMetadata": {
      "byteLimit": 2048000,
      "rowLimit": 10000
     },
     "inputWidgets": {},
     "nuid": "fe8acb5b-6644-4be9-bea8-b479ed3d459a",
     "showTitle": false,
     "tableResultSettingsMap": {},
     "title": ""
    }
   },
   "outputs": [
    {
     "output_type": "stream",
     "name": "stdout",
     "output_type": "stream",
     "text": [
      "Total Sales Per Country:\n+------------------+----------+\n|           Country|TotalSales|\n+------------------+----------+\n|            Sweden|  87421.52|\n|         Singapore|  13158.16|\n|           Germany| 411959.16|\n|               RSA|   1933.74|\n|            France| 320046.26|\n|            Greece|  18995.49|\n|European Community|   1291.75|\n|           Belgium|  63208.89|\n|           Finland|  29514.45|\n|             Malta|   5192.22|\n|       Unspecified|   7370.46|\n|           Nigeria|    140.39|\n|             Italy|   30254.1|\n|              EIRE| 573509.76|\n|         Lithuania|   4892.68|\n|            Norway|  35455.91|\n|             Spain|  91013.44|\n|           Denmark|  64459.59|\n|       West Indies|    536.41|\n|          Thailand|   3070.54|\n+------------------+----------+\nonly showing top 20 rows\n\n"
     ]
    }
   ],
   "source": [
    "# Group data by Country and calculate total sales, rounded to 2 decimal places\n",
    "country_sales_df = transformed_df.groupBy(\"Country\") \\\n",
    "    .sum(\"TotalPrice\") \\\n",
    "    .withColumnRenamed(\"sum(TotalPrice)\", \"TotalSales\") \\\n",
    "    .withColumn(\"TotalSales\", round(col(\"TotalSales\"), 2))  # Round to 2 decimal places\n",
    "print(\"Total Sales Per Country:\")\n",
    "country_sales_df.show()\n"
   ]
  },
  {
   "cell_type": "code",
   "execution_count": 0,
   "metadata": {
    "application/vnd.databricks.v1+cell": {
     "cellMetadata": {
      "byteLimit": 2048000,
      "rowLimit": 10000
     },
     "inputWidgets": {},
     "nuid": "419c3d64-13db-49de-a39c-8e78be406d40",
     "showTitle": false,
     "tableResultSettingsMap": {},
     "title": ""
    }
   },
   "outputs": [
    {
     "output_type": "stream",
     "name": "stdout",
     "output_type": "stream",
     "text": [
      "Top 10 Best-Selling Products:\n+---------+--------------------+----------+\n|StockCode|         Description|TotalSales|\n+---------+--------------------+----------+\n|    22423|REGENCY CAKESTAND...| 261110.95|\n|   85123A|WHITE HANGING HEA...| 237678.61|\n|   85099B|JUMBO BAG RED RET...| 132180.02|\n|    84879|ASSORTED COLOUR B...| 123631.87|\n|     POST|             POSTAGE| 110338.51|\n|    47566|       PARTY BUNTING| 102089.38|\n|    22086|PAPER CHAIN KIT 5...|  75388.48|\n|    79321|       CHILLI LIGHTS|   68453.5|\n|   85099F|JUMBO BAG STRAWBERRY|  63615.53|\n|    21137|BLACK RECORD COVE...|  63009.83|\n+---------+--------------------+----------+\n\n"
     ]
    }
   ],
   "source": [
    "# Group data by StockCode and Description, calculate total sales, rounded to 2 decimal places\n",
    "top_products_df = transformed_df.groupBy(\"StockCode\", \"Description\") \\\n",
    "    .sum(\"TotalPrice\") \\\n",
    "    .withColumnRenamed(\"sum(TotalPrice)\", \"TotalSales\") \\\n",
    "    .withColumn(\"TotalSales\", round(col(\"TotalSales\"), 2)) \\\n",
    "    .orderBy(col(\"TotalSales\").desc()) \\\n",
    "    .limit(10)\n",
    "print(\"Top 10 Best-Selling Products:\")\n",
    "top_products_df.show()"
   ]
  },
  {
   "cell_type": "code",
   "execution_count": 0,
   "metadata": {
    "application/vnd.databricks.v1+cell": {
     "cellMetadata": {
      "byteLimit": 2048000,
      "rowLimit": 10000
     },
     "inputWidgets": {},
     "nuid": "f69d113f-88e2-4dac-b20e-658a80292692",
     "showTitle": false,
     "tableResultSettingsMap": {},
     "title": ""
    }
   },
   "outputs": [
    {
     "output_type": "stream",
     "name": "stdout",
     "output_type": "stream",
     "text": [
      "Top 10 Customers by Sales:\n+-----------+----------+\n|Customer ID|TotalSales|\n+-----------+----------+\n|18102      |570380.61 |\n|14646      |523342.07 |\n|14156      |296063.44 |\n|14911      |265757.91 |\n|17450      |231390.55 |\n|13694      |190020.84 |\n|17511      |168491.62 |\n|12415      |143269.29 |\n|16684      |141502.25 |\n|15061      |124961.98 |\n+-----------+----------+\n\n"
     ]
    }
   ],
   "source": [
    "# Group data by Customer ID and calculate total sales\n",
    "top_customers_df = transformed_df \\\n",
    "    .groupBy(\"Customer ID\") \\\n",
    "    .sum(\"TotalPrice\") \\\n",
    "    .withColumnRenamed(\"sum(TotalPrice)\", \"TotalSales\") \\\n",
    "    .withColumn(\"TotalSales\", round(col(\"TotalSales\"), 2)) \\\n",
    "    .orderBy(col(\"TotalSales\").desc()) \\\n",
    "    .limit(10)\n",
    "\n",
    "# Display top customers by sales\n",
    "print(\"Top 10 Customers by Sales:\")\n",
    "top_customers_df.show(truncate=False)"
   ]
  },
  {
   "cell_type": "code",
   "execution_count": 0,
   "metadata": {
    "application/vnd.databricks.v1+cell": {
     "cellMetadata": {
      "byteLimit": 2048000,
      "rowLimit": 10000
     },
     "inputWidgets": {},
     "nuid": "bcd490ef-4c41-4d3d-bf67-295a5e2ec99a",
     "showTitle": false,
     "tableResultSettingsMap": {},
     "title": ""
    }
   },
   "outputs": [
    {
     "output_type": "stream",
     "name": "stdout",
     "output_type": "stream",
     "text": [
      "Sales by Product Category (Top 10):\n+-----------------------------------+----------+\n|Description                        |TotalSales|\n+-----------------------------------+----------+\n|REGENCY CAKESTAND 3 TIER           |261110.95 |\n|WHITE HANGING HEART T-LIGHT HOLDER |237678.61 |\n|JUMBO BAG RED RETROSPOT            |132180.02 |\n|ASSORTED COLOUR BIRD ORNAMENT      |123631.87 |\n|POSTAGE                            |110338.51 |\n|PARTY BUNTING                      |102089.38 |\n|PAPER CHAIN KIT 50'S CHRISTMAS     |75388.48  |\n|CHILLI LIGHTS                      |68453.5   |\n|JUMBO BAG STRAWBERRY               |63615.53  |\n|BLACK RECORD COVER FRAME           |63009.83  |\n|ROTATING SILVER ANGELS T-LIGHT HLDR|55577.77  |\n|WOOD BLACK BOARD ANT WHITE FINISH  |54200.36  |\n|VINTAGE UNION JACK BUNTING         |53888.62  |\n|EDWARDIAN PARASOL NATURAL          |53563.46  |\n|JUMBO  BAG BAROQUE BLACK WHITE     |51617.3   |\n|RABBIT NIGHT LIGHT                 |51042.84  |\n|HEART OF WICKER LARGE              |48830.8   |\n|RED HANGING HEART T-LIGHT HOLDER   |47766.05  |\n|CREAM HEART CARD HOLDER            |47245.47  |\n|JUMBO STORAGE BAG SUKI             |47050.36  |\n+-----------------------------------+----------+\nonly showing top 20 rows\n\n"
     ]
    }
   ],
   "source": [
    "# Grouping sales by product category (Description) and calculating total sales\n",
    "sales_by_category_df = transformed_df \\\n",
    "    .groupBy(\"Description\") \\\n",
    "    .sum(\"TotalPrice\") \\\n",
    "    .withColumnRenamed(\"sum(TotalPrice)\", \"TotalSales\") \\\n",
    "    .withColumn(\"TotalSales\", round(col(\"TotalSales\"), 2)) \\\n",
    "    .orderBy(col(\"TotalSales\").desc())\n",
    "\n",
    "# Display the top categories based on sales\n",
    "print(\"Sales by Product Category (Top 10):\")\n",
    "sales_by_category_df.show(truncate=False)"
   ]
  },
  {
   "cell_type": "code",
   "execution_count": 0,
   "metadata": {
    "application/vnd.databricks.v1+cell": {
     "cellMetadata": {
      "byteLimit": 2048000,
      "rowLimit": 10000
     },
     "inputWidgets": {},
     "nuid": "c225b370-e7ba-484b-b8ce-a38cbe01590b",
     "showTitle": false,
     "tableResultSettingsMap": {},
     "title": ""
    }
   },
   "outputs": [
    {
     "output_type": "stream",
     "name": "stdout",
     "output_type": "stream",
     "text": [
      "Top 5 Countries by Sales:\n+--------------+-------------+\n|Country       |TotalSales   |\n+--------------+-------------+\n|United Kingdom|1.348250507E7|\n|EIRE          |573509.76    |\n|Netherlands   |548330.7     |\n|Germany       |411959.16    |\n|France        |320046.26    |\n+--------------+-------------+\n\n"
     ]
    }
   ],
   "source": [
    "# Group by Country and calculate total sales\n",
    "country_sales_df = transformed_df \\\n",
    "    .groupBy(\"Country\") \\\n",
    "    .sum(\"TotalPrice\") \\\n",
    "    .withColumnRenamed(\"sum(TotalPrice)\", \"TotalSales\") \\\n",
    "    .withColumn(\"TotalSales\", round(col(\"TotalSales\"), 2)) \\\n",
    "    .orderBy(col(\"TotalSales\").desc()) \\\n",
    "    .limit(5)\n",
    "\n",
    "# Display top 5 countries\n",
    "print(\"Top 5 Countries by Sales:\")\n",
    "country_sales_df.show(truncate=False)"
   ]
  },
  {
   "cell_type": "code",
   "execution_count": 0,
   "metadata": {
    "application/vnd.databricks.v1+cell": {
     "cellMetadata": {
      "byteLimit": 2048000,
      "rowLimit": 10000
     },
     "inputWidgets": {},
     "nuid": "38d8eb16-85c4-4135-93c3-d4bc195654ab",
     "showTitle": false,
     "tableResultSettingsMap": {},
     "title": ""
    }
   },
   "outputs": [
    {
     "output_type": "stream",
     "name": "stdout",
     "output_type": "stream",
     "text": [
      "Customer Segmentation by Sales:\n+-----------+------------------+------------+\n|Customer ID|TotalSales        |SalesSegment|\n+-----------+------------------+------------+\n|17043      |2593.6499999999996|High        |\n|17499      |1296.84           |High        |\n|15173      |1399.26           |High        |\n|13723      |1194.08           |High        |\n|17048      |1991.4499999999998|High        |\n|15432      |301.26            |High        |\n|16742      |2334.9700000000003|High        |\n|16896      |103.94999999999999|Medium      |\n|15194      |11781.519999999997|High        |\n|17971      |161.94            |Medium      |\n|15437      |393.45000000000005|High        |\n|15057      |3184.5600000000004|High        |\n|18196      |1457.19           |High        |\n|15375      |60.96             |Medium      |\n|16530      |48.35             |Low         |\n|13401      |-1834.14          |Low         |\n|17703      |1094.84           |High        |\n|15322      |1314.1499999999999|High        |\n|14846      |406.79999999999995|High        |\n|15846      |107.00999999999999|Medium      |\n+-----------+------------------+------------+\nonly showing top 20 rows\n\n"
     ]
    }
   ],
   "source": [
    "from pyspark.sql.functions import when\n",
    "\n",
    "# Define segmentation based on total sales\n",
    "customer_segmentation_df = transformed_df \\\n",
    "    .groupBy(\"Customer ID\") \\\n",
    "    .sum(\"TotalPrice\") \\\n",
    "    .withColumnRenamed(\"sum(TotalPrice)\", \"TotalSales\") \\\n",
    "    .withColumn(\"SalesSegment\", when(col(\"TotalSales\") < 50, \"Low\")\n",
    "                .when((col(\"TotalSales\") >= 50) & (col(\"TotalSales\") < 200), \"Medium\")\n",
    "                .otherwise(\"High\"))\n",
    "\n",
    "# Display customer segmentation\n",
    "print(\"Customer Segmentation by Sales:\")\n",
    "customer_segmentation_df.show(truncate=False)"
   ]
  },
  {
   "cell_type": "code",
   "execution_count": 0,
   "metadata": {
    "application/vnd.databricks.v1+cell": {
     "cellMetadata": {
      "byteLimit": 2048000,
      "rowLimit": 10000
     },
     "inputWidgets": {},
     "nuid": "6ddff7f9-3b9a-4177-922d-486a30881bd4",
     "showTitle": false,
     "tableResultSettingsMap": {},
     "title": ""
    }
   },
   "outputs": [
    {
     "output_type": "stream",
     "name": "stdout",
     "output_type": "stream",
     "text": [
      "Column Names: ['Customer ID', 'TotalSales', 'SalesSegment']\n"
     ]
    }
   ],
   "source": [
    "# Get the column names of the DataFrame\n",
    "column_names = customer_segmentation_df.columns\n",
    "\n",
    "# Display the column names\n",
    "print(\"Column Names:\", column_names)\n"
   ]
  },
  {
   "cell_type": "code",
   "execution_count": 0,
   "metadata": {
    "application/vnd.databricks.v1+cell": {
     "cellMetadata": {
      "byteLimit": 2048000,
      "rowLimit": 10000
     },
     "inputWidgets": {},
     "nuid": "dc408164-17d2-45a9-b5d4-de8a45458a23",
     "showTitle": false,
     "tableResultSettingsMap": {},
     "title": ""
    }
   },
   "outputs": [],
   "source": [
    "customer_segmentation_df = customer_segmentation_df \\\n",
    "    .withColumnRenamed(\"Customer ID\", \"Customer_ID\")"
   ]
  },
  {
   "cell_type": "code",
   "execution_count": 0,
   "metadata": {
    "application/vnd.databricks.v1+cell": {
     "cellMetadata": {
      "byteLimit": 2048000,
      "rowLimit": 10000
     },
     "inputWidgets": {},
     "nuid": "ace5d282-6653-4d31-85ed-810fcbd4d128",
     "showTitle": false,
     "tableResultSettingsMap": {},
     "title": ""
    }
   },
   "outputs": [
    {
     "output_type": "stream",
     "name": "stdout",
     "output_type": "stream",
     "text": [
      "+-----------+------------------+------------+\n|Customer_ID|TotalSales        |SalesSegment|\n+-----------+------------------+------------+\n|17043      |2593.6499999999996|High        |\n|17499      |1296.84           |High        |\n|15173      |1399.26           |High        |\n|13723      |1194.08           |High        |\n|17048      |1991.4499999999998|High        |\n|15432      |301.26            |High        |\n|16742      |2334.9700000000003|High        |\n|16896      |103.94999999999999|Medium      |\n|15194      |11781.519999999997|High        |\n|17971      |161.94            |Medium      |\n|15437      |393.45000000000005|High        |\n|15057      |3184.5600000000004|High        |\n|18196      |1457.19           |High        |\n|15375      |60.96             |Medium      |\n|16530      |48.35             |Low         |\n|13401      |-1834.14          |Low         |\n|17703      |1094.84           |High        |\n|15322      |1314.1499999999999|High        |\n|14846      |406.79999999999995|High        |\n|15846      |107.00999999999999|Medium      |\n+-----------+------------------+------------+\nonly showing top 20 rows\n\n"
     ]
    }
   ],
   "source": [
    "# LOADING\n",
    "# write the data to the Delta table\n",
    "delta_table_path = \"dbfs:/user/hive/warehouse/customer_segmentation\"\n",
    "customer_segmentation_df.write.format(\"delta\").mode(\"overwrite\").save(delta_table_path)\n",
    "\n",
    "# Register the Delta table in the Hive metastore\n",
    "spark.sql(f\"CREATE TABLE IF NOT EXISTS customer_segmentation USING DELTA LOCATION '{delta_table_path}'\")\n",
    "\n",
    "\n",
    "# Verify the table by running a query\n",
    "spark.sql(\"SELECT * FROM customer_segmentation\").show(truncate=False)\n"
   ]
  }
 ],
 "metadata": {
  "application/vnd.databricks.v1+notebook": {
   "computePreferences": null,
   "dashboards": [],
   "environmentMetadata": null,
   "language": "python",
   "notebookMetadata": {
    "pythonIndentUnit": 4
   },
   "notebookName": "Project_1_Transformations and loading_part",
   "widgets": {}
  },
  "language_info": {
   "name": "python"
  }
 },
 "nbformat": 4,
 "nbformat_minor": 0
}