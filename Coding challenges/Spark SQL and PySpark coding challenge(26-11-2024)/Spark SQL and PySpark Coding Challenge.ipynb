{
 "cells": [
  {
   "cell_type": "code",
   "execution_count": 0,
   "metadata": {
    "application/vnd.databricks.v1+cell": {
     "cellMetadata": {
      "byteLimit": 2048000,
      "rowLimit": 10000
     },
     "inputWidgets": {},
     "nuid": "e4e7782e-adc1-4dec-a8b0-9f7e7663cd83",
     "showTitle": false,
     "tableResultSettingsMap": {},
     "title": ""
    }
   },
   "outputs": [],
   "source": [
    "# Spark initialising\n",
    "\n",
    "from pyspark import SparkContext\n",
    "\n",
    "from pyspark.sql import SparkSession\n",
    "\n",
    "sc=SparkContext.getOrCreate()\n",
    "\n",
    "spark=SparkSession.builder.appName('coding challenge').getOrCreate()"
   ]
  },
  {
   "cell_type": "code",
   "execution_count": 0,
   "metadata": {
    "application/vnd.databricks.v1+cell": {
     "cellMetadata": {
      "byteLimit": 2048000,
      "rowLimit": 10000
     },
     "inputWidgets": {},
     "nuid": "f6f8ed61-77dd-471d-adc4-50b676b7df46",
     "showTitle": false,
     "tableResultSettingsMap": {},
     "title": ""
    }
   },
   "outputs": [
    {
     "output_type": "stream",
     "name": "stdout",
     "output_type": "stream",
     "text": [
      "root\n |-- Customer_ID: string (nullable = true)\n |-- Age: integer (nullable = true)\n |-- Gender: string (nullable = true)\n |-- Occupation: string (nullable = true)\n |-- Marital Status: string (nullable = true)\n |-- Family Size: integer (nullable = true)\n |-- Income: integer (nullable = true)\n |-- Expenditure: integer (nullable = true)\n |-- Use Frequency: integer (nullable = true)\n |-- Loan Category: string (nullable = true)\n |-- Loan Amount: string (nullable = true)\n |-- Overdue: integer (nullable = true)\n |--  Debt Record: string (nullable = true)\n |--  Returned Cheque: integer (nullable = true)\n |--  Dishonour of Bill: integer (nullable = true)\n\n+-----------+---+------+------------+--------------+-----------+------+-----------+-------------+-------------+-----------+-------+------------+----------------+------------------+\n|Customer_ID|Age|Gender|  Occupation|Marital Status|Family Size|Income|Expenditure|Use Frequency|Loan Category|Loan Amount|Overdue| Debt Record| Returned Cheque| Dishonour of Bill|\n+-----------+---+------+------------+--------------+-----------+------+-----------+-------------+-------------+-----------+-------+------------+----------------+------------------+\n|    IB14001| 30|  MALE|BANK MANAGER|        SINGLE|          4| 50000|      22199|            6|      HOUSING| 10,00,000 |      5|      42,898|               6|                 9|\n|    IB14008| 44|  MALE|   PROFESSOR|       MARRIED|          6| 51000|      19999|            4|     SHOPPING|     50,000|      3|      33,999|               1|                 5|\n|    IB14012| 30|FEMALE|     DENTIST|        SINGLE|          3| 58450|      27675|            5|   TRAVELLING|     75,000|      6|      20,876|               3|                 1|\n|    IB14018| 29|  MALE|     TEACHER|       MARRIED|          5| 45767|      12787|            3|    GOLD LOAN|  6,00,000 |      7|      11,000|               0|                 4|\n|    IB14022| 34|  MALE|      POLICE|        SINGLE|          4| 43521|      11999|            3|   AUTOMOBILE|  2,00,000 |      2|      43,898|               1|                 2|\n+-----------+---+------+------------+--------------+-----------+------+-----------+-------------+-------------+-----------+-------+------------+----------------+------------------+\nonly showing top 5 rows\n\n"
     ]
    }
   ],
   "source": [
    "# Loading data\n",
    "loans_df = spark.read.csv(\"/FileStore/tables/loan.csv\", header=True, inferSchema=True)\n",
    "\n",
    "# Display the schema\n",
    "loans_df.printSchema()\n",
    "\n",
    "# Shows the first few rows of the data\n",
    "loans_df.show(5)\n"
   ]
  },
  {
   "cell_type": "markdown",
   "metadata": {
    "application/vnd.databricks.v1+cell": {
     "cellMetadata": {},
     "inputWidgets": {},
     "nuid": "65dd6222-2ae4-41b1-ab3b-eee550cd3ef2",
     "showTitle": false,
     "tableResultSettingsMap": {},
     "title": ""
    }
   },
   "source": [
    "Filter"
   ]
  },
  {
   "cell_type": "code",
   "execution_count": 0,
   "metadata": {
    "application/vnd.databricks.v1+cell": {
     "cellMetadata": {
      "byteLimit": 2048000,
      "rowLimit": 10000
     },
     "inputWidgets": {},
     "nuid": "3768d14c-238c-48f3-930e-352995ff95cd",
     "showTitle": false,
     "tableResultSettingsMap": {},
     "title": ""
    }
   },
   "outputs": [
    {
     "output_type": "stream",
     "name": "stdout",
     "output_type": "stream",
     "text": [
      "Customers with overdue loans:\n+-----------+---+------+-------------------+--------------+-----------+------+-----------+-------------+-------------+-----------+-------+------------+----------------+------------------+\n|Customer_ID|Age|Gender|         Occupation|Marital Status|Family Size|Income|Expenditure|Use Frequency|Loan Category|Loan Amount|Overdue| Debt Record| Returned Cheque| Dishonour of Bill|\n+-----------+---+------+-------------------+--------------+-----------+------+-----------+-------------+-------------+-----------+-------+------------+----------------+------------------+\n|    IB14024| 55|FEMALE|              NURSE|       MARRIED|          6| 34999|      19888|            4|   AUTOMOBILE|     47,787|      1|      50,000|               0|                 3|\n|    IB14037| 54|FEMALE|            TEACHER|       MARRIED|          5| 48099|      19999|            4|  RESTAURANTS|     30,999|      1|      12,000|               7|                 5|\n|    IB14045| 31|  MALE|       STORE KEEPER|        SINGLE|          5| 40999|      11999|            3|  BOOK STORES|  1,67,654 |      1|       4,500|               0|                 1|\n|    IB14078| 45|FEMALE|    FIRE DEPARTMENT|       MARRIED|          4| 40000|      18888|            4|   AUTOMOBILE|     70,000|      1|           0|               2|                 1|\n|    IB14104| 54|  MALE|    AIRPORT OFFICER|       MARRIED|          6| 80000|      32541|            2|   AUTOMOBILE| 20,45,789 |      1|      16,599|               2|                 3|\n|    IB14158| 54|  MALE|    AIRPORT OFFICER|       MARRIED|          6| 80000|      62541|            2|   AUTOMOBILE| 20,45,789 |      1|      16,599|               2|                 3|\n|    IB14176| 54|  MALE|    AIRPORT OFFICER|       MARRIED|          6| 80000|      62541|            2|      HOUSING| 20,45,789 |      1|      16,599|               2|                 3|\n|    IB14194| 55|FEMALE|              NURSE|       MARRIED|          6| 34999|      19888|            4|   TRAVELLING|     47,787|      1|      50,000|               0|                 3|\n|    IB14197| 54|FEMALE|            TEACHER|       MARRIED|          5| 48099|      19999|            4|  RESTAURANTS|    300,999|      1|      12,000|               7|                 5|\n|    IB14204| 54|  MALE|    AIRPORT OFFICER|       MARRIED|          6| 81000|      62541|            2|      DINNING| 20,45,789 |      1|      16,599|               2|                 3|\n|    IB14213| 31|  MALE|       STORE KEEPER|        SINGLE|          5| 40999|      11999|            3|   AUTOMOBILE|  1,67,654 |      1|       4,500|               0|                 1|\n|    IB14221| 31|  MALE|       STORE KEEPER|        SINGLE|          5| 40999|      11999|            3|  BOOK STORES|  1,67,654 |      1|       4,500|               0|                 1|\n|    IB14227| 54|  MALE|    AIRPORT OFFICER|       MARRIED|          6| 80000|      62541|            2|      HOUSING| 20,45,789 |      1|      16,599|               2|                 3|\n|    IB14235| 54|FEMALE|            TEACHER|       MARRIED|          5| 48099|      19999|            4|  RESTAURANTS|     30,999|      1|      12,000|               7|                 5|\n|    IB14242| 55|FEMALE|              NURSE|       MARRIED|          6| 34999|      19888|            4|     SHOPPING|     47,787|      1|      50,000|               0|                 3|\n|    IB14245| 54|FEMALE|            TEACHER|       MARRIED|          5| 48099|      19999|            4|  RESTAURANTS|     30,999|      1|      12,000|               7|                 5|\n|    IB14253| 54|  MALE|    AIRPORT OFFICER|       MARRIED|          6| 80000|      42541|            2|      HOUSING| 20,45,789 |      1|      16,599|               2|                 3|\n|    IB14261| 55|FEMALE|              NURSE|       MARRIED|          6| 34999|      19888|            4|     SHOPPING|     47,787|      1|      50,000|               0|                 3|\n|    IB14265| 54|FEMALE|            TEACHER|       MARRIED|          5| 48099|      19999|            4|  RESTAURANTS|     30,999|      1|      12,000|               7|                 5|\n|    IB14267| 55|FEMALE|ASSISTANT PROFESSOR|       MARRIED|          6| 34999|      19888|            4|     SHOPPING|     47,787|      1|      50,000|               0|                 3|\n+-----------+---+------+-------------------+--------------+-----------+------+-----------+-------------+-------------+-----------+-------+------------+----------------+------------------+\nonly showing top 20 rows\n\n"
     ]
    }
   ],
   "source": [
    "from pyspark.sql.functions import col, avg, sum, count\n",
    "\n",
    "# Filter customers who have overdue loans\n",
    "overdue_loans = loans_df.filter(col(\"Overdue\") == \"1\")\n",
    "\n",
    "# Display the overdue loans\n",
    "print(\"Customers with overdue loans:\")\n",
    "overdue_loans.show()\n",
    "\n"
   ]
  },
  {
   "cell_type": "code",
   "execution_count": 0,
   "metadata": {
    "application/vnd.databricks.v1+cell": {
     "cellMetadata": {
      "byteLimit": 2048000,
      "rowLimit": 10000
     },
     "inputWidgets": {},
     "nuid": "b229ab65-78ba-4df7-beac-77781d26d03d",
     "showTitle": false,
     "tableResultSettingsMap": {},
     "title": ""
    }
   },
   "outputs": [],
   "source": [
    "loans_df = spark.read.csv(\"/FileStore/tables/loan.csv\", header=True, inferSchema=True)\n",
    "\n",
    "# Register the DataFrame as a temporary SQL view\n",
    "loans_df.createOrReplaceTempView(\"loans\")\n"
   ]
  },
  {
   "cell_type": "code",
   "execution_count": 0,
   "metadata": {
    "application/vnd.databricks.v1+cell": {
     "cellMetadata": {
      "byteLimit": 2048000,
      "implicitDf": true,
      "rowLimit": 10000
     },
     "inputWidgets": {},
     "nuid": "fb333b4c-fc43-4375-84aa-9e8a86244d10",
     "showTitle": false,
     "tableResultSettingsMap": {},
     "title": ""
    }
   },
   "outputs": [
    {
     "output_type": "display_data",
     "data": {
      "text/html": [
       "<style scoped>\n",
       "  .table-result-container {\n",
       "    max-height: 300px;\n",
       "    overflow: auto;\n",
       "  }\n",
       "  table, th, td {\n",
       "    border: 1px solid black;\n",
       "    border-collapse: collapse;\n",
       "  }\n",
       "  th, td {\n",
       "    padding: 5px;\n",
       "  }\n",
       "  th {\n",
       "    text-align: left;\n",
       "  }\n",
       "</style><div class='table-result-container'><table class='table-result'><thead style='background-color: white'><tr><th>Customer_ID</th><th>Age</th><th>Gender</th><th>Occupation</th><th>Marital Status</th><th>Family Size</th><th>Income</th><th>Expenditure</th><th>Use Frequency</th><th>Loan Category</th><th>Loan Amount</th><th>Overdue</th><th> Debt Record</th><th> Returned Cheque</th><th> Dishonour of Bill</th></tr></thead><tbody><tr><td>IB14024</td><td>55</td><td>FEMALE</td><td>NURSE</td><td>MARRIED</td><td>6</td><td>34999</td><td>19888</td><td>4</td><td>AUTOMOBILE</td><td>47,787</td><td>1</td><td>50,000</td><td>0</td><td>3</td></tr><tr><td>IB14037</td><td>54</td><td>FEMALE</td><td>TEACHER</td><td>MARRIED</td><td>5</td><td>48099</td><td>19999</td><td>4</td><td>RESTAURANTS</td><td>30,999</td><td>1</td><td>12,000</td><td>7</td><td>5</td></tr><tr><td>IB14045</td><td>31</td><td>MALE</td><td>STORE KEEPER</td><td>SINGLE</td><td>5</td><td>40999</td><td>11999</td><td>3</td><td>BOOK STORES</td><td> 1,67,654 </td><td>1</td><td>4,500</td><td>0</td><td>1</td></tr><tr><td>IB14078</td><td>45</td><td>FEMALE</td><td>FIRE DEPARTMENT</td><td>MARRIED</td><td>4</td><td>40000</td><td>18888</td><td>4</td><td>AUTOMOBILE</td><td>70,000</td><td>1</td><td>0</td><td>2</td><td>1</td></tr><tr><td>IB14104</td><td>54</td><td>MALE</td><td>AIRPORT OFFICER</td><td>MARRIED</td><td>6</td><td>80000</td><td>32541</td><td>2</td><td>AUTOMOBILE</td><td> 20,45,789 </td><td>1</td><td>16,599</td><td>2</td><td>3</td></tr><tr><td>IB14158</td><td>54</td><td>MALE</td><td>AIRPORT OFFICER</td><td>MARRIED</td><td>6</td><td>80000</td><td>62541</td><td>2</td><td>AUTOMOBILE</td><td> 20,45,789 </td><td>1</td><td>16,599</td><td>2</td><td>3</td></tr><tr><td>IB14176</td><td>54</td><td>MALE</td><td>AIRPORT OFFICER</td><td>MARRIED</td><td>6</td><td>80000</td><td>62541</td><td>2</td><td>HOUSING</td><td> 20,45,789 </td><td>1</td><td>16,599</td><td>2</td><td>3</td></tr><tr><td>IB14194</td><td>55</td><td>FEMALE</td><td>NURSE</td><td>MARRIED</td><td>6</td><td>34999</td><td>19888</td><td>4</td><td>TRAVELLING</td><td>47,787</td><td>1</td><td>50,000</td><td>0</td><td>3</td></tr><tr><td>IB14197</td><td>54</td><td>FEMALE</td><td>TEACHER</td><td>MARRIED</td><td>5</td><td>48099</td><td>19999</td><td>4</td><td>RESTAURANTS</td><td>300,999</td><td>1</td><td>12,000</td><td>7</td><td>5</td></tr><tr><td>IB14204</td><td>54</td><td>MALE</td><td>AIRPORT OFFICER</td><td>MARRIED</td><td>6</td><td>81000</td><td>62541</td><td>2</td><td>DINNING</td><td> 20,45,789 </td><td>1</td><td>16,599</td><td>2</td><td>3</td></tr><tr><td>IB14213</td><td>31</td><td>MALE</td><td>STORE KEEPER</td><td>SINGLE</td><td>5</td><td>40999</td><td>11999</td><td>3</td><td>AUTOMOBILE</td><td> 1,67,654 </td><td>1</td><td>4,500</td><td>0</td><td>1</td></tr><tr><td>IB14221</td><td>31</td><td>MALE</td><td>STORE KEEPER</td><td>SINGLE</td><td>5</td><td>40999</td><td>11999</td><td>3</td><td>BOOK STORES</td><td> 1,67,654 </td><td>1</td><td>4,500</td><td>0</td><td>1</td></tr><tr><td>IB14227</td><td>54</td><td>MALE</td><td>AIRPORT OFFICER</td><td>MARRIED</td><td>6</td><td>80000</td><td>62541</td><td>2</td><td>HOUSING</td><td> 20,45,789 </td><td>1</td><td>16,599</td><td>2</td><td>3</td></tr><tr><td>IB14235</td><td>54</td><td>FEMALE</td><td>TEACHER</td><td>MARRIED</td><td>5</td><td>48099</td><td>19999</td><td>4</td><td>RESTAURANTS</td><td>30,999</td><td>1</td><td>12,000</td><td>7</td><td>5</td></tr><tr><td>IB14242</td><td>55</td><td>FEMALE</td><td>NURSE</td><td>MARRIED</td><td>6</td><td>34999</td><td>19888</td><td>4</td><td>SHOPPING</td><td>47,787</td><td>1</td><td>50,000</td><td>0</td><td>3</td></tr><tr><td>IB14245</td><td>54</td><td>FEMALE</td><td>TEACHER</td><td>MARRIED</td><td>5</td><td>48099</td><td>19999</td><td>4</td><td>RESTAURANTS</td><td>30,999</td><td>1</td><td>12,000</td><td>7</td><td>5</td></tr><tr><td>IB14253</td><td>54</td><td>MALE</td><td>AIRPORT OFFICER</td><td>MARRIED</td><td>6</td><td>80000</td><td>42541</td><td>2</td><td>HOUSING</td><td> 20,45,789 </td><td>1</td><td>16,599</td><td>2</td><td>3</td></tr><tr><td>IB14261</td><td>55</td><td>FEMALE</td><td>NURSE</td><td>MARRIED</td><td>6</td><td>34999</td><td>19888</td><td>4</td><td>SHOPPING</td><td>47,787</td><td>1</td><td>50,000</td><td>0</td><td>3</td></tr><tr><td>IB14265</td><td>54</td><td>FEMALE</td><td>TEACHER</td><td>MARRIED</td><td>5</td><td>48099</td><td>19999</td><td>4</td><td>RESTAURANTS</td><td>30,999</td><td>1</td><td>12,000</td><td>7</td><td>5</td></tr><tr><td>IB14267</td><td>55</td><td>FEMALE</td><td>ASSISTANT PROFESSOR</td><td>MARRIED</td><td>6</td><td>34999</td><td>19888</td><td>4</td><td>SHOPPING</td><td>47,787</td><td>1</td><td>50,000</td><td>0</td><td>3</td></tr><tr><td>IB14270</td><td>54</td><td>FEMALE</td><td>TEACHER</td><td>MARRIED</td><td>5</td><td>48099</td><td>19999</td><td>4</td><td>RESTAURANTS</td><td>30,999</td><td>1</td><td>12,000</td><td>7</td><td>5</td></tr><tr><td>IB14287</td><td>31</td><td>MALE</td><td>STORE KEEPER</td><td>SINGLE</td><td>5</td><td>40999</td><td>11999</td><td>3</td><td>BOOK STORES</td><td> 1,67,654 </td><td>1</td><td>4,500</td><td>0</td><td>1</td></tr><tr><td>IB14289</td><td>55</td><td>FEMALE</td><td>NURSE</td><td>MARRIED</td><td>6</td><td>34999</td><td>19888</td><td>4</td><td>HOUSING</td><td> 4,77,870 </td><td>1</td><td>50,000</td><td>0</td><td>3</td></tr><tr><td>IB14293</td><td>54</td><td>FEMALE</td><td>TEACHER</td><td>MARRIED</td><td>5</td><td>48099</td><td>19999</td><td>4</td><td>TRAVELLING</td><td>30,999</td><td>1</td><td>12,000</td><td>7</td><td>5</td></tr><tr><td>IB14299</td><td>54</td><td>MALE</td><td>AIRPORT OFFICER</td><td>MARRIED</td><td>6</td><td>80000</td><td>39541</td><td>2</td><td>HOUSING</td><td> 20,45,789 </td><td>1</td><td>16,599</td><td>2</td><td>3</td></tr><tr><td>IB14339</td><td>50</td><td>MALE</td><td>STORE KEEPER</td><td>MARRIED</td><td>6</td><td>35918</td><td>19202</td><td>5</td><td>SHOPPING</td><td>612,770</td><td>1</td><td>31774</td><td>9</td><td>4</td></tr><tr><td>IB14369</td><td>37</td><td>FEMALE</td><td>DOCTOR</td><td>MARRIED</td><td>5</td><td>57453</td><td>null</td><td>6</td><td>TRAVELLING</td><td>462,585</td><td>1</td><td>72488</td><td>9</td><td>8</td></tr><tr><td>IB14373</td><td>31</td><td>MALE</td><td>CLERK</td><td>MARRIED</td><td>4</td><td>32714</td><td>23632</td><td>6</td><td>GOLD LOAN</td><td>914,249</td><td>1</td><td>36394</td><td>0</td><td>0</td></tr><tr><td>IB14377</td><td>54</td><td>MALE</td><td>FIRE DEPARTMENT</td><td>MARRIED</td><td>2</td><td>80000</td><td>25318</td><td>8</td><td>SHOPPING</td><td>660,937</td><td>1</td><td>28195</td><td>7</td><td>6</td></tr><tr><td>IB14383</td><td>56</td><td>MALE</td><td>PRODUCT ENGINEER</td><td>MARRIED</td><td>5</td><td>44130</td><td>27092</td><td>8</td><td>SHOPPING</td><td>426,730</td><td>1</td><td>76010</td><td>9</td><td>0</td></tr><tr><td>IB14384</td><td>25</td><td>MALE</td><td>TEACHER</td><td>MARRIED</td><td>7</td><td>64528</td><td>21231</td><td>5</td><td>TRAVELLING</td><td>506,450</td><td>1</td><td>64918</td><td>5</td><td>3</td></tr><tr><td>IB14400</td><td>35</td><td>MALE</td><td>DENTIST</td><td>MARRIED</td><td>5</td><td>36742</td><td>18767</td><td>8</td><td>COMPUTER SOFTWARES</td><td>594,320</td><td>1</td><td>31082</td><td>8</td><td>8</td></tr><tr><td>IB14413</td><td>36</td><td>MALE</td><td>SYSTEM MANAGER</td><td>MARRIED</td><td>5</td><td>69163</td><td>29339</td><td>4</td><td>HOME APPLIANCES</td><td>740,836</td><td>1</td><td>67935</td><td>6</td><td>5</td></tr><tr><td>IB14418</td><td>40</td><td>FEMALE</td><td>TEACHER</td><td>MARRIED</td><td>6</td><td>77627</td><td>null</td><td>8</td><td>TRAVELLING</td><td>800,400</td><td>1</td><td>19990</td><td>4</td><td>0</td></tr><tr><td>IB14430</td><td>39</td><td>FEMALE</td><td>NURSE</td><td>MARRIED</td><td>5</td><td>43323</td><td>27877</td><td>8</td><td>TRAVELLING</td><td>841,365</td><td>1</td><td>56142</td><td>5</td><td>4</td></tr><tr><td>IB14483</td><td>39</td><td>MALE</td><td>TEACHER</td><td>MARRIED</td><td>7</td><td>30801</td><td>23025</td><td>5</td><td>AUTOMOBILE</td><td>745,310</td><td>1</td><td>60509</td><td>9</td><td>4</td></tr><tr><td>IB14486</td><td>51</td><td>FEMALE</td><td>BANK MANAGER</td><td>MARRIED</td><td>6</td><td>57697</td><td>15734</td><td>5</td><td>HOME APPLIANCES</td><td>653,065</td><td>1</td><td>16304</td><td>6</td><td>7</td></tr><tr><td>IB14510</td><td>24</td><td>MALE</td><td>AIRPORT OFFICER</td><td>SINGLE</td><td>4</td><td>67445</td><td>23826</td><td>8</td><td>HOME APPLIANCES</td><td>515,970</td><td>1</td><td>79454</td><td>6</td><td>2</td></tr><tr><td>IB14519</td><td>54</td><td>FEMALE</td><td>TEACHER</td><td>MARRIED</td><td>6</td><td>45916</td><td>17535</td><td>5</td><td>COMPUTER SOFTWARES</td><td>738,313</td><td>1</td><td>86160</td><td>7</td><td>9</td></tr><tr><td>IB14533</td><td>55</td><td>FEMALE</td><td>TEACHER</td><td>MARRIED</td><td>3</td><td>34275</td><td>29967</td><td>7</td><td>BOOK STORES</td><td>1,021,994</td><td>1</td><td>39955</td><td>1</td><td>9</td></tr><tr><td>IB14574</td><td>36</td><td>FEMALE</td><td>DOCTOR</td><td>MARRIED</td><td>3</td><td>66820</td><td>22222</td><td>6</td><td>BUSINESS</td><td>752,716</td><td>1</td><td>44979</td><td>4</td><td>4</td></tr><tr><td>IB14601</td><td>44</td><td>MALE</td><td>POLICE</td><td>SINGLE</td><td>5</td><td>71214</td><td>12463</td><td>8</td><td>RESTAURANTS</td><td>910,960</td><td>1</td><td>70423</td><td>2</td><td>8</td></tr><tr><td>IB14615</td><td>59</td><td>MALE</td><td>DENTIST</td><td>MARRIED</td><td>5</td><td>81507</td><td>25958</td><td>3</td><td>AGRICULTURE</td><td>831,263</td><td>1</td><td>63833</td><td>8</td><td>7</td></tr><tr><td>IB14623</td><td>39</td><td>MALE</td><td>DATA ENGINEER</td><td>SINGLE</td><td>2</td><td>74264</td><td>37747</td><td>5</td><td>RESTAURANTS</td><td>321,040</td><td>1</td><td>55582</td><td>1</td><td>9</td></tr><tr><td>IB14667</td><td>30</td><td>MALE</td><td>AGRICULTURAL ENGINEER</td><td>SINGLE</td><td>6</td><td>85289</td><td>49481</td><td>3</td><td>HOUSING</td><td>679,588</td><td>1</td><td>21091</td><td>3</td><td>3</td></tr><tr><td>IB14686</td><td>59</td><td>MALE</td><td>BUSINESS</td><td>MARRIED</td><td>6</td><td>37585</td><td>36062</td><td>4</td><td>GOLD LOAN</td><td>1,672,628</td><td>1</td><td>13765</td><td>9</td><td>0</td></tr><tr><td>IB14736</td><td>38</td><td>FEMALE</td><td>ACCOUNTANT</td><td>SINGLE</td><td>5</td><td>75290</td><td>35549</td><td>9</td><td>HOUSING</td><td>1,522,824</td><td>1</td><td>71187</td><td>7</td><td>2</td></tr><tr><td>IB14741</td><td>34</td><td>FEMALE</td><td>CLERK</td><td>SINGLE</td><td>6</td><td>47550</td><td>25286</td><td>6</td><td>HOUSING</td><td>696,818</td><td>1</td><td>49464</td><td>0</td><td>4</td></tr><tr><td>IB14795</td><td>54</td><td>FEMALE</td><td>TEACHER</td><td>SINGLE</td><td>7</td><td>53832</td><td>18748</td><td>4</td><td>GOLD LOAN</td><td>1,503,911</td><td>1</td><td>50787</td><td>9</td><td>1</td></tr><tr><td>IB14799</td><td>52</td><td>FEMALE</td><td>NAVY</td><td>MARRIED</td><td>4</td><td>80188</td><td>28352</td><td>3</td><td>GOLD LOAN</td><td>959,366</td><td>1</td><td>20815</td><td>2</td><td>0</td></tr><tr><td>IB14809</td><td>28</td><td>FEMALE</td><td>ACCOUNTANT</td><td>SINGLE</td><td>3</td><td>76844</td><td>27358</td><td>7</td><td>RESTAURANT</td><td>1,582,924</td><td>1</td><td>73033</td><td>2</td><td>1</td></tr><tr><td>IB14817</td><td>38</td><td>FEMALE</td><td>EXECUTIVE</td><td>MARRIED</td><td>5</td><td>78167</td><td>33036</td><td>4</td><td>BUSINESS</td><td>1,447,560</td><td>1</td><td>20435</td><td>7</td><td>5</td></tr><tr><td>IB14839</td><td>54</td><td>FEMALE</td><td>TECHNICIAN</td><td>SINGLE</td><td>5</td><td>34721</td><td>14789</td><td>2</td><td>TRAVELLING</td><td>332,838</td><td>1</td><td>67426</td><td>0</td><td>3</td></tr><tr><td>IB14883</td><td>59</td><td>MALE</td><td>AGRICULTURAL ENGINEER</td><td>SINGLE</td><td>5</td><td>72052</td><td>45311</td><td>4</td><td>HOME APPLIANCES</td><td>576,136</td><td>1</td><td>75822</td><td>1</td><td>6</td></tr><tr><td>IB14892</td><td>42</td><td>MALE</td><td>TECHNICIAN</td><td>MARRIED</td><td>6</td><td>80241</td><td>41526</td><td>8</td><td>AUTOMOBILE</td><td>1,599,511</td><td>1</td><td>87885</td><td>0</td><td>6</td></tr><tr><td>IB14900</td><td>35</td><td>MALE</td><td>TEACHER</td><td>MARRIED</td><td>5</td><td>null</td><td>26535</td><td>3</td><td>HOUSING</td><td>626,586</td><td>1</td><td>56137</td><td>3</td><td>3</td></tr><tr><td>IB14958</td><td>39</td><td>MALE</td><td>TEACHER</td><td>MARRIED</td><td>7</td><td>40801</td><td>26025</td><td>5</td><td>AUTOMOBILE</td><td>745,310</td><td>1</td><td>50509</td><td>9</td><td>4</td></tr><tr><td>IB14960</td><td>51</td><td>FEMALE</td><td>BANK MANAGER</td><td>MARRIED</td><td>6</td><td>58697</td><td>35734</td><td>5</td><td>HOME APPLIANCES</td><td>853,065</td><td>1</td><td>16304</td><td>6</td><td>7</td></tr><tr><td>IB14982</td><td>36</td><td>FEMALE</td><td>DOCTOR</td><td>MARRIED</td><td>3</td><td>76820</td><td>27222</td><td>6</td><td>BUSINESS</td><td>652,716</td><td>1</td><td>44979</td><td>4</td><td>4</td></tr><tr><td>IB15048</td><td>55</td><td>FEMALE</td><td>NURSE</td><td>MARRIED</td><td>6</td><td>38999</td><td>24888</td><td>4</td><td>SHOPPING</td><td>47,787</td><td>1</td><td>50,000</td><td>0</td><td>3</td></tr><tr><td>IB15055</td><td>54</td><td>FEMALE</td><td>TEACHER</td><td>MARRIED</td><td>5</td><td>50099</td><td>29999</td><td>4</td><td>RESTAURANTS</td><td>30,999</td><td>1</td><td>12,000</td><td>7</td><td>5</td></tr><tr><td>IB15057</td><td>55</td><td>FEMALE</td><td>ASSISTANT PROFESSOR</td><td>MARRIED</td><td>6</td><td>54999</td><td>25888</td><td>4</td><td>SHOPPING</td><td>47,787</td><td>1</td><td>50,000</td><td>0</td><td>3</td></tr><tr><td>IB15062</td><td>54</td><td>FEMALE</td><td>TEACHER</td><td>MARRIED</td><td>5</td><td>45099</td><td>21999</td><td>4</td><td>RESTAURANTS</td><td>30,999</td><td>1</td><td>12,000</td><td>7</td><td>5</td></tr></tbody></table></div>"
      ]
     },
     "metadata": {
      "application/vnd.databricks.v1+output": {
       "addedWidgets": {},
       "aggData": [],
       "aggError": "",
       "aggOverflow": false,
       "aggSchema": [],
       "aggSeriesLimitReached": false,
       "aggType": "",
       "arguments": {},
       "columnCustomDisplayInfos": {},
       "data": [
        [
         "IB14024",
         55,
         "FEMALE",
         "NURSE",
         "MARRIED",
         6,
         34999,
         19888,
         4,
         "AUTOMOBILE",
         "47,787",
         1,
         "50,000",
         0,
         3
        ],
        [
         "IB14037",
         54,
         "FEMALE",
         "TEACHER",
         "MARRIED",
         5,
         48099,
         19999,
         4,
         "RESTAURANTS",
         "30,999",
         1,
         "12,000",
         7,
         5
        ],
        [
         "IB14045",
         31,
         "MALE",
         "STORE KEEPER",
         "SINGLE",
         5,
         40999,
         11999,
         3,
         "BOOK STORES",
         " 1,67,654 ",
         1,
         "4,500",
         0,
         1
        ],
        [
         "IB14078",
         45,
         "FEMALE",
         "FIRE DEPARTMENT",
         "MARRIED",
         4,
         40000,
         18888,
         4,
         "AUTOMOBILE",
         "70,000",
         1,
         "0",
         2,
         1
        ],
        [
         "IB14104",
         54,
         "MALE",
         "AIRPORT OFFICER",
         "MARRIED",
         6,
         80000,
         32541,
         2,
         "AUTOMOBILE",
         " 20,45,789 ",
         1,
         "16,599",
         2,
         3
        ],
        [
         "IB14158",
         54,
         "MALE",
         "AIRPORT OFFICER",
         "MARRIED",
         6,
         80000,
         62541,
         2,
         "AUTOMOBILE",
         " 20,45,789 ",
         1,
         "16,599",
         2,
         3
        ],
        [
         "IB14176",
         54,
         "MALE",
         "AIRPORT OFFICER",
         "MARRIED",
         6,
         80000,
         62541,
         2,
         "HOUSING",
         " 20,45,789 ",
         1,
         "16,599",
         2,
         3
        ],
        [
         "IB14194",
         55,
         "FEMALE",
         "NURSE",
         "MARRIED",
         6,
         34999,
         19888,
         4,
         "TRAVELLING",
         "47,787",
         1,
         "50,000",
         0,
         3
        ],
        [
         "IB14197",
         54,
         "FEMALE",
         "TEACHER",
         "MARRIED",
         5,
         48099,
         19999,
         4,
         "RESTAURANTS",
         "300,999",
         1,
         "12,000",
         7,
         5
        ],
        [
         "IB14204",
         54,
         "MALE",
         "AIRPORT OFFICER",
         "MARRIED",
         6,
         81000,
         62541,
         2,
         "DINNING",
         " 20,45,789 ",
         1,
         "16,599",
         2,
         3
        ],
        [
         "IB14213",
         31,
         "MALE",
         "STORE KEEPER",
         "SINGLE",
         5,
         40999,
         11999,
         3,
         "AUTOMOBILE",
         " 1,67,654 ",
         1,
         "4,500",
         0,
         1
        ],
        [
         "IB14221",
         31,
         "MALE",
         "STORE KEEPER",
         "SINGLE",
         5,
         40999,
         11999,
         3,
         "BOOK STORES",
         " 1,67,654 ",
         1,
         "4,500",
         0,
         1
        ],
        [
         "IB14227",
         54,
         "MALE",
         "AIRPORT OFFICER",
         "MARRIED",
         6,
         80000,
         62541,
         2,
         "HOUSING",
         " 20,45,789 ",
         1,
         "16,599",
         2,
         3
        ],
        [
         "IB14235",
         54,
         "FEMALE",
         "TEACHER",
         "MARRIED",
         5,
         48099,
         19999,
         4,
         "RESTAURANTS",
         "30,999",
         1,
         "12,000",
         7,
         5
        ],
        [
         "IB14242",
         55,
         "FEMALE",
         "NURSE",
         "MARRIED",
         6,
         34999,
         19888,
         4,
         "SHOPPING",
         "47,787",
         1,
         "50,000",
         0,
         3
        ],
        [
         "IB14245",
         54,
         "FEMALE",
         "TEACHER",
         "MARRIED",
         5,
         48099,
         19999,
         4,
         "RESTAURANTS",
         "30,999",
         1,
         "12,000",
         7,
         5
        ],
        [
         "IB14253",
         54,
         "MALE",
         "AIRPORT OFFICER",
         "MARRIED",
         6,
         80000,
         42541,
         2,
         "HOUSING",
         " 20,45,789 ",
         1,
         "16,599",
         2,
         3
        ],
        [
         "IB14261",
         55,
         "FEMALE",
         "NURSE",
         "MARRIED",
         6,
         34999,
         19888,
         4,
         "SHOPPING",
         "47,787",
         1,
         "50,000",
         0,
         3
        ],
        [
         "IB14265",
         54,
         "FEMALE",
         "TEACHER",
         "MARRIED",
         5,
         48099,
         19999,
         4,
         "RESTAURANTS",
         "30,999",
         1,
         "12,000",
         7,
         5
        ],
        [
         "IB14267",
         55,
         "FEMALE",
         "ASSISTANT PROFESSOR",
         "MARRIED",
         6,
         34999,
         19888,
         4,
         "SHOPPING",
         "47,787",
         1,
         "50,000",
         0,
         3
        ],
        [
         "IB14270",
         54,
         "FEMALE",
         "TEACHER",
         "MARRIED",
         5,
         48099,
         19999,
         4,
         "RESTAURANTS",
         "30,999",
         1,
         "12,000",
         7,
         5
        ],
        [
         "IB14287",
         31,
         "MALE",
         "STORE KEEPER",
         "SINGLE",
         5,
         40999,
         11999,
         3,
         "BOOK STORES",
         " 1,67,654 ",
         1,
         "4,500",
         0,
         1
        ],
        [
         "IB14289",
         55,
         "FEMALE",
         "NURSE",
         "MARRIED",
         6,
         34999,
         19888,
         4,
         "HOUSING",
         " 4,77,870 ",
         1,
         "50,000",
         0,
         3
        ],
        [
         "IB14293",
         54,
         "FEMALE",
         "TEACHER",
         "MARRIED",
         5,
         48099,
         19999,
         4,
         "TRAVELLING",
         "30,999",
         1,
         "12,000",
         7,
         5
        ],
        [
         "IB14299",
         54,
         "MALE",
         "AIRPORT OFFICER",
         "MARRIED",
         6,
         80000,
         39541,
         2,
         "HOUSING",
         " 20,45,789 ",
         1,
         "16,599",
         2,
         3
        ],
        [
         "IB14339",
         50,
         "MALE",
         "STORE KEEPER",
         "MARRIED",
         6,
         35918,
         19202,
         5,
         "SHOPPING",
         "612,770",
         1,
         "31774",
         9,
         4
        ],
        [
         "IB14369",
         37,
         "FEMALE",
         "DOCTOR",
         "MARRIED",
         5,
         57453,
         null,
         6,
         "TRAVELLING",
         "462,585",
         1,
         "72488",
         9,
         8
        ],
        [
         "IB14373",
         31,
         "MALE",
         "CLERK",
         "MARRIED",
         4,
         32714,
         23632,
         6,
         "GOLD LOAN",
         "914,249",
         1,
         "36394",
         0,
         0
        ],
        [
         "IB14377",
         54,
         "MALE",
         "FIRE DEPARTMENT",
         "MARRIED",
         2,
         80000,
         25318,
         8,
         "SHOPPING",
         "660,937",
         1,
         "28195",
         7,
         6
        ],
        [
         "IB14383",
         56,
         "MALE",
         "PRODUCT ENGINEER",
         "MARRIED",
         5,
         44130,
         27092,
         8,
         "SHOPPING",
         "426,730",
         1,
         "76010",
         9,
         0
        ],
        [
         "IB14384",
         25,
         "MALE",
         "TEACHER",
         "MARRIED",
         7,
         64528,
         21231,
         5,
         "TRAVELLING",
         "506,450",
         1,
         "64918",
         5,
         3
        ],
        [
         "IB14400",
         35,
         "MALE",
         "DENTIST",
         "MARRIED",
         5,
         36742,
         18767,
         8,
         "COMPUTER SOFTWARES",
         "594,320",
         1,
         "31082",
         8,
         8
        ],
        [
         "IB14413",
         36,
         "MALE",
         "SYSTEM MANAGER",
         "MARRIED",
         5,
         69163,
         29339,
         4,
         "HOME APPLIANCES",
         "740,836",
         1,
         "67935",
         6,
         5
        ],
        [
         "IB14418",
         40,
         "FEMALE",
         "TEACHER",
         "MARRIED",
         6,
         77627,
         null,
         8,
         "TRAVELLING",
         "800,400",
         1,
         "19990",
         4,
         0
        ],
        [
         "IB14430",
         39,
         "FEMALE",
         "NURSE",
         "MARRIED",
         5,
         43323,
         27877,
         8,
         "TRAVELLING",
         "841,365",
         1,
         "56142",
         5,
         4
        ],
        [
         "IB14483",
         39,
         "MALE",
         "TEACHER",
         "MARRIED",
         7,
         30801,
         23025,
         5,
         "AUTOMOBILE",
         "745,310",
         1,
         "60509",
         9,
         4
        ],
        [
         "IB14486",
         51,
         "FEMALE",
         "BANK MANAGER",
         "MARRIED",
         6,
         57697,
         15734,
         5,
         "HOME APPLIANCES",
         "653,065",
         1,
         "16304",
         6,
         7
        ],
        [
         "IB14510",
         24,
         "MALE",
         "AIRPORT OFFICER",
         "SINGLE",
         4,
         67445,
         23826,
         8,
         "HOME APPLIANCES",
         "515,970",
         1,
         "79454",
         6,
         2
        ],
        [
         "IB14519",
         54,
         "FEMALE",
         "TEACHER",
         "MARRIED",
         6,
         45916,
         17535,
         5,
         "COMPUTER SOFTWARES",
         "738,313",
         1,
         "86160",
         7,
         9
        ],
        [
         "IB14533",
         55,
         "FEMALE",
         "TEACHER",
         "MARRIED",
         3,
         34275,
         29967,
         7,
         "BOOK STORES",
         "1,021,994",
         1,
         "39955",
         1,
         9
        ],
        [
         "IB14574",
         36,
         "FEMALE",
         "DOCTOR",
         "MARRIED",
         3,
         66820,
         22222,
         6,
         "BUSINESS",
         "752,716",
         1,
         "44979",
         4,
         4
        ],
        [
         "IB14601",
         44,
         "MALE",
         "POLICE",
         "SINGLE",
         5,
         71214,
         12463,
         8,
         "RESTAURANTS",
         "910,960",
         1,
         "70423",
         2,
         8
        ],
        [
         "IB14615",
         59,
         "MALE",
         "DENTIST",
         "MARRIED",
         5,
         81507,
         25958,
         3,
         "AGRICULTURE",
         "831,263",
         1,
         "63833",
         8,
         7
        ],
        [
         "IB14623",
         39,
         "MALE",
         "DATA ENGINEER",
         "SINGLE",
         2,
         74264,
         37747,
         5,
         "RESTAURANTS",
         "321,040",
         1,
         "55582",
         1,
         9
        ],
        [
         "IB14667",
         30,
         "MALE",
         "AGRICULTURAL ENGINEER",
         "SINGLE",
         6,
         85289,
         49481,
         3,
         "HOUSING",
         "679,588",
         1,
         "21091",
         3,
         3
        ],
        [
         "IB14686",
         59,
         "MALE",
         "BUSINESS",
         "MARRIED",
         6,
         37585,
         36062,
         4,
         "GOLD LOAN",
         "1,672,628",
         1,
         "13765",
         9,
         0
        ],
        [
         "IB14736",
         38,
         "FEMALE",
         "ACCOUNTANT",
         "SINGLE",
         5,
         75290,
         35549,
         9,
         "HOUSING",
         "1,522,824",
         1,
         "71187",
         7,
         2
        ],
        [
         "IB14741",
         34,
         "FEMALE",
         "CLERK",
         "SINGLE",
         6,
         47550,
         25286,
         6,
         "HOUSING",
         "696,818",
         1,
         "49464",
         0,
         4
        ],
        [
         "IB14795",
         54,
         "FEMALE",
         "TEACHER",
         "SINGLE",
         7,
         53832,
         18748,
         4,
         "GOLD LOAN",
         "1,503,911",
         1,
         "50787",
         9,
         1
        ],
        [
         "IB14799",
         52,
         "FEMALE",
         "NAVY",
         "MARRIED",
         4,
         80188,
         28352,
         3,
         "GOLD LOAN",
         "959,366",
         1,
         "20815",
         2,
         0
        ],
        [
         "IB14809",
         28,
         "FEMALE",
         "ACCOUNTANT",
         "SINGLE",
         3,
         76844,
         27358,
         7,
         "RESTAURANT",
         "1,582,924",
         1,
         "73033",
         2,
         1
        ],
        [
         "IB14817",
         38,
         "FEMALE",
         "EXECUTIVE",
         "MARRIED",
         5,
         78167,
         33036,
         4,
         "BUSINESS",
         "1,447,560",
         1,
         "20435",
         7,
         5
        ],
        [
         "IB14839",
         54,
         "FEMALE",
         "TECHNICIAN",
         "SINGLE",
         5,
         34721,
         14789,
         2,
         "TRAVELLING",
         "332,838",
         1,
         "67426",
         0,
         3
        ],
        [
         "IB14883",
         59,
         "MALE",
         "AGRICULTURAL ENGINEER",
         "SINGLE",
         5,
         72052,
         45311,
         4,
         "HOME APPLIANCES",
         "576,136",
         1,
         "75822",
         1,
         6
        ],
        [
         "IB14892",
         42,
         "MALE",
         "TECHNICIAN",
         "MARRIED",
         6,
         80241,
         41526,
         8,
         "AUTOMOBILE",
         "1,599,511",
         1,
         "87885",
         0,
         6
        ],
        [
         "IB14900",
         35,
         "MALE",
         "TEACHER",
         "MARRIED",
         5,
         null,
         26535,
         3,
         "HOUSING",
         "626,586",
         1,
         "56137",
         3,
         3
        ],
        [
         "IB14958",
         39,
         "MALE",
         "TEACHER",
         "MARRIED",
         7,
         40801,
         26025,
         5,
         "AUTOMOBILE",
         "745,310",
         1,
         "50509",
         9,
         4
        ],
        [
         "IB14960",
         51,
         "FEMALE",
         "BANK MANAGER",
         "MARRIED",
         6,
         58697,
         35734,
         5,
         "HOME APPLIANCES",
         "853,065",
         1,
         "16304",
         6,
         7
        ],
        [
         "IB14982",
         36,
         "FEMALE",
         "DOCTOR",
         "MARRIED",
         3,
         76820,
         27222,
         6,
         "BUSINESS",
         "652,716",
         1,
         "44979",
         4,
         4
        ],
        [
         "IB15048",
         55,
         "FEMALE",
         "NURSE",
         "MARRIED",
         6,
         38999,
         24888,
         4,
         "SHOPPING",
         "47,787",
         1,
         "50,000",
         0,
         3
        ],
        [
         "IB15055",
         54,
         "FEMALE",
         "TEACHER",
         "MARRIED",
         5,
         50099,
         29999,
         4,
         "RESTAURANTS",
         "30,999",
         1,
         "12,000",
         7,
         5
        ],
        [
         "IB15057",
         55,
         "FEMALE",
         "ASSISTANT PROFESSOR",
         "MARRIED",
         6,
         54999,
         25888,
         4,
         "SHOPPING",
         "47,787",
         1,
         "50,000",
         0,
         3
        ],
        [
         "IB15062",
         54,
         "FEMALE",
         "TEACHER",
         "MARRIED",
         5,
         45099,
         21999,
         4,
         "RESTAURANTS",
         "30,999",
         1,
         "12,000",
         7,
         5
        ]
       ],
       "datasetInfos": [],
       "dbfsResultPath": null,
       "isJsonSchema": true,
       "metadata": {},
       "overflow": false,
       "plotOptions": {
        "customPlotOptions": {},
        "displayType": "table",
        "pivotAggregation": null,
        "pivotColumns": null,
        "xColumns": null,
        "yColumns": null
       },
       "removedWidgets": [],
       "schema": [
        {
         "metadata": "{}",
         "name": "Customer_ID",
         "type": "\"string\""
        },
        {
         "metadata": "{}",
         "name": "Age",
         "type": "\"integer\""
        },
        {
         "metadata": "{}",
         "name": "Gender",
         "type": "\"string\""
        },
        {
         "metadata": "{}",
         "name": "Occupation",
         "type": "\"string\""
        },
        {
         "metadata": "{}",
         "name": "Marital Status",
         "type": "\"string\""
        },
        {
         "metadata": "{}",
         "name": "Family Size",
         "type": "\"integer\""
        },
        {
         "metadata": "{}",
         "name": "Income",
         "type": "\"integer\""
        },
        {
         "metadata": "{}",
         "name": "Expenditure",
         "type": "\"integer\""
        },
        {
         "metadata": "{}",
         "name": "Use Frequency",
         "type": "\"integer\""
        },
        {
         "metadata": "{}",
         "name": "Loan Category",
         "type": "\"string\""
        },
        {
         "metadata": "{}",
         "name": "Loan Amount",
         "type": "\"string\""
        },
        {
         "metadata": "{}",
         "name": "Overdue",
         "type": "\"integer\""
        },
        {
         "metadata": "{}",
         "name": " Debt Record",
         "type": "\"string\""
        },
        {
         "metadata": "{}",
         "name": " Returned Cheque",
         "type": "\"integer\""
        },
        {
         "metadata": "{}",
         "name": " Dishonour of Bill",
         "type": "\"integer\""
        }
       ],
       "type": "table"
      }
     },
     "output_type": "display_data"
    }
   ],
   "source": [
    "%sql\n",
    "-- Filter customers who have overdue loans\n",
    "SELECT *\n",
    "FROM loans\n",
    "WHERE Overdue = '1'\n"
   ]
  },
  {
   "cell_type": "markdown",
   "metadata": {
    "application/vnd.databricks.v1+cell": {
     "cellMetadata": {},
     "inputWidgets": {},
     "nuid": "3834e721-dc80-42d5-9101-8e059a03fa88",
     "showTitle": false,
     "tableResultSettingsMap": {},
     "title": ""
    }
   },
   "source": [
    "Filter with Multiple Conditions"
   ]
  },
  {
   "cell_type": "code",
   "execution_count": 0,
   "metadata": {
    "application/vnd.databricks.v1+cell": {
     "cellMetadata": {
      "byteLimit": 2048000,
      "rowLimit": 10000
     },
     "inputWidgets": {},
     "nuid": "82c78588-b090-4f6d-831c-98af0566323b",
     "showTitle": false,
     "tableResultSettingsMap": {},
     "title": ""
    }
   },
   "outputs": [
    {
     "output_type": "stream",
     "name": "stdout",
     "output_type": "stream",
     "text": [
      "Single customers with high income:\n+-----------+---+------+-----------------+--------------+-----------+------+-----------+-------------+-------------+-----------+-------+------------+----------------+------------------+\n|Customer_ID|Age|Gender|       Occupation|Marital Status|Family Size|Income|Expenditure|Use Frequency|Loan Category|Loan Amount|Overdue| Debt Record| Returned Cheque| Dishonour of Bill|\n+-----------+---+------+-----------------+--------------+-----------+------+-----------+-------------+-------------+-----------+-------+------------+----------------+------------------+\n|    IB14001| 30|  MALE|     BANK MANAGER|        SINGLE|          4| 50000|      22199|            6|      HOUSING| 10,00,000 |      5|      42,898|               6|                 9|\n|    IB14012| 30|FEMALE|          DENTIST|        SINGLE|          3| 58450|      27675|            5|   TRAVELLING|     75,000|      6|      20,876|               3|                 1|\n|    IB14022| 34|  MALE|           POLICE|        SINGLE|          4| 43521|      11999|            3|   AUTOMOBILE|  2,00,000 |      2|      43,898|               1|                 2|\n|    IB14029| 24|FEMALE|          TEACHER|        SINGLE|          3| 45008|      17454|            4|   AUTOMOBILE|  3,99,435 |      9|      51,987|               4|                 7|\n|    IB14032| 24|  MALE|     DATA ANALYST|        SINGLE|          4| 60111|      28999|            6|   AUTOMOBILE|     35,232|      5|      33,333|               1|                 2|\n|    IB14042| 25|FEMALE|           DOCTOR|        SINGLE|          4| 60111|      27111|            5|   TRAVELLING| 12,90,929 |      4|      18,000|               1|                 0|\n|    IB14045| 31|  MALE|     STORE KEEPER|        SINGLE|          5| 40999|      11999|            3|  BOOK STORES|  1,67,654 |      1|       4,500|               0|                 1|\n|    IB14057| 25|  MALE|  AIRPORT OFFICER|        SINGLE|          4| 40000|      18888|            3|  RESTAURANTS|  4,00,000 |      8|      11,111|               1|                 7|\n|    IB14079| 25|  MALE|            CLERK|        SINGLE|          3| 35000|       9000|            2|    GOLD LOAN|  1,00,000 |      3|      12,584|               1|                 2|\n|    IB14089| 25|  MALE|        PROFESSOR|        SINGLE|          5| 62145|      31254|            4|  BOOK STORES| 12,45,789 |      6|      48,596|               6|                 5|\n|    1B14093| 21|FEMALE|          MANAGER|        SINGLE|          3| 42516|      24567|            7|   AUTOMOBILE| 25,69,874 |      8|      89,652|               2|                 3|\n|    IB14138| 27|FEMALE|SOFTWARE ENGINEER|        SINGLE|          4| 40000|      22000|            4|    GOLD LOAN|  4,00,000 |      4|      15,647|               5|                 3|\n|    IBI4155| 24|FEMALE|SOFTWARE ENGINEER|        SINGLE|          4| 55680|      29000|            5|   AUTOMOBILE|  7,89,000 |      5|      24,000|               6|                 4|\n|    IB14179| 24|FEMALE|          TEACHER|        SINGLE|          3| 45008|      17454|            4|   AUTOMOBILE|  3,99,435 |      9|      51,987|               4|                 7|\n|    IB14184| 24|  MALE|     DATA ANALYST|        SINGLE|          4| 60111|      28999|            6|  RESTAURANTS|     35,232|      5|      33,333|               1|                 2|\n|    IB14187| 30|FEMALE|          DENTIST|        SINGLE|          3| 58450|      27675|            5|   TRAVELLING|     75,000|      6|      20,876|               3|                 1|\n|    IB14191| 34|  MALE|           POLICE|        SINGLE|          4| 44521|      11999|            3|   AUTOMOBILE|  2,00,000 |      2|      43,898|               1|                 2|\n|    IB14213| 31|  MALE|     STORE KEEPER|        SINGLE|          5| 40999|      11999|            3|   AUTOMOBILE|  1,67,654 |      1|       4,500|               0|                 1|\n|    IB14216| 24|  MALE|     DATA ANALYST|        SINGLE|          4| 60111|      28999|            6|  RESTAURANTS|     35,232|      5|      33,333|               1|                 2|\n|    IB14220| 30|FEMALE|          DENTIST|        SINGLE|          3| 58450|      27675|            5|   TRAVELLING|     75,000|      6|      20,876|               3|                 1|\n+-----------+---+------+-----------------+--------------+-----------+------+-----------+-------------+-------------+-----------+-------+------------+----------------+------------------+\nonly showing top 20 rows\n\n"
     ]
    }
   ],
   "source": [
    "# Filter for single customers with income > 5000\n",
    "single_high_income_customers = loans_df.filter(\n",
    "    (col(\"Marital Status\") == \"SINGLE\") & (col(\"Income\") > 5000)\n",
    ")\n",
    "\n",
    "# Display the result\n",
    "print(\"Single customers with high income:\")\n",
    "single_high_income_customers.show()\n"
   ]
  },
  {
   "cell_type": "code",
   "execution_count": 0,
   "metadata": {
    "application/vnd.databricks.v1+cell": {
     "cellMetadata": {
      "byteLimit": 2048000,
      "implicitDf": true,
      "rowLimit": 10000
     },
     "inputWidgets": {},
     "nuid": "6bf519cd-5569-4d61-9a01-5391ee3ebd4b",
     "showTitle": false,
     "tableResultSettingsMap": {},
     "title": ""
    }
   },
   "outputs": [
    {
     "output_type": "display_data",
     "data": {
      "text/html": [
       "<style scoped>\n",
       "  .table-result-container {\n",
       "    max-height: 300px;\n",
       "    overflow: auto;\n",
       "  }\n",
       "  table, th, td {\n",
       "    border: 1px solid black;\n",
       "    border-collapse: collapse;\n",
       "  }\n",
       "  th, td {\n",
       "    padding: 5px;\n",
       "  }\n",
       "  th {\n",
       "    text-align: left;\n",
       "  }\n",
       "</style><div class='table-result-container'><table class='table-result'><thead style='background-color: white'><tr><th>Customer_ID</th><th>Age</th><th>Gender</th><th>Occupation</th><th>Marital Status</th><th>Family Size</th><th>Income</th><th>Expenditure</th><th>Use Frequency</th><th>Loan Category</th><th>Loan Amount</th><th>Overdue</th><th> Debt Record</th><th> Returned Cheque</th><th> Dishonour of Bill</th></tr></thead><tbody><tr><td>IB14001</td><td>30</td><td>MALE</td><td>BANK MANAGER</td><td>SINGLE</td><td>4</td><td>50000</td><td>22199</td><td>6</td><td>HOUSING</td><td> 10,00,000 </td><td>5</td><td>42,898</td><td>6</td><td>9</td></tr><tr><td>IB14012</td><td>30</td><td>FEMALE</td><td>DENTIST</td><td>SINGLE</td><td>3</td><td>58450</td><td>27675</td><td>5</td><td>TRAVELLING</td><td>75,000</td><td>6</td><td>20,876</td><td>3</td><td>1</td></tr><tr><td>IB14022</td><td>34</td><td>MALE</td><td>POLICE</td><td>SINGLE</td><td>4</td><td>43521</td><td>11999</td><td>3</td><td>AUTOMOBILE</td><td> 2,00,000 </td><td>2</td><td>43,898</td><td>1</td><td>2</td></tr><tr><td>IB14029</td><td>24</td><td>FEMALE</td><td>TEACHER</td><td>SINGLE</td><td>3</td><td>45008</td><td>17454</td><td>4</td><td>AUTOMOBILE</td><td> 3,99,435 </td><td>9</td><td>51,987</td><td>4</td><td>7</td></tr><tr><td>IB14032</td><td>24</td><td>MALE</td><td>DATA ANALYST</td><td>SINGLE</td><td>4</td><td>60111</td><td>28999</td><td>6</td><td>AUTOMOBILE</td><td>35,232</td><td>5</td><td>33,333</td><td>1</td><td>2</td></tr><tr><td>IB14042</td><td>25</td><td>FEMALE</td><td>DOCTOR</td><td>SINGLE</td><td>4</td><td>60111</td><td>27111</td><td>5</td><td>TRAVELLING</td><td> 12,90,929 </td><td>4</td><td>18,000</td><td>1</td><td>0</td></tr><tr><td>IB14045</td><td>31</td><td>MALE</td><td>STORE KEEPER</td><td>SINGLE</td><td>5</td><td>40999</td><td>11999</td><td>3</td><td>BOOK STORES</td><td> 1,67,654 </td><td>1</td><td>4,500</td><td>0</td><td>1</td></tr><tr><td>IB14057</td><td>25</td><td>MALE</td><td>AIRPORT OFFICER</td><td>SINGLE</td><td>4</td><td>40000</td><td>18888</td><td>3</td><td>RESTAURANTS</td><td> 4,00,000 </td><td>8</td><td>11,111</td><td>1</td><td>7</td></tr><tr><td>IB14079</td><td>25</td><td>MALE</td><td>CLERK</td><td>SINGLE</td><td>3</td><td>35000</td><td>9000</td><td>2</td><td>GOLD LOAN</td><td> 1,00,000 </td><td>3</td><td>12,584</td><td>1</td><td>2</td></tr><tr><td>IB14089</td><td>25</td><td>MALE</td><td>PROFESSOR</td><td>SINGLE</td><td>5</td><td>62145</td><td>31254</td><td>4</td><td>BOOK STORES</td><td> 12,45,789 </td><td>6</td><td>48,596</td><td>6</td><td>5</td></tr><tr><td>1B14093</td><td>21</td><td>FEMALE</td><td>MANAGER</td><td>SINGLE</td><td>3</td><td>42516</td><td>24567</td><td>7</td><td>AUTOMOBILE</td><td> 25,69,874 </td><td>8</td><td>89,652</td><td>2</td><td>3</td></tr><tr><td>IB14138</td><td>27</td><td>FEMALE</td><td>SOFTWARE ENGINEER</td><td>SINGLE</td><td>4</td><td>40000</td><td>22000</td><td>4</td><td>GOLD LOAN</td><td> 4,00,000 </td><td>4</td><td>15,647</td><td>5</td><td>3</td></tr><tr><td>IBI4155</td><td>24</td><td>FEMALE</td><td>SOFTWARE ENGINEER</td><td>SINGLE</td><td>4</td><td>55680</td><td>29000</td><td>5</td><td>AUTOMOBILE</td><td> 7,89,000 </td><td>5</td><td>24,000</td><td>6</td><td>4</td></tr><tr><td>IB14179</td><td>24</td><td>FEMALE</td><td>TEACHER</td><td>SINGLE</td><td>3</td><td>45008</td><td>17454</td><td>4</td><td>AUTOMOBILE</td><td> 3,99,435 </td><td>9</td><td>51,987</td><td>4</td><td>7</td></tr><tr><td>IB14184</td><td>24</td><td>MALE</td><td>DATA ANALYST</td><td>SINGLE</td><td>4</td><td>60111</td><td>28999</td><td>6</td><td>RESTAURANTS</td><td>35,232</td><td>5</td><td>33,333</td><td>1</td><td>2</td></tr><tr><td>IB14187</td><td>30</td><td>FEMALE</td><td>DENTIST</td><td>SINGLE</td><td>3</td><td>58450</td><td>27675</td><td>5</td><td>TRAVELLING</td><td>75,000</td><td>6</td><td>20,876</td><td>3</td><td>1</td></tr><tr><td>IB14191</td><td>34</td><td>MALE</td><td>POLICE</td><td>SINGLE</td><td>4</td><td>44521</td><td>11999</td><td>3</td><td>AUTOMOBILE</td><td> 2,00,000 </td><td>2</td><td>43,898</td><td>1</td><td>2</td></tr><tr><td>IB14213</td><td>31</td><td>MALE</td><td>STORE KEEPER</td><td>SINGLE</td><td>5</td><td>40999</td><td>11999</td><td>3</td><td>AUTOMOBILE</td><td> 1,67,654 </td><td>1</td><td>4,500</td><td>0</td><td>1</td></tr><tr><td>IB14216</td><td>24</td><td>MALE</td><td>DATA ANALYST</td><td>SINGLE</td><td>4</td><td>60111</td><td>28999</td><td>6</td><td>RESTAURANTS</td><td>35,232</td><td>5</td><td>33,333</td><td>1</td><td>2</td></tr><tr><td>IB14220</td><td>30</td><td>FEMALE</td><td>DENTIST</td><td>SINGLE</td><td>3</td><td>58450</td><td>27675</td><td>5</td><td>TRAVELLING</td><td>75,000</td><td>6</td><td>20,876</td><td>3</td><td>1</td></tr><tr><td>IB14221</td><td>31</td><td>MALE</td><td>STORE KEEPER</td><td>SINGLE</td><td>5</td><td>40999</td><td>11999</td><td>3</td><td>BOOK STORES</td><td> 1,67,654 </td><td>1</td><td>4,500</td><td>0</td><td>1</td></tr><tr><td>IB14231</td><td>24</td><td>FEMALE</td><td>TEACHER</td><td>SINGLE</td><td>3</td><td>45008</td><td>17454</td><td>4</td><td>AUTOMOBILE</td><td> 3,99,435 </td><td>9</td><td>51,987</td><td>4</td><td>7</td></tr><tr><td>IB14240</td><td>34</td><td>MALE</td><td>POLICE</td><td>SINGLE</td><td>4</td><td>43521</td><td>11999</td><td>3</td><td>AUTOMOBILE</td><td> 2,00,000 </td><td>2</td><td>43,898</td><td>1</td><td>2</td></tr><tr><td>IB14260</td><td>34</td><td>MALE</td><td>POLICE</td><td>SINGLE</td><td>4</td><td>43521</td><td>11999</td><td>3</td><td>AUTOMOBILE</td><td> 2,00,000 </td><td>2</td><td>43,898</td><td>1</td><td>2</td></tr><tr><td>IB14287</td><td>31</td><td>MALE</td><td>STORE KEEPER</td><td>SINGLE</td><td>5</td><td>40999</td><td>11999</td><td>3</td><td>BOOK STORES</td><td> 1,67,654 </td><td>1</td><td>4,500</td><td>0</td><td>1</td></tr><tr><td>IBI4294</td><td>24</td><td>FEMALE</td><td>SOFTWARE ENGINEER</td><td>SINGLE</td><td>4</td><td>49680</td><td>25000</td><td>5</td><td>GOLD LOAN</td><td> 7,89,000 </td><td>5</td><td>24,000</td><td>6</td><td>4</td></tr><tr><td>IB14309</td><td>25</td><td>MALE</td><td>PROFESSOR</td><td>SINGLE</td><td>5</td><td>62145</td><td>31254</td><td>4</td><td>AUTOMOBILE</td><td> 12,45,789 </td><td>6</td><td>48,596</td><td>6</td><td>5</td></tr><tr><td>1B14312</td><td>21</td><td>FEMALE</td><td>MANAGER</td><td>SINGLE</td><td>3</td><td>42516</td><td>24567</td><td>7</td><td>EDUCATIONAL LOAN</td><td> 25,69,874 </td><td>8</td><td>89,652</td><td>2</td><td>3</td></tr><tr><td>IB14317</td><td>26</td><td>FEMALE</td><td>TEACHER</td><td>SINGLE</td><td>3</td><td>45008</td><td>17454</td><td>4</td><td>AUTOMOBILE</td><td> 3,99,435 </td><td>9</td><td>51,987</td><td>4</td><td>7</td></tr><tr><td>IB14326</td><td>37</td><td>MALE</td><td>DOCTOR</td><td>SINGLE</td><td>2</td><td>56856</td><td>23678</td><td>7</td><td>TRAVELLING</td><td>588,690</td><td>8</td><td>87171</td><td>4</td><td>3</td></tr><tr><td>IB14395</td><td>36</td><td>FEMALE</td><td>TEACHER</td><td>SINGLE</td><td>7</td><td>43518</td><td>null</td><td>8</td><td>TRAVELLING</td><td>681,886</td><td>9</td><td>56090</td><td>0</td><td>0</td></tr><tr><td>IB14436</td><td>24</td><td>FEMALE</td><td>SYSTEM MANAGER</td><td>SINGLE</td><td>4</td><td>38401</td><td>27512</td><td>7</td><td>RESTAURANTS</td><td>744,697</td><td>4</td><td>42166</td><td>4</td><td>2</td></tr><tr><td>IB14440</td><td>24</td><td>MALE</td><td>SOFTWARE ENGINEER</td><td>SINGLE</td><td>2</td><td>31107</td><td>21316</td><td>7</td><td>GOLD LOAN</td><td>1,216,788</td><td>6</td><td>76049</td><td>1</td><td>5</td></tr><tr><td>IB14466</td><td>24</td><td>MALE</td><td>PUBLIC WORKS</td><td>SINGLE</td><td>3</td><td>45228</td><td>27839</td><td>7</td><td>SHOPPING</td><td>439,976</td><td>8</td><td>57559</td><td>1</td><td>7</td></tr><tr><td>IB14470</td><td>29</td><td>MALE</td><td>NURSE</td><td>SINGLE</td><td>6</td><td>51199</td><td>15753</td><td>5</td><td>COMPUTER SOFTWARES</td><td>331,716</td><td>3</td><td>57156</td><td>3</td><td>0</td></tr><tr><td>IB14476</td><td>29</td><td>MALE</td><td>SOFTWARE ENGINEER</td><td>SINGLE</td><td>5</td><td>30454</td><td>22210</td><td>4</td><td>SHOPPING</td><td>763,036</td><td>6</td><td>37762</td><td>7</td><td>9</td></tr><tr><td>IB14489</td><td>24</td><td>MALE</td><td>TEACHER</td><td>SINGLE</td><td>5</td><td>74609</td><td>20444</td><td>4</td><td>RESTAURANTS</td><td>507,036</td><td>2</td><td>51858</td><td>0</td><td>3</td></tr><tr><td>IB14491</td><td>24</td><td>MALE</td><td>TEACHER</td><td>SINGLE</td><td>2</td><td>77923</td><td>null</td><td>5</td><td>TRAVELLING</td><td>625,226</td><td>5</td><td>34121</td><td>2</td><td>8</td></tr><tr><td>IB14510</td><td>24</td><td>MALE</td><td>AIRPORT OFFICER</td><td>SINGLE</td><td>4</td><td>67445</td><td>23826</td><td>8</td><td>HOME APPLIANCES</td><td>515,970</td><td>1</td><td>79454</td><td>6</td><td>2</td></tr><tr><td>IB14563</td><td>42</td><td>FEMALE</td><td>NAVY</td><td>SINGLE</td><td>3</td><td>86184</td><td>47555</td><td>3</td><td>AUTOMOBILE</td><td>1,668,435</td><td>5</td><td>54235</td><td>6</td><td>1</td></tr><tr><td>IB14581</td><td>41</td><td>MALE</td><td>FARMER</td><td>SINGLE</td><td>5</td><td>76294</td><td>45744</td><td>8</td><td>BUILDING</td><td>318,598</td><td>9</td><td>23866</td><td>8</td><td>9</td></tr><tr><td>IB14585</td><td>52</td><td>FEMALE</td><td>PILOT</td><td>SINGLE</td><td>7</td><td>91853</td><td>39629</td><td>4</td><td>RESTAURANT</td><td>1,392,577</td><td>6</td><td>85269</td><td>4</td><td>8</td></tr><tr><td>IB14589</td><td>56</td><td>MALE</td><td>FARMER</td><td>SINGLE</td><td>3</td><td>51162</td><td>12591</td><td>9</td><td>AGRICULTURE</td><td>104,758</td><td>3</td><td>75535</td><td>2</td><td>1</td></tr><tr><td>IB14590</td><td>58</td><td>MALE</td><td>DRIVER</td><td>SINGLE</td><td>5</td><td>45457</td><td>25922</td><td>6</td><td>GOLD LOAN</td><td>905,203</td><td>4</td><td>30211</td><td>1</td><td>6</td></tr><tr><td>IB14593</td><td>40</td><td>MALE</td><td>DENTIST</td><td>SINGLE</td><td>7</td><td>49744</td><td>23564</td><td>5</td><td>COMPUTER SOFTWARES</td><td>207,979</td><td>4</td><td>36588</td><td>3</td><td>2</td></tr><tr><td>IB14594</td><td>32</td><td>FEMALE</td><td>NAVY</td><td>SINGLE</td><td>7</td><td>78777</td><td>34159</td><td>7</td><td>AUTOMOBILE</td><td>622,414</td><td>6</td><td>37436</td><td>2</td><td>9</td></tr><tr><td>IB14601</td><td>44</td><td>MALE</td><td>POLICE</td><td>SINGLE</td><td>5</td><td>71214</td><td>12463</td><td>8</td><td>RESTAURANTS</td><td>910,960</td><td>1</td><td>70423</td><td>2</td><td>8</td></tr><tr><td>IB14602</td><td>39</td><td>FEMALE</td><td>BANK MANAGER</td><td>SINGLE</td><td>6</td><td>55639</td><td>23775</td><td>9</td><td>HOUSING</td><td>284,938</td><td>9</td><td>80269</td><td>3</td><td>8</td></tr><tr><td>IB14604</td><td>52</td><td>MALE</td><td>ACCOUNTANT</td><td>SINGLE</td><td>7</td><td>46086</td><td>27201</td><td>9</td><td>AGRICULTURE</td><td>1,682,942</td><td>7</td><td>29654</td><td>5</td><td>8</td></tr><tr><td>IB14611</td><td>49</td><td>MALE</td><td>AGRICULTURAL ENGINEER</td><td>SINGLE</td><td>7</td><td>81960</td><td>14724</td><td>4</td><td>BUSINESS</td><td>649,933</td><td>8</td><td>20801</td><td>9</td><td>3</td></tr><tr><td>IB14617</td><td>39</td><td>FEMALE</td><td>PILOT</td><td>SINGLE</td><td>2</td><td>84553</td><td>36744</td><td>3</td><td>GOLD LOAN</td><td>870,287</td><td>4</td><td>34551</td><td>5</td><td>0</td></tr><tr><td>IB14619</td><td>43</td><td>MALE</td><td>TEACHER</td><td>SINGLE</td><td>4</td><td>35020</td><td>26286</td><td>8</td><td>SHOPPING</td><td>162,449</td><td>9</td><td>22862</td><td>3</td><td>3</td></tr><tr><td>IB14623</td><td>39</td><td>MALE</td><td>DATA ENGINEER</td><td>SINGLE</td><td>2</td><td>74264</td><td>37747</td><td>5</td><td>RESTAURANTS</td><td>321,040</td><td>1</td><td>55582</td><td>1</td><td>9</td></tr><tr><td>IB14629</td><td>47</td><td>FEMALE</td><td>DOCTOR</td><td>SINGLE</td><td>2</td><td>86072</td><td>22248</td><td>2</td><td>GOLD LOAN</td><td>1,044,964</td><td>4</td><td>63105</td><td>7</td><td>2</td></tr><tr><td>IB14635</td><td>51</td><td>MALE</td><td>TEACHER</td><td>SINGLE</td><td>3</td><td>69961</td><td>27078</td><td>8</td><td>AUTOMOBILE</td><td>208,327</td><td>7</td><td>13594</td><td>1</td><td>9</td></tr><tr><td>IB14637</td><td>45</td><td>FEMALE</td><td>FARMER</td><td>SINGLE</td><td>5</td><td>62304</td><td>34392</td><td>5</td><td>RESTAURANT</td><td>549,605</td><td>9</td><td>12990</td><td>8</td><td>1</td></tr><tr><td>IB14645</td><td>28</td><td>MALE</td><td>DIETICIAN</td><td>SINGLE</td><td>3</td><td>90863</td><td>16863</td><td>5</td><td>BUSINESS</td><td>1,118,207</td><td>3</td><td>32059</td><td>2</td><td>4</td></tr><tr><td>IB14655</td><td>52</td><td>FEMALE</td><td>BANK MANAGER</td><td>SINGLE</td><td>3</td><td>68918</td><td>30676</td><td>5</td><td>AUTOMOBILE</td><td>1,265,945</td><td>5</td><td>16997</td><td>5</td><td>4</td></tr><tr><td>IB14657</td><td>44</td><td>FEMALE</td><td>NAVY</td><td>SINGLE</td><td>2</td><td>86269</td><td>25280</td><td>8</td><td>GOLD LOAN</td><td>964,109</td><td>4</td><td>80308</td><td>0</td><td>7</td></tr><tr><td>IB14659</td><td>33</td><td>FEMALE</td><td>DRIVER</td><td>SINGLE</td><td>6</td><td>48332</td><td>20763</td><td>8</td><td>RESTAURANT</td><td>899,714</td><td>7</td><td>66030</td><td>7</td><td>3</td></tr><tr><td>IB14667</td><td>30</td><td>MALE</td><td>AGRICULTURAL ENGINEER</td><td>SINGLE</td><td>6</td><td>85289</td><td>49481</td><td>3</td><td>HOUSING</td><td>679,588</td><td>1</td><td>21091</td><td>3</td><td>3</td></tr><tr><td>IB14685</td><td>26</td><td>MALE</td><td>BANK MANAGER</td><td>SINGLE</td><td>5</td><td>29565</td><td>19490</td><td>9</td><td>HOUSING</td><td>1,767,908</td><td>9</td><td>72653</td><td>4</td><td>6</td></tr><tr><td>IB14691</td><td>43</td><td>FEMALE</td><td>POLICE</td><td>SINGLE</td><td>5</td><td>38501</td><td>48744</td><td>5</td><td>GOLD LOAN</td><td>1,460,365</td><td>2</td><td>55397</td><td>9</td><td>0</td></tr><tr><td>IB14693</td><td>27</td><td>MALE</td><td>DOCTOR</td><td>SINGLE</td><td>7</td><td>28366</td><td>29258</td><td>2</td><td>GOLD LOAN</td><td>1,659,986</td><td>9</td><td>20611</td><td>5</td><td>5</td></tr><tr><td>IB14697</td><td>39</td><td>FEMALE</td><td>NAVY</td><td>SINGLE</td><td>4</td><td>77699</td><td>12482</td><td>3</td><td>AUTOMOBILE</td><td>1,410,206</td><td>9</td><td>57206</td><td>2</td><td>8</td></tr><tr><td>IB14699</td><td>45</td><td>FEMALE</td><td>SOFTWARE ENGINEER</td><td>SINGLE</td><td>4</td><td>98199</td><td>43464</td><td>9</td><td>ELECTRONICS</td><td>1,719,010</td><td>3</td><td>86384</td><td>4</td><td>8</td></tr><tr><td>IB14702</td><td>59</td><td>FEMALE</td><td>NAVY</td><td>SINGLE</td><td>2</td><td>71171</td><td>26078</td><td>5</td><td>RESTAURANT</td><td>456,808</td><td>6</td><td>58510</td><td>8</td><td>7</td></tr><tr><td>IB14704</td><td>48</td><td>MALE</td><td>EXECUTIVE</td><td>SINGLE</td><td>2</td><td>57460</td><td>48959</td><td>2</td><td>BUSINESS</td><td>1,073,372</td><td>5</td><td>72858</td><td>1</td><td>5</td></tr><tr><td>IB14706</td><td>30</td><td>FEMALE</td><td>TEACHER</td><td>SINGLE</td><td>5</td><td>51564</td><td>20097</td><td>2</td><td>AUTOMOBILE</td><td>722,907</td><td>2</td><td>56157</td><td>2</td><td>7</td></tr><tr><td>IB14714</td><td>43</td><td>FEMALE</td><td>SOFTWARE ENGINEER</td><td>SINGLE</td><td>5</td><td>86970</td><td>30379</td><td>2</td><td>GOLD LOAN</td><td>1,090,886</td><td>9</td><td>13994</td><td>5</td><td>7</td></tr><tr><td>IB14716</td><td>26</td><td>MALE</td><td>DIETICIAN</td><td>SINGLE</td><td>3</td><td>92425</td><td>43086</td><td>2</td><td>RESTAURANTS</td><td>488,076</td><td>4</td><td>61227</td><td>5</td><td>2</td></tr><tr><td>IB14718</td><td>47</td><td>MALE</td><td>DOCTOR</td><td>SINGLE</td><td>4</td><td>77580</td><td>null</td><td>3</td><td>SHOPPING</td><td>339,171</td><td>9</td><td>84824</td><td>8</td><td>9</td></tr><tr><td>IB14719</td><td>42</td><td>FEMALE</td><td>PILOT</td><td>SINGLE</td><td>4</td><td>75993</td><td>22164</td><td>5</td><td>DINNING</td><td>340,060</td><td>3</td><td>17476</td><td>4</td><td>7</td></tr><tr><td>IB14721</td><td>30</td><td>MALE</td><td>PILOT</td><td>SINGLE</td><td>2</td><td>76333</td><td>37037</td><td>3</td><td>BUSINESS</td><td>1,042,400</td><td>2</td><td>34044</td><td>3</td><td>1</td></tr><tr><td>IB14727</td><td>53</td><td>FEMALE</td><td>DATA ENGINEER</td><td>SINGLE</td><td>2</td><td>84862</td><td>12102</td><td>4</td><td>RESTAURANT</td><td>233,604</td><td>9</td><td>46408</td><td>4</td><td>2</td></tr><tr><td>IB14729</td><td>58</td><td>MALE</td><td>CHARTERED APPRAISER</td><td>SINGLE</td><td>5</td><td>70952</td><td>15709</td><td>9</td><td>RESTAURANT</td><td>204,833</td><td>5</td><td>20711</td><td>5</td><td>4</td></tr><tr><td>IB14731</td><td>45</td><td>MALE</td><td>BUSINESS</td><td>SINGLE</td><td>7</td><td>34444</td><td>45690</td><td>8</td><td>SHOPPING</td><td>380,248</td><td>5</td><td>15020</td><td>2</td><td>4</td></tr><tr><td>IB14736</td><td>38</td><td>FEMALE</td><td>ACCOUNTANT</td><td>SINGLE</td><td>5</td><td>75290</td><td>35549</td><td>9</td><td>HOUSING</td><td>1,522,824</td><td>1</td><td>71187</td><td>7</td><td>2</td></tr><tr><td>IB14737</td><td>54</td><td>FEMALE</td><td>POLICE</td><td>SINGLE</td><td>6</td><td>62641</td><td>36687</td><td>4</td><td>HOUSING</td><td>898,353</td><td>2</td><td>26901</td><td>1</td><td>3</td></tr><tr><td>IB14740</td><td>52</td><td>FEMALE</td><td>CHARTERED APPRAISER</td><td>SINGLE</td><td>6</td><td>65023</td><td>49118</td><td>7</td><td>RESTAURANTS</td><td>1,670,805</td><td>7</td><td>45808</td><td>9</td><td>2</td></tr><tr><td>IB14741</td><td>34</td><td>FEMALE</td><td>CLERK</td><td>SINGLE</td><td>6</td><td>47550</td><td>25286</td><td>6</td><td>HOUSING</td><td>696,818</td><td>1</td><td>49464</td><td>0</td><td>4</td></tr><tr><td>IB14751</td><td>27</td><td>FEMALE</td><td>DIETICIAN</td><td>SINGLE</td><td>2</td><td>84112</td><td>17725</td><td>7</td><td>BUSINESS</td><td>312,602</td><td>6</td><td>44634</td><td>5</td><td>6</td></tr><tr><td>IB14753</td><td>59</td><td>FEMALE</td><td>CHARTERED APPRAISER</td><td>SINGLE</td><td>5</td><td>74179</td><td>31530</td><td>7</td><td>BUSINESS</td><td>1,428,709</td><td>4</td><td>66854</td><td>2</td><td>6</td></tr><tr><td>IB14758</td><td>41</td><td>MALE</td><td>TEACHER</td><td>SINGLE</td><td>2</td><td>46182</td><td>33404</td><td>9</td><td>RESTAURANTS</td><td>1,337,967</td><td>4</td><td>75552</td><td>2</td><td>9</td></tr><tr><td>IB14761</td><td>26</td><td>FEMALE</td><td>BUSINESS</td><td>SINGLE</td><td>6</td><td>74775</td><td>27970</td><td>8</td><td>HOUSING</td><td>879,114</td><td>2</td><td>47103</td><td>2</td><td>5</td></tr><tr><td>IB14765</td><td>34</td><td>MALE</td><td>ARMY</td><td>SINGLE</td><td>6</td><td>72271</td><td>32082</td><td>4</td><td>HOUSING</td><td>625,194</td><td>7</td><td>19300</td><td>2</td><td>7</td></tr><tr><td>IB14766</td><td>27</td><td>FEMALE</td><td>EXECUTIVE</td><td>SINGLE</td><td>5</td><td>78975</td><td>49225</td><td>2</td><td>BUSINESS</td><td>479,113</td><td>6</td><td>64563</td><td>1</td><td>5</td></tr><tr><td>IB14771</td><td>44</td><td>FEMALE</td><td>POLICE</td><td>SINGLE</td><td>4</td><td>80769</td><td>41529</td><td>3</td><td>AGRICULTURE</td><td>1,458,057</td><td>3</td><td>74975</td><td>5</td><td>1</td></tr><tr><td>IB14773</td><td>45</td><td>FEMALE</td><td>DENTIST</td><td>SINGLE</td><td>4</td><td>46196</td><td>26603</td><td>9</td><td>COMPUTER SOFTWARES</td><td>841,132</td><td>7</td><td>60537</td><td>1</td><td>6</td></tr><tr><td>IB14778</td><td>43</td><td>FEMALE</td><td>DATA ENGINEER</td><td>SINGLE</td><td>6</td><td>42827</td><td>36410</td><td>5</td><td>RESTAURANT</td><td>125,982</td><td>2</td><td>75739</td><td>8</td><td>6</td></tr><tr><td>IB14781</td><td>51</td><td>FEMALE</td><td>TEACHER</td><td>SINGLE</td><td>2</td><td>77986</td><td>47143</td><td>3</td><td>BUSINESS</td><td>903,614</td><td>6</td><td>55757</td><td>0</td><td>4</td></tr><tr><td>IB14785</td><td>47</td><td>FEMALE</td><td>DRIVER</td><td>SINGLE</td><td>5</td><td>38687</td><td>17562</td><td>8</td><td>HOUSING</td><td>180,826</td><td>5</td><td>81601</td><td>6</td><td>1</td></tr><tr><td>IB14789</td><td>25</td><td>MALE</td><td>DRIVER</td><td>SINGLE</td><td>7</td><td>84394</td><td>48705</td><td>3</td><td>AUTOMOBILE</td><td>878,858</td><td>6</td><td>43350</td><td>8</td><td>4</td></tr><tr><td>IB14794</td><td>32</td><td>FEMALE</td><td>CHARTERED APPRAISER</td><td>SINGLE</td><td>2</td><td>88323</td><td>40734</td><td>5</td><td>DINNING</td><td>1,193,808</td><td>5</td><td>23946</td><td>2</td><td>2</td></tr><tr><td>IB14795</td><td>54</td><td>FEMALE</td><td>TEACHER</td><td>SINGLE</td><td>7</td><td>53832</td><td>18748</td><td>4</td><td>GOLD LOAN</td><td>1,503,911</td><td>1</td><td>50787</td><td>9</td><td>1</td></tr><tr><td>IB14797</td><td>26</td><td>MALE</td><td>ACCOUNTANT</td><td>SINGLE</td><td>7</td><td>43350</td><td>31632</td><td>5</td><td>AUTOMOBILE</td><td>1,630,901</td><td>4</td><td>79235</td><td>9</td><td>6</td></tr><tr><td>IB14800</td><td>30</td><td>FEMALE</td><td>TEACHER</td><td>SINGLE</td><td>4</td><td>49370</td><td>21720</td><td>4</td><td>SHOPPING</td><td>140,556</td><td>9</td><td>40378</td><td>7</td><td>7</td></tr><tr><td>IB14804</td><td>30</td><td>MALE</td><td>BUSINESS</td><td>SINGLE</td><td>2</td><td>53957</td><td>34709</td><td>7</td><td>GOLD LOAN</td><td>1,765,055</td><td>8</td><td>37815</td><td>5</td><td>8</td></tr><tr><td>IB14806</td><td>48</td><td>MALE</td><td>ARMY</td><td>SINGLE</td><td>6</td><td>67129</td><td>16487</td><td>3</td><td>BUSINESS</td><td>167,995</td><td>9</td><td>37222</td><td>4</td><td>6</td></tr><tr><td>IB14809</td><td>28</td><td>FEMALE</td><td>ACCOUNTANT</td><td>SINGLE</td><td>3</td><td>76844</td><td>27358</td><td>7</td><td>RESTAURANT</td><td>1,582,924</td><td>1</td><td>73033</td><td>2</td><td>1</td></tr><tr><td>IB14820</td><td>42</td><td>MALE</td><td>DRIVER</td><td>SINGLE</td><td>2</td><td>47217</td><td>16575</td><td>3</td><td>GOLD LOAN</td><td>1,773,297</td><td>4</td><td>40373</td><td>8</td><td>1</td></tr><tr><td>IB14825</td><td>31</td><td>MALE</td><td>TECHNICIAN</td><td>SINGLE</td><td>5</td><td>79363</td><td>18706</td><td>9</td><td>BUSINESS</td><td>442,793</td><td>4</td><td>18431</td><td>9</td><td>5</td></tr><tr><td>IB14827</td><td>37</td><td>MALE</td><td>BANK MANAGER</td><td>SINGLE</td><td>2</td><td>35735</td><td>47037</td><td>9</td><td>RESTAURANT</td><td>312,839</td><td>8</td><td>31432</td><td>3</td><td>7</td></tr><tr><td>IB14829</td><td>48</td><td>MALE</td><td>DRIVER</td><td>SINGLE</td><td>4</td><td>61021</td><td>16440</td><td>7</td><td>RESTAURANTS</td><td>1,470,269</td><td>8</td><td>59449</td><td>3</td><td>8</td></tr><tr><td>IB14831</td><td>30</td><td>FEMALE</td><td>NAVY</td><td>SINGLE</td><td>6</td><td>51862</td><td>21101</td><td>5</td><td>HOUSING</td><td>745,152</td><td>5</td><td>57851</td><td>6</td><td>8</td></tr><tr><td>IB14837</td><td>38</td><td>MALE</td><td>DRIVER</td><td>SINGLE</td><td>7</td><td>45362</td><td>35895</td><td>9</td><td>HOUSING</td><td>1,216,455</td><td>7</td><td>83458</td><td>3</td><td>7</td></tr><tr><td>IB14839</td><td>54</td><td>FEMALE</td><td>TECHNICIAN</td><td>SINGLE</td><td>5</td><td>34721</td><td>14789</td><td>2</td><td>TRAVELLING</td><td>332,838</td><td>1</td><td>67426</td><td>0</td><td>3</td></tr><tr><td>IB14843</td><td>43</td><td>MALE</td><td>DOCTOR</td><td>SINGLE</td><td>4</td><td>50407</td><td>34413</td><td>4</td><td>AGRICULTURE</td><td>1,143,937</td><td>9</td><td>57977</td><td>9</td><td>1</td></tr><tr><td>IB14853</td><td>31</td><td>FEMALE</td><td>TEACHER</td><td>SINGLE</td><td>3</td><td>51227</td><td>17187</td><td>2</td><td>GOLD LOAN</td><td>314,714</td><td>5</td><td>63843</td><td>7</td><td>3</td></tr><tr><td>IB14855</td><td>53</td><td>FEMALE</td><td>SOFTWARE ENGINEER</td><td>SINGLE</td><td>4</td><td>81210</td><td>21027</td><td>7</td><td>RESTAURANT</td><td>740,375</td><td>7</td><td>35419</td><td>2</td><td>4</td></tr><tr><td>IB14857</td><td>32</td><td>FEMALE</td><td>DIETICIAN</td><td>SINGLE</td><td>3</td><td>40060</td><td>23989</td><td>6</td><td>GOLD LOAN</td><td>400,085</td><td>6</td><td>41436</td><td>4</td><td>9</td></tr><tr><td>IB14867</td><td>46</td><td>FEMALE</td><td>CHARTERED APPRAISER</td><td>SINGLE</td><td>2</td><td>91088</td><td>42256</td><td>5</td><td>EDUCATIONAL LOAN</td><td>347,254</td><td>9</td><td>37966</td><td>1</td><td>5</td></tr><tr><td>IB14869</td><td>44</td><td>MALE</td><td>CLERK</td><td>SINGLE</td><td>5</td><td>51555</td><td>12052</td><td>2</td><td>EDUCATIONAL LOAN</td><td>1,377,455</td><td>8</td><td>29981</td><td>1</td><td>8</td></tr><tr><td>IB14873</td><td>42</td><td>FEMALE</td><td>PILOT</td><td>SINGLE</td><td>4</td><td>83053</td><td>22355</td><td>5</td><td>BOOK STORES</td><td>323,075</td><td>6</td><td>84997</td><td>4</td><td>4</td></tr><tr><td>IB14878</td><td>33</td><td>FEMALE</td><td>CHARTERED APPRAISER</td><td>SINGLE</td><td>4</td><td>58661</td><td>42768</td><td>4</td><td>GOLD LOAN</td><td>1,290,966</td><td>9</td><td>72021</td><td>3</td><td>9</td></tr><tr><td>IB14883</td><td>59</td><td>MALE</td><td>AGRICULTURAL ENGINEER</td><td>SINGLE</td><td>5</td><td>72052</td><td>45311</td><td>4</td><td>HOME APPLIANCES</td><td>576,136</td><td>1</td><td>75822</td><td>1</td><td>6</td></tr><tr><td>IB14886</td><td>42</td><td>FEMALE</td><td>BANK MANAGER</td><td>SINGLE</td><td>7</td><td>85632</td><td>37935</td><td>5</td><td>EDUCATIONAL LOAN</td><td>688,435</td><td>3</td><td>74874</td><td>7</td><td>7</td></tr><tr><td>IB14889</td><td>41</td><td>FEMALE</td><td>DIETICIAN</td><td>SINGLE</td><td>3</td><td>96501</td><td>41529</td><td>6</td><td>GOLD LOAN</td><td>1,694,354</td><td>3</td><td>35876</td><td>2</td><td>8</td></tr><tr><td>IB14898</td><td>51</td><td>FEMALE</td><td>SOFTWARE ENGINEER</td><td>SINGLE</td><td>3</td><td>84966</td><td>42591</td><td>5</td><td>TRAVELLING</td><td>1,179,496</td><td>4</td><td>58257</td><td>0</td><td>9</td></tr><tr><td>IB14903</td><td>42</td><td>FEMALE</td><td>TECHNICIAN</td><td>SINGLE</td><td>3</td><td>42304</td><td>21760</td><td>9</td><td>BUSINESS</td><td>1,630,952</td><td>6</td><td>21031</td><td>7</td><td>2</td></tr><tr><td>IB14907</td><td>42</td><td>FEMALE</td><td>DIETICIAN</td><td>SINGLE</td><td>7</td><td>51301</td><td>30975</td><td>5</td><td>RESTAURANT</td><td>677,291</td><td>8</td><td>25850</td><td>8</td><td>5</td></tr><tr><td>IB14909</td><td>57</td><td>FEMALE</td><td>POLICE</td><td>SINGLE</td><td>3</td><td>44945</td><td>25513</td><td>8</td><td>GOLD LOAN</td><td>453,196</td><td>2</td><td>54235</td><td>3</td><td>2</td></tr><tr><td>IB14911</td><td>24</td><td>FEMALE</td><td>SOFTWARE ENGINEER</td><td>SINGLE</td><td>5</td><td>56000</td><td>22376</td><td>5</td><td>SHOPPING</td><td>206,750</td><td>4</td><td>23450</td><td>5</td><td>3</td></tr><tr><td>IB14933</td><td>43</td><td>MALE</td><td>DOCTOR</td><td>SINGLE</td><td>4</td><td>55407</td><td>24413</td><td>4</td><td>HOUSING</td><td>1,042,737</td><td>9</td><td>57977</td><td>9</td><td>1</td></tr><tr><td>IB14943</td><td>31</td><td>FEMALE</td><td>TEACHER</td><td>SINGLE</td><td>3</td><td>41227</td><td>19187</td><td>2</td><td>HOUSING</td><td>414,714</td><td>5</td><td>53843</td><td>7</td><td>3</td></tr><tr><td>IB14947</td><td>32</td><td>FEMALE</td><td>DIETICIAN</td><td>SINGLE</td><td>3</td><td>50060</td><td>28989</td><td>6</td><td>HOUSING</td><td>600,085</td><td>6</td><td>45436</td><td>4</td><td>9</td></tr><tr><td>IB14953</td><td>29</td><td>MALE</td><td>SOFTWARE ENGINEER</td><td>SINGLE</td><td>5</td><td>50454</td><td>32210</td><td>4</td><td>SHOPPING</td><td>763,036</td><td>6</td><td>36762</td><td>7</td><td>9</td></tr><tr><td>IB14973</td><td>42</td><td>FEMALE</td><td>NAVY</td><td>SINGLE</td><td>3</td><td>76184</td><td>37555</td><td>3</td><td>AUTOMOBILE</td><td>868,435</td><td>5</td><td>34235</td><td>6</td><td>1</td></tr><tr><td>IB14987</td><td>41</td><td>MALE</td><td>FARMER</td><td>SINGLE</td><td>5</td><td>78294</td><td>40744</td><td>8</td><td>BUILDING</td><td>418,598</td><td>9</td><td>23866</td><td>8</td><td>9</td></tr><tr><td>IB14991</td><td>52</td><td>MALE</td><td>PILOT</td><td>SINGLE</td><td>7</td><td>95853</td><td>49629</td><td>4</td><td>HOUSING</td><td>1,392,577</td><td>6</td><td>25269</td><td>4</td><td>8</td></tr><tr><td>IB14996</td><td>27</td><td>MALE</td><td>DOCTOR</td><td>SINGLE</td><td>7</td><td>68366</td><td>30258</td><td>2</td><td>TRAVELLING</td><td>1,059,986</td><td>9</td><td>20611</td><td>5</td><td>5</td></tr><tr><td>IB15001</td><td>39</td><td>FEMALE</td><td>NAVY</td><td>SINGLE</td><td>4</td><td>79699</td><td>32482</td><td>3</td><td>AUTOMOBILE</td><td>810,206</td><td>9</td><td>57206</td><td>2</td><td>8</td></tr><tr><td>IB15004</td><td>45</td><td>FEMALE</td><td>SOFTWARE ENGINEER</td><td>SINGLE</td><td>4</td><td>68199</td><td>33464</td><td>9</td><td>ELECTRONICS</td><td>719,010</td><td>3</td><td>46384</td><td>4</td><td>8</td></tr><tr><td>IB15007</td><td>59</td><td>FEMALE</td><td>NAVY</td><td>SINGLE</td><td>2</td><td>75171</td><td>36078</td><td>5</td><td>RESTAURANT</td><td>556,808</td><td>6</td><td>58510</td><td>8</td><td>7</td></tr><tr><td>IB15009</td><td>48</td><td>MALE</td><td>EXECUTIVE</td><td>SINGLE</td><td>2</td><td>67460</td><td>45959</td><td>2</td><td>BUSINESS</td><td>1,173,372</td><td>5</td><td>62858</td><td>1</td><td>5</td></tr><tr><td>IB15011</td><td>30</td><td>FEMALE</td><td>TEACHER</td><td>SINGLE</td><td>5</td><td>55564</td><td>28097</td><td>2</td><td>AUTOMOBILE</td><td>822,907</td><td>2</td><td>56157</td><td>2</td><td>7</td></tr><tr><td>IB15021</td><td>43</td><td>FEMALE</td><td>SOFTWARE ENGINEER</td><td>SINGLE</td><td>5</td><td>76970</td><td>35379</td><td>2</td><td>GOLD LOAN</td><td>1,090,886</td><td>9</td><td>13994</td><td>5</td><td>7</td></tr><tr><td>IB15024</td><td>26</td><td>MALE</td><td>DIETICIAN</td><td>SINGLE</td><td>3</td><td>95425</td><td>53086</td><td>2</td><td>HOUSING</td><td>488,076</td><td>4</td><td>61227</td><td>5</td><td>2</td></tr><tr><td>IB15027</td><td>47</td><td>MALE</td><td>DOCTOR</td><td>SINGLE</td><td>4</td><td>79580</td><td>null</td><td>3</td><td>SHOPPING</td><td>339,171</td><td>9</td><td>84824</td><td>8</td><td>9</td></tr><tr><td>IB15031</td><td>30</td><td>MALE</td><td>PILOT</td><td>SINGLE</td><td>2</td><td>86333</td><td>47037</td><td>3</td><td>BUSINESS</td><td>1,042,400</td><td>2</td><td>34044</td><td>3</td><td>1</td></tr><tr><td>IB15045</td><td>34</td><td>MALE</td><td>POLICE</td><td>SINGLE</td><td>4</td><td>45521</td><td>null</td><td>3</td><td>AUTOMOBILE</td><td> 2,00,000 </td><td>2</td><td>43,898</td><td>1</td><td>2</td></tr><tr><td>IB15095</td><td>53</td><td>FEMALE</td><td>SOFTWARE ENGINEER</td><td>SINGLE</td><td>4</td><td>75210</td><td>26027</td><td>7</td><td>HOUSING</td><td>740,375</td><td>7</td><td>35419</td><td>2</td><td>4</td></tr><tr><td>IB15097</td><td>32</td><td>FEMALE</td><td>DIETICIAN</td><td>SINGLE</td><td>3</td><td>45060</td><td>24989</td><td>6</td><td>TRAVELLING</td><td>400,085</td><td>6</td><td>41436</td><td>4</td><td>9</td></tr></tbody></table></div>"
      ]
     },
     "metadata": {
      "application/vnd.databricks.v1+output": {
       "addedWidgets": {},
       "aggData": [],
       "aggError": "",
       "aggOverflow": false,
       "aggSchema": [],
       "aggSeriesLimitReached": false,
       "aggType": "",
       "arguments": {},
       "columnCustomDisplayInfos": {},
       "data": [
        [
         "IB14001",
         30,
         "MALE",
         "BANK MANAGER",
         "SINGLE",
         4,
         50000,
         22199,
         6,
         "HOUSING",
         " 10,00,000 ",
         5,
         "42,898",
         6,
         9
        ],
        [
         "IB14012",
         30,
         "FEMALE",
         "DENTIST",
         "SINGLE",
         3,
         58450,
         27675,
         5,
         "TRAVELLING",
         "75,000",
         6,
         "20,876",
         3,
         1
        ],
        [
         "IB14022",
         34,
         "MALE",
         "POLICE",
         "SINGLE",
         4,
         43521,
         11999,
         3,
         "AUTOMOBILE",
         " 2,00,000 ",
         2,
         "43,898",
         1,
         2
        ],
        [
         "IB14029",
         24,
         "FEMALE",
         "TEACHER",
         "SINGLE",
         3,
         45008,
         17454,
         4,
         "AUTOMOBILE",
         " 3,99,435 ",
         9,
         "51,987",
         4,
         7
        ],
        [
         "IB14032",
         24,
         "MALE",
         "DATA ANALYST",
         "SINGLE",
         4,
         60111,
         28999,
         6,
         "AUTOMOBILE",
         "35,232",
         5,
         "33,333",
         1,
         2
        ],
        [
         "IB14042",
         25,
         "FEMALE",
         "DOCTOR",
         "SINGLE",
         4,
         60111,
         27111,
         5,
         "TRAVELLING",
         " 12,90,929 ",
         4,
         "18,000",
         1,
         0
        ],
        [
         "IB14045",
         31,
         "MALE",
         "STORE KEEPER",
         "SINGLE",
         5,
         40999,
         11999,
         3,
         "BOOK STORES",
         " 1,67,654 ",
         1,
         "4,500",
         0,
         1
        ],
        [
         "IB14057",
         25,
         "MALE",
         "AIRPORT OFFICER",
         "SINGLE",
         4,
         40000,
         18888,
         3,
         "RESTAURANTS",
         " 4,00,000 ",
         8,
         "11,111",
         1,
         7
        ],
        [
         "IB14079",
         25,
         "MALE",
         "CLERK",
         "SINGLE",
         3,
         35000,
         9000,
         2,
         "GOLD LOAN",
         " 1,00,000 ",
         3,
         "12,584",
         1,
         2
        ],
        [
         "IB14089",
         25,
         "MALE",
         "PROFESSOR",
         "SINGLE",
         5,
         62145,
         31254,
         4,
         "BOOK STORES",
         " 12,45,789 ",
         6,
         "48,596",
         6,
         5
        ],
        [
         "1B14093",
         21,
         "FEMALE",
         "MANAGER",
         "SINGLE",
         3,
         42516,
         24567,
         7,
         "AUTOMOBILE",
         " 25,69,874 ",
         8,
         "89,652",
         2,
         3
        ],
        [
         "IB14138",
         27,
         "FEMALE",
         "SOFTWARE ENGINEER",
         "SINGLE",
         4,
         40000,
         22000,
         4,
         "GOLD LOAN",
         " 4,00,000 ",
         4,
         "15,647",
         5,
         3
        ],
        [
         "IBI4155",
         24,
         "FEMALE",
         "SOFTWARE ENGINEER",
         "SINGLE",
         4,
         55680,
         29000,
         5,
         "AUTOMOBILE",
         " 7,89,000 ",
         5,
         "24,000",
         6,
         4
        ],
        [
         "IB14179",
         24,
         "FEMALE",
         "TEACHER",
         "SINGLE",
         3,
         45008,
         17454,
         4,
         "AUTOMOBILE",
         " 3,99,435 ",
         9,
         "51,987",
         4,
         7
        ],
        [
         "IB14184",
         24,
         "MALE",
         "DATA ANALYST",
         "SINGLE",
         4,
         60111,
         28999,
         6,
         "RESTAURANTS",
         "35,232",
         5,
         "33,333",
         1,
         2
        ],
        [
         "IB14187",
         30,
         "FEMALE",
         "DENTIST",
         "SINGLE",
         3,
         58450,
         27675,
         5,
         "TRAVELLING",
         "75,000",
         6,
         "20,876",
         3,
         1
        ],
        [
         "IB14191",
         34,
         "MALE",
         "POLICE",
         "SINGLE",
         4,
         44521,
         11999,
         3,
         "AUTOMOBILE",
         " 2,00,000 ",
         2,
         "43,898",
         1,
         2
        ],
        [
         "IB14213",
         31,
         "MALE",
         "STORE KEEPER",
         "SINGLE",
         5,
         40999,
         11999,
         3,
         "AUTOMOBILE",
         " 1,67,654 ",
         1,
         "4,500",
         0,
         1
        ],
        [
         "IB14216",
         24,
         "MALE",
         "DATA ANALYST",
         "SINGLE",
         4,
         60111,
         28999,
         6,
         "RESTAURANTS",
         "35,232",
         5,
         "33,333",
         1,
         2
        ],
        [
         "IB14220",
         30,
         "FEMALE",
         "DENTIST",
         "SINGLE",
         3,
         58450,
         27675,
         5,
         "TRAVELLING",
         "75,000",
         6,
         "20,876",
         3,
         1
        ],
        [
         "IB14221",
         31,
         "MALE",
         "STORE KEEPER",
         "SINGLE",
         5,
         40999,
         11999,
         3,
         "BOOK STORES",
         " 1,67,654 ",
         1,
         "4,500",
         0,
         1
        ],
        [
         "IB14231",
         24,
         "FEMALE",
         "TEACHER",
         "SINGLE",
         3,
         45008,
         17454,
         4,
         "AUTOMOBILE",
         " 3,99,435 ",
         9,
         "51,987",
         4,
         7
        ],
        [
         "IB14240",
         34,
         "MALE",
         "POLICE",
         "SINGLE",
         4,
         43521,
         11999,
         3,
         "AUTOMOBILE",
         " 2,00,000 ",
         2,
         "43,898",
         1,
         2
        ],
        [
         "IB14260",
         34,
         "MALE",
         "POLICE",
         "SINGLE",
         4,
         43521,
         11999,
         3,
         "AUTOMOBILE",
         " 2,00,000 ",
         2,
         "43,898",
         1,
         2
        ],
        [
         "IB14287",
         31,
         "MALE",
         "STORE KEEPER",
         "SINGLE",
         5,
         40999,
         11999,
         3,
         "BOOK STORES",
         " 1,67,654 ",
         1,
         "4,500",
         0,
         1
        ],
        [
         "IBI4294",
         24,
         "FEMALE",
         "SOFTWARE ENGINEER",
         "SINGLE",
         4,
         49680,
         25000,
         5,
         "GOLD LOAN",
         " 7,89,000 ",
         5,
         "24,000",
         6,
         4
        ],
        [
         "IB14309",
         25,
         "MALE",
         "PROFESSOR",
         "SINGLE",
         5,
         62145,
         31254,
         4,
         "AUTOMOBILE",
         " 12,45,789 ",
         6,
         "48,596",
         6,
         5
        ],
        [
         "1B14312",
         21,
         "FEMALE",
         "MANAGER",
         "SINGLE",
         3,
         42516,
         24567,
         7,
         "EDUCATIONAL LOAN",
         " 25,69,874 ",
         8,
         "89,652",
         2,
         3
        ],
        [
         "IB14317",
         26,
         "FEMALE",
         "TEACHER",
         "SINGLE",
         3,
         45008,
         17454,
         4,
         "AUTOMOBILE",
         " 3,99,435 ",
         9,
         "51,987",
         4,
         7
        ],
        [
         "IB14326",
         37,
         "MALE",
         "DOCTOR",
         "SINGLE",
         2,
         56856,
         23678,
         7,
         "TRAVELLING",
         "588,690",
         8,
         "87171",
         4,
         3
        ],
        [
         "IB14395",
         36,
         "FEMALE",
         "TEACHER",
         "SINGLE",
         7,
         43518,
         null,
         8,
         "TRAVELLING",
         "681,886",
         9,
         "56090",
         0,
         0
        ],
        [
         "IB14436",
         24,
         "FEMALE",
         "SYSTEM MANAGER",
         "SINGLE",
         4,
         38401,
         27512,
         7,
         "RESTAURANTS",
         "744,697",
         4,
         "42166",
         4,
         2
        ],
        [
         "IB14440",
         24,
         "MALE",
         "SOFTWARE ENGINEER",
         "SINGLE",
         2,
         31107,
         21316,
         7,
         "GOLD LOAN",
         "1,216,788",
         6,
         "76049",
         1,
         5
        ],
        [
         "IB14466",
         24,
         "MALE",
         "PUBLIC WORKS",
         "SINGLE",
         3,
         45228,
         27839,
         7,
         "SHOPPING",
         "439,976",
         8,
         "57559",
         1,
         7
        ],
        [
         "IB14470",
         29,
         "MALE",
         "NURSE",
         "SINGLE",
         6,
         51199,
         15753,
         5,
         "COMPUTER SOFTWARES",
         "331,716",
         3,
         "57156",
         3,
         0
        ],
        [
         "IB14476",
         29,
         "MALE",
         "SOFTWARE ENGINEER",
         "SINGLE",
         5,
         30454,
         22210,
         4,
         "SHOPPING",
         "763,036",
         6,
         "37762",
         7,
         9
        ],
        [
         "IB14489",
         24,
         "MALE",
         "TEACHER",
         "SINGLE",
         5,
         74609,
         20444,
         4,
         "RESTAURANTS",
         "507,036",
         2,
         "51858",
         0,
         3
        ],
        [
         "IB14491",
         24,
         "MALE",
         "TEACHER",
         "SINGLE",
         2,
         77923,
         null,
         5,
         "TRAVELLING",
         "625,226",
         5,
         "34121",
         2,
         8
        ],
        [
         "IB14510",
         24,
         "MALE",
         "AIRPORT OFFICER",
         "SINGLE",
         4,
         67445,
         23826,
         8,
         "HOME APPLIANCES",
         "515,970",
         1,
         "79454",
         6,
         2
        ],
        [
         "IB14563",
         42,
         "FEMALE",
         "NAVY",
         "SINGLE",
         3,
         86184,
         47555,
         3,
         "AUTOMOBILE",
         "1,668,435",
         5,
         "54235",
         6,
         1
        ],
        [
         "IB14581",
         41,
         "MALE",
         "FARMER",
         "SINGLE",
         5,
         76294,
         45744,
         8,
         "BUILDING",
         "318,598",
         9,
         "23866",
         8,
         9
        ],
        [
         "IB14585",
         52,
         "FEMALE",
         "PILOT",
         "SINGLE",
         7,
         91853,
         39629,
         4,
         "RESTAURANT",
         "1,392,577",
         6,
         "85269",
         4,
         8
        ],
        [
         "IB14589",
         56,
         "MALE",
         "FARMER",
         "SINGLE",
         3,
         51162,
         12591,
         9,
         "AGRICULTURE",
         "104,758",
         3,
         "75535",
         2,
         1
        ],
        [
         "IB14590",
         58,
         "MALE",
         "DRIVER",
         "SINGLE",
         5,
         45457,
         25922,
         6,
         "GOLD LOAN",
         "905,203",
         4,
         "30211",
         1,
         6
        ],
        [
         "IB14593",
         40,
         "MALE",
         "DENTIST",
         "SINGLE",
         7,
         49744,
         23564,
         5,
         "COMPUTER SOFTWARES",
         "207,979",
         4,
         "36588",
         3,
         2
        ],
        [
         "IB14594",
         32,
         "FEMALE",
         "NAVY",
         "SINGLE",
         7,
         78777,
         34159,
         7,
         "AUTOMOBILE",
         "622,414",
         6,
         "37436",
         2,
         9
        ],
        [
         "IB14601",
         44,
         "MALE",
         "POLICE",
         "SINGLE",
         5,
         71214,
         12463,
         8,
         "RESTAURANTS",
         "910,960",
         1,
         "70423",
         2,
         8
        ],
        [
         "IB14602",
         39,
         "FEMALE",
         "BANK MANAGER",
         "SINGLE",
         6,
         55639,
         23775,
         9,
         "HOUSING",
         "284,938",
         9,
         "80269",
         3,
         8
        ],
        [
         "IB14604",
         52,
         "MALE",
         "ACCOUNTANT",
         "SINGLE",
         7,
         46086,
         27201,
         9,
         "AGRICULTURE",
         "1,682,942",
         7,
         "29654",
         5,
         8
        ],
        [
         "IB14611",
         49,
         "MALE",
         "AGRICULTURAL ENGINEER",
         "SINGLE",
         7,
         81960,
         14724,
         4,
         "BUSINESS",
         "649,933",
         8,
         "20801",
         9,
         3
        ],
        [
         "IB14617",
         39,
         "FEMALE",
         "PILOT",
         "SINGLE",
         2,
         84553,
         36744,
         3,
         "GOLD LOAN",
         "870,287",
         4,
         "34551",
         5,
         0
        ],
        [
         "IB14619",
         43,
         "MALE",
         "TEACHER",
         "SINGLE",
         4,
         35020,
         26286,
         8,
         "SHOPPING",
         "162,449",
         9,
         "22862",
         3,
         3
        ],
        [
         "IB14623",
         39,
         "MALE",
         "DATA ENGINEER",
         "SINGLE",
         2,
         74264,
         37747,
         5,
         "RESTAURANTS",
         "321,040",
         1,
         "55582",
         1,
         9
        ],
        [
         "IB14629",
         47,
         "FEMALE",
         "DOCTOR",
         "SINGLE",
         2,
         86072,
         22248,
         2,
         "GOLD LOAN",
         "1,044,964",
         4,
         "63105",
         7,
         2
        ],
        [
         "IB14635",
         51,
         "MALE",
         "TEACHER",
         "SINGLE",
         3,
         69961,
         27078,
         8,
         "AUTOMOBILE",
         "208,327",
         7,
         "13594",
         1,
         9
        ],
        [
         "IB14637",
         45,
         "FEMALE",
         "FARMER",
         "SINGLE",
         5,
         62304,
         34392,
         5,
         "RESTAURANT",
         "549,605",
         9,
         "12990",
         8,
         1
        ],
        [
         "IB14645",
         28,
         "MALE",
         "DIETICIAN",
         "SINGLE",
         3,
         90863,
         16863,
         5,
         "BUSINESS",
         "1,118,207",
         3,
         "32059",
         2,
         4
        ],
        [
         "IB14655",
         52,
         "FEMALE",
         "BANK MANAGER",
         "SINGLE",
         3,
         68918,
         30676,
         5,
         "AUTOMOBILE",
         "1,265,945",
         5,
         "16997",
         5,
         4
        ],
        [
         "IB14657",
         44,
         "FEMALE",
         "NAVY",
         "SINGLE",
         2,
         86269,
         25280,
         8,
         "GOLD LOAN",
         "964,109",
         4,
         "80308",
         0,
         7
        ],
        [
         "IB14659",
         33,
         "FEMALE",
         "DRIVER",
         "SINGLE",
         6,
         48332,
         20763,
         8,
         "RESTAURANT",
         "899,714",
         7,
         "66030",
         7,
         3
        ],
        [
         "IB14667",
         30,
         "MALE",
         "AGRICULTURAL ENGINEER",
         "SINGLE",
         6,
         85289,
         49481,
         3,
         "HOUSING",
         "679,588",
         1,
         "21091",
         3,
         3
        ],
        [
         "IB14685",
         26,
         "MALE",
         "BANK MANAGER",
         "SINGLE",
         5,
         29565,
         19490,
         9,
         "HOUSING",
         "1,767,908",
         9,
         "72653",
         4,
         6
        ],
        [
         "IB14691",
         43,
         "FEMALE",
         "POLICE",
         "SINGLE",
         5,
         38501,
         48744,
         5,
         "GOLD LOAN",
         "1,460,365",
         2,
         "55397",
         9,
         0
        ],
        [
         "IB14693",
         27,
         "MALE",
         "DOCTOR",
         "SINGLE",
         7,
         28366,
         29258,
         2,
         "GOLD LOAN",
         "1,659,986",
         9,
         "20611",
         5,
         5
        ],
        [
         "IB14697",
         39,
         "FEMALE",
         "NAVY",
         "SINGLE",
         4,
         77699,
         12482,
         3,
         "AUTOMOBILE",
         "1,410,206",
         9,
         "57206",
         2,
         8
        ],
        [
         "IB14699",
         45,
         "FEMALE",
         "SOFTWARE ENGINEER",
         "SINGLE",
         4,
         98199,
         43464,
         9,
         "ELECTRONICS",
         "1,719,010",
         3,
         "86384",
         4,
         8
        ],
        [
         "IB14702",
         59,
         "FEMALE",
         "NAVY",
         "SINGLE",
         2,
         71171,
         26078,
         5,
         "RESTAURANT",
         "456,808",
         6,
         "58510",
         8,
         7
        ],
        [
         "IB14704",
         48,
         "MALE",
         "EXECUTIVE",
         "SINGLE",
         2,
         57460,
         48959,
         2,
         "BUSINESS",
         "1,073,372",
         5,
         "72858",
         1,
         5
        ],
        [
         "IB14706",
         30,
         "FEMALE",
         "TEACHER",
         "SINGLE",
         5,
         51564,
         20097,
         2,
         "AUTOMOBILE",
         "722,907",
         2,
         "56157",
         2,
         7
        ],
        [
         "IB14714",
         43,
         "FEMALE",
         "SOFTWARE ENGINEER",
         "SINGLE",
         5,
         86970,
         30379,
         2,
         "GOLD LOAN",
         "1,090,886",
         9,
         "13994",
         5,
         7
        ],
        [
         "IB14716",
         26,
         "MALE",
         "DIETICIAN",
         "SINGLE",
         3,
         92425,
         43086,
         2,
         "RESTAURANTS",
         "488,076",
         4,
         "61227",
         5,
         2
        ],
        [
         "IB14718",
         47,
         "MALE",
         "DOCTOR",
         "SINGLE",
         4,
         77580,
         null,
         3,
         "SHOPPING",
         "339,171",
         9,
         "84824",
         8,
         9
        ],
        [
         "IB14719",
         42,
         "FEMALE",
         "PILOT",
         "SINGLE",
         4,
         75993,
         22164,
         5,
         "DINNING",
         "340,060",
         3,
         "17476",
         4,
         7
        ],
        [
         "IB14721",
         30,
         "MALE",
         "PILOT",
         "SINGLE",
         2,
         76333,
         37037,
         3,
         "BUSINESS",
         "1,042,400",
         2,
         "34044",
         3,
         1
        ],
        [
         "IB14727",
         53,
         "FEMALE",
         "DATA ENGINEER",
         "SINGLE",
         2,
         84862,
         12102,
         4,
         "RESTAURANT",
         "233,604",
         9,
         "46408",
         4,
         2
        ],
        [
         "IB14729",
         58,
         "MALE",
         "CHARTERED APPRAISER",
         "SINGLE",
         5,
         70952,
         15709,
         9,
         "RESTAURANT",
         "204,833",
         5,
         "20711",
         5,
         4
        ],
        [
         "IB14731",
         45,
         "MALE",
         "BUSINESS",
         "SINGLE",
         7,
         34444,
         45690,
         8,
         "SHOPPING",
         "380,248",
         5,
         "15020",
         2,
         4
        ],
        [
         "IB14736",
         38,
         "FEMALE",
         "ACCOUNTANT",
         "SINGLE",
         5,
         75290,
         35549,
         9,
         "HOUSING",
         "1,522,824",
         1,
         "71187",
         7,
         2
        ],
        [
         "IB14737",
         54,
         "FEMALE",
         "POLICE",
         "SINGLE",
         6,
         62641,
         36687,
         4,
         "HOUSING",
         "898,353",
         2,
         "26901",
         1,
         3
        ],
        [
         "IB14740",
         52,
         "FEMALE",
         "CHARTERED APPRAISER",
         "SINGLE",
         6,
         65023,
         49118,
         7,
         "RESTAURANTS",
         "1,670,805",
         7,
         "45808",
         9,
         2
        ],
        [
         "IB14741",
         34,
         "FEMALE",
         "CLERK",
         "SINGLE",
         6,
         47550,
         25286,
         6,
         "HOUSING",
         "696,818",
         1,
         "49464",
         0,
         4
        ],
        [
         "IB14751",
         27,
         "FEMALE",
         "DIETICIAN",
         "SINGLE",
         2,
         84112,
         17725,
         7,
         "BUSINESS",
         "312,602",
         6,
         "44634",
         5,
         6
        ],
        [
         "IB14753",
         59,
         "FEMALE",
         "CHARTERED APPRAISER",
         "SINGLE",
         5,
         74179,
         31530,
         7,
         "BUSINESS",
         "1,428,709",
         4,
         "66854",
         2,
         6
        ],
        [
         "IB14758",
         41,
         "MALE",
         "TEACHER",
         "SINGLE",
         2,
         46182,
         33404,
         9,
         "RESTAURANTS",
         "1,337,967",
         4,
         "75552",
         2,
         9
        ],
        [
         "IB14761",
         26,
         "FEMALE",
         "BUSINESS",
         "SINGLE",
         6,
         74775,
         27970,
         8,
         "HOUSING",
         "879,114",
         2,
         "47103",
         2,
         5
        ],
        [
         "IB14765",
         34,
         "MALE",
         "ARMY",
         "SINGLE",
         6,
         72271,
         32082,
         4,
         "HOUSING",
         "625,194",
         7,
         "19300",
         2,
         7
        ],
        [
         "IB14766",
         27,
         "FEMALE",
         "EXECUTIVE",
         "SINGLE",
         5,
         78975,
         49225,
         2,
         "BUSINESS",
         "479,113",
         6,
         "64563",
         1,
         5
        ],
        [
         "IB14771",
         44,
         "FEMALE",
         "POLICE",
         "SINGLE",
         4,
         80769,
         41529,
         3,
         "AGRICULTURE",
         "1,458,057",
         3,
         "74975",
         5,
         1
        ],
        [
         "IB14773",
         45,
         "FEMALE",
         "DENTIST",
         "SINGLE",
         4,
         46196,
         26603,
         9,
         "COMPUTER SOFTWARES",
         "841,132",
         7,
         "60537",
         1,
         6
        ],
        [
         "IB14778",
         43,
         "FEMALE",
         "DATA ENGINEER",
         "SINGLE",
         6,
         42827,
         36410,
         5,
         "RESTAURANT",
         "125,982",
         2,
         "75739",
         8,
         6
        ],
        [
         "IB14781",
         51,
         "FEMALE",
         "TEACHER",
         "SINGLE",
         2,
         77986,
         47143,
         3,
         "BUSINESS",
         "903,614",
         6,
         "55757",
         0,
         4
        ],
        [
         "IB14785",
         47,
         "FEMALE",
         "DRIVER",
         "SINGLE",
         5,
         38687,
         17562,
         8,
         "HOUSING",
         "180,826",
         5,
         "81601",
         6,
         1
        ],
        [
         "IB14789",
         25,
         "MALE",
         "DRIVER",
         "SINGLE",
         7,
         84394,
         48705,
         3,
         "AUTOMOBILE",
         "878,858",
         6,
         "43350",
         8,
         4
        ],
        [
         "IB14794",
         32,
         "FEMALE",
         "CHARTERED APPRAISER",
         "SINGLE",
         2,
         88323,
         40734,
         5,
         "DINNING",
         "1,193,808",
         5,
         "23946",
         2,
         2
        ],
        [
         "IB14795",
         54,
         "FEMALE",
         "TEACHER",
         "SINGLE",
         7,
         53832,
         18748,
         4,
         "GOLD LOAN",
         "1,503,911",
         1,
         "50787",
         9,
         1
        ],
        [
         "IB14797",
         26,
         "MALE",
         "ACCOUNTANT",
         "SINGLE",
         7,
         43350,
         31632,
         5,
         "AUTOMOBILE",
         "1,630,901",
         4,
         "79235",
         9,
         6
        ],
        [
         "IB14800",
         30,
         "FEMALE",
         "TEACHER",
         "SINGLE",
         4,
         49370,
         21720,
         4,
         "SHOPPING",
         "140,556",
         9,
         "40378",
         7,
         7
        ],
        [
         "IB14804",
         30,
         "MALE",
         "BUSINESS",
         "SINGLE",
         2,
         53957,
         34709,
         7,
         "GOLD LOAN",
         "1,765,055",
         8,
         "37815",
         5,
         8
        ],
        [
         "IB14806",
         48,
         "MALE",
         "ARMY",
         "SINGLE",
         6,
         67129,
         16487,
         3,
         "BUSINESS",
         "167,995",
         9,
         "37222",
         4,
         6
        ],
        [
         "IB14809",
         28,
         "FEMALE",
         "ACCOUNTANT",
         "SINGLE",
         3,
         76844,
         27358,
         7,
         "RESTAURANT",
         "1,582,924",
         1,
         "73033",
         2,
         1
        ],
        [
         "IB14820",
         42,
         "MALE",
         "DRIVER",
         "SINGLE",
         2,
         47217,
         16575,
         3,
         "GOLD LOAN",
         "1,773,297",
         4,
         "40373",
         8,
         1
        ],
        [
         "IB14825",
         31,
         "MALE",
         "TECHNICIAN",
         "SINGLE",
         5,
         79363,
         18706,
         9,
         "BUSINESS",
         "442,793",
         4,
         "18431",
         9,
         5
        ],
        [
         "IB14827",
         37,
         "MALE",
         "BANK MANAGER",
         "SINGLE",
         2,
         35735,
         47037,
         9,
         "RESTAURANT",
         "312,839",
         8,
         "31432",
         3,
         7
        ],
        [
         "IB14829",
         48,
         "MALE",
         "DRIVER",
         "SINGLE",
         4,
         61021,
         16440,
         7,
         "RESTAURANTS",
         "1,470,269",
         8,
         "59449",
         3,
         8
        ],
        [
         "IB14831",
         30,
         "FEMALE",
         "NAVY",
         "SINGLE",
         6,
         51862,
         21101,
         5,
         "HOUSING",
         "745,152",
         5,
         "57851",
         6,
         8
        ],
        [
         "IB14837",
         38,
         "MALE",
         "DRIVER",
         "SINGLE",
         7,
         45362,
         35895,
         9,
         "HOUSING",
         "1,216,455",
         7,
         "83458",
         3,
         7
        ],
        [
         "IB14839",
         54,
         "FEMALE",
         "TECHNICIAN",
         "SINGLE",
         5,
         34721,
         14789,
         2,
         "TRAVELLING",
         "332,838",
         1,
         "67426",
         0,
         3
        ],
        [
         "IB14843",
         43,
         "MALE",
         "DOCTOR",
         "SINGLE",
         4,
         50407,
         34413,
         4,
         "AGRICULTURE",
         "1,143,937",
         9,
         "57977",
         9,
         1
        ],
        [
         "IB14853",
         31,
         "FEMALE",
         "TEACHER",
         "SINGLE",
         3,
         51227,
         17187,
         2,
         "GOLD LOAN",
         "314,714",
         5,
         "63843",
         7,
         3
        ],
        [
         "IB14855",
         53,
         "FEMALE",
         "SOFTWARE ENGINEER",
         "SINGLE",
         4,
         81210,
         21027,
         7,
         "RESTAURANT",
         "740,375",
         7,
         "35419",
         2,
         4
        ],
        [
         "IB14857",
         32,
         "FEMALE",
         "DIETICIAN",
         "SINGLE",
         3,
         40060,
         23989,
         6,
         "GOLD LOAN",
         "400,085",
         6,
         "41436",
         4,
         9
        ],
        [
         "IB14867",
         46,
         "FEMALE",
         "CHARTERED APPRAISER",
         "SINGLE",
         2,
         91088,
         42256,
         5,
         "EDUCATIONAL LOAN",
         "347,254",
         9,
         "37966",
         1,
         5
        ],
        [
         "IB14869",
         44,
         "MALE",
         "CLERK",
         "SINGLE",
         5,
         51555,
         12052,
         2,
         "EDUCATIONAL LOAN",
         "1,377,455",
         8,
         "29981",
         1,
         8
        ],
        [
         "IB14873",
         42,
         "FEMALE",
         "PILOT",
         "SINGLE",
         4,
         83053,
         22355,
         5,
         "BOOK STORES",
         "323,075",
         6,
         "84997",
         4,
         4
        ],
        [
         "IB14878",
         33,
         "FEMALE",
         "CHARTERED APPRAISER",
         "SINGLE",
         4,
         58661,
         42768,
         4,
         "GOLD LOAN",
         "1,290,966",
         9,
         "72021",
         3,
         9
        ],
        [
         "IB14883",
         59,
         "MALE",
         "AGRICULTURAL ENGINEER",
         "SINGLE",
         5,
         72052,
         45311,
         4,
         "HOME APPLIANCES",
         "576,136",
         1,
         "75822",
         1,
         6
        ],
        [
         "IB14886",
         42,
         "FEMALE",
         "BANK MANAGER",
         "SINGLE",
         7,
         85632,
         37935,
         5,
         "EDUCATIONAL LOAN",
         "688,435",
         3,
         "74874",
         7,
         7
        ],
        [
         "IB14889",
         41,
         "FEMALE",
         "DIETICIAN",
         "SINGLE",
         3,
         96501,
         41529,
         6,
         "GOLD LOAN",
         "1,694,354",
         3,
         "35876",
         2,
         8
        ],
        [
         "IB14898",
         51,
         "FEMALE",
         "SOFTWARE ENGINEER",
         "SINGLE",
         3,
         84966,
         42591,
         5,
         "TRAVELLING",
         "1,179,496",
         4,
         "58257",
         0,
         9
        ],
        [
         "IB14903",
         42,
         "FEMALE",
         "TECHNICIAN",
         "SINGLE",
         3,
         42304,
         21760,
         9,
         "BUSINESS",
         "1,630,952",
         6,
         "21031",
         7,
         2
        ],
        [
         "IB14907",
         42,
         "FEMALE",
         "DIETICIAN",
         "SINGLE",
         7,
         51301,
         30975,
         5,
         "RESTAURANT",
         "677,291",
         8,
         "25850",
         8,
         5
        ],
        [
         "IB14909",
         57,
         "FEMALE",
         "POLICE",
         "SINGLE",
         3,
         44945,
         25513,
         8,
         "GOLD LOAN",
         "453,196",
         2,
         "54235",
         3,
         2
        ],
        [
         "IB14911",
         24,
         "FEMALE",
         "SOFTWARE ENGINEER",
         "SINGLE",
         5,
         56000,
         22376,
         5,
         "SHOPPING",
         "206,750",
         4,
         "23450",
         5,
         3
        ],
        [
         "IB14933",
         43,
         "MALE",
         "DOCTOR",
         "SINGLE",
         4,
         55407,
         24413,
         4,
         "HOUSING",
         "1,042,737",
         9,
         "57977",
         9,
         1
        ],
        [
         "IB14943",
         31,
         "FEMALE",
         "TEACHER",
         "SINGLE",
         3,
         41227,
         19187,
         2,
         "HOUSING",
         "414,714",
         5,
         "53843",
         7,
         3
        ],
        [
         "IB14947",
         32,
         "FEMALE",
         "DIETICIAN",
         "SINGLE",
         3,
         50060,
         28989,
         6,
         "HOUSING",
         "600,085",
         6,
         "45436",
         4,
         9
        ],
        [
         "IB14953",
         29,
         "MALE",
         "SOFTWARE ENGINEER",
         "SINGLE",
         5,
         50454,
         32210,
         4,
         "SHOPPING",
         "763,036",
         6,
         "36762",
         7,
         9
        ],
        [
         "IB14973",
         42,
         "FEMALE",
         "NAVY",
         "SINGLE",
         3,
         76184,
         37555,
         3,
         "AUTOMOBILE",
         "868,435",
         5,
         "34235",
         6,
         1
        ],
        [
         "IB14987",
         41,
         "MALE",
         "FARMER",
         "SINGLE",
         5,
         78294,
         40744,
         8,
         "BUILDING",
         "418,598",
         9,
         "23866",
         8,
         9
        ],
        [
         "IB14991",
         52,
         "MALE",
         "PILOT",
         "SINGLE",
         7,
         95853,
         49629,
         4,
         "HOUSING",
         "1,392,577",
         6,
         "25269",
         4,
         8
        ],
        [
         "IB14996",
         27,
         "MALE",
         "DOCTOR",
         "SINGLE",
         7,
         68366,
         30258,
         2,
         "TRAVELLING",
         "1,059,986",
         9,
         "20611",
         5,
         5
        ],
        [
         "IB15001",
         39,
         "FEMALE",
         "NAVY",
         "SINGLE",
         4,
         79699,
         32482,
         3,
         "AUTOMOBILE",
         "810,206",
         9,
         "57206",
         2,
         8
        ],
        [
         "IB15004",
         45,
         "FEMALE",
         "SOFTWARE ENGINEER",
         "SINGLE",
         4,
         68199,
         33464,
         9,
         "ELECTRONICS",
         "719,010",
         3,
         "46384",
         4,
         8
        ],
        [
         "IB15007",
         59,
         "FEMALE",
         "NAVY",
         "SINGLE",
         2,
         75171,
         36078,
         5,
         "RESTAURANT",
         "556,808",
         6,
         "58510",
         8,
         7
        ],
        [
         "IB15009",
         48,
         "MALE",
         "EXECUTIVE",
         "SINGLE",
         2,
         67460,
         45959,
         2,
         "BUSINESS",
         "1,173,372",
         5,
         "62858",
         1,
         5
        ],
        [
         "IB15011",
         30,
         "FEMALE",
         "TEACHER",
         "SINGLE",
         5,
         55564,
         28097,
         2,
         "AUTOMOBILE",
         "822,907",
         2,
         "56157",
         2,
         7
        ],
        [
         "IB15021",
         43,
         "FEMALE",
         "SOFTWARE ENGINEER",
         "SINGLE",
         5,
         76970,
         35379,
         2,
         "GOLD LOAN",
         "1,090,886",
         9,
         "13994",
         5,
         7
        ],
        [
         "IB15024",
         26,
         "MALE",
         "DIETICIAN",
         "SINGLE",
         3,
         95425,
         53086,
         2,
         "HOUSING",
         "488,076",
         4,
         "61227",
         5,
         2
        ],
        [
         "IB15027",
         47,
         "MALE",
         "DOCTOR",
         "SINGLE",
         4,
         79580,
         null,
         3,
         "SHOPPING",
         "339,171",
         9,
         "84824",
         8,
         9
        ],
        [
         "IB15031",
         30,
         "MALE",
         "PILOT",
         "SINGLE",
         2,
         86333,
         47037,
         3,
         "BUSINESS",
         "1,042,400",
         2,
         "34044",
         3,
         1
        ],
        [
         "IB15045",
         34,
         "MALE",
         "POLICE",
         "SINGLE",
         4,
         45521,
         null,
         3,
         "AUTOMOBILE",
         " 2,00,000 ",
         2,
         "43,898",
         1,
         2
        ],
        [
         "IB15095",
         53,
         "FEMALE",
         "SOFTWARE ENGINEER",
         "SINGLE",
         4,
         75210,
         26027,
         7,
         "HOUSING",
         "740,375",
         7,
         "35419",
         2,
         4
        ],
        [
         "IB15097",
         32,
         "FEMALE",
         "DIETICIAN",
         "SINGLE",
         3,
         45060,
         24989,
         6,
         "TRAVELLING",
         "400,085",
         6,
         "41436",
         4,
         9
        ]
       ],
       "datasetInfos": [],
       "dbfsResultPath": null,
       "isJsonSchema": true,
       "metadata": {},
       "overflow": false,
       "plotOptions": {
        "customPlotOptions": {},
        "displayType": "table",
        "pivotAggregation": null,
        "pivotColumns": null,
        "xColumns": null,
        "yColumns": null
       },
       "removedWidgets": [],
       "schema": [
        {
         "metadata": "{}",
         "name": "Customer_ID",
         "type": "\"string\""
        },
        {
         "metadata": "{}",
         "name": "Age",
         "type": "\"integer\""
        },
        {
         "metadata": "{}",
         "name": "Gender",
         "type": "\"string\""
        },
        {
         "metadata": "{}",
         "name": "Occupation",
         "type": "\"string\""
        },
        {
         "metadata": "{}",
         "name": "Marital Status",
         "type": "\"string\""
        },
        {
         "metadata": "{}",
         "name": "Family Size",
         "type": "\"integer\""
        },
        {
         "metadata": "{}",
         "name": "Income",
         "type": "\"integer\""
        },
        {
         "metadata": "{}",
         "name": "Expenditure",
         "type": "\"integer\""
        },
        {
         "metadata": "{}",
         "name": "Use Frequency",
         "type": "\"integer\""
        },
        {
         "metadata": "{}",
         "name": "Loan Category",
         "type": "\"string\""
        },
        {
         "metadata": "{}",
         "name": "Loan Amount",
         "type": "\"string\""
        },
        {
         "metadata": "{}",
         "name": "Overdue",
         "type": "\"integer\""
        },
        {
         "metadata": "{}",
         "name": " Debt Record",
         "type": "\"string\""
        },
        {
         "metadata": "{}",
         "name": " Returned Cheque",
         "type": "\"integer\""
        },
        {
         "metadata": "{}",
         "name": " Dishonour of Bill",
         "type": "\"integer\""
        }
       ],
       "type": "table"
      }
     },
     "output_type": "display_data"
    }
   ],
   "source": [
    "%sql\n",
    "SELECT *\n",
    "FROM loans\n",
    "WHERE `Marital Status` = 'SINGLE' AND Income > 5000\n"
   ]
  },
  {
   "cell_type": "markdown",
   "metadata": {
    "application/vnd.databricks.v1+cell": {
     "cellMetadata": {},
     "inputWidgets": {},
     "nuid": "3b0c55ea-838e-42dc-aa50-49becee6679d",
     "showTitle": false,
     "tableResultSettingsMap": {},
     "title": ""
    }
   },
   "source": [
    "GroupBy and Count"
   ]
  },
  {
   "cell_type": "code",
   "execution_count": 0,
   "metadata": {
    "application/vnd.databricks.v1+cell": {
     "cellMetadata": {
      "byteLimit": 2048000,
      "rowLimit": 10000
     },
     "inputWidgets": {},
     "nuid": "bc8212d2-fe8b-4f3d-996d-93f0fad8ff9f",
     "showTitle": false,
     "tableResultSettingsMap": {},
     "title": ""
    }
   },
   "outputs": [
    {
     "output_type": "stream",
     "name": "stdout",
     "output_type": "stream",
     "text": [
      "Number of customers by occupation:\n+--------------------+-----+\n|          Occupation|count|\n+--------------------+-----+\n|      CIVIL ENGINEER|    6|\n|     FIRE DEPARTMENT|   12|\n|          ACCOUNTANT|    7|\n|        BANK MANAGER|   28|\n|      SYSTEM OFFICER|    4|\n|           NUTRITION|    1|\n|           DIETICIAN|   13|\n|               CLERK|   26|\n|   SOFTWARE ENGINEER|   35|\n|AGRICULTURAL ENGI...|    8|\n|   ASSISTANT MANAGER|    6|\n|             TEACHER|   63|\n| ASSISTANT PROFESSOR|    9|\n|     SYSTEM ENGINEER|    3|\n| CHARTERED APPRAISER|   11|\n|                NAVY|   16|\n|              POLICE|   18|\n|            BUSINESS|   16|\n|              FARMER|    7|\n|              DRIVER|   18|\n+--------------------+-----+\nonly showing top 20 rows\n\n"
     ]
    }
   ],
   "source": [
    "# Count customers by Occupation\n",
    "customer_count_by_occupation = loans_df.groupBy(\"Occupation\").count()\n",
    "\n",
    "# Display the result\n",
    "print(\"Number of customers by occupation:\")\n",
    "customer_count_by_occupation.show()\n"
   ]
  },
  {
   "cell_type": "code",
   "execution_count": 0,
   "metadata": {
    "application/vnd.databricks.v1+cell": {
     "cellMetadata": {
      "byteLimit": 2048000,
      "implicitDf": true,
      "rowLimit": 10000
     },
     "inputWidgets": {},
     "nuid": "ad7b0b17-322a-4e91-a026-0e8f3ce7eff0",
     "showTitle": false,
     "tableResultSettingsMap": {},
     "title": ""
    }
   },
   "outputs": [
    {
     "output_type": "display_data",
     "data": {
      "text/html": [
       "<style scoped>\n",
       "  .table-result-container {\n",
       "    max-height: 300px;\n",
       "    overflow: auto;\n",
       "  }\n",
       "  table, th, td {\n",
       "    border: 1px solid black;\n",
       "    border-collapse: collapse;\n",
       "  }\n",
       "  th, td {\n",
       "    padding: 5px;\n",
       "  }\n",
       "  th {\n",
       "    text-align: left;\n",
       "  }\n",
       "</style><div class='table-result-container'><table class='table-result'><thead style='background-color: white'><tr><th>Occupation</th><th>Customer_Count</th></tr></thead><tbody><tr><td>CIVIL ENGINEER</td><td>6</td></tr><tr><td>FIRE DEPARTMENT</td><td>12</td></tr><tr><td>ACCOUNTANT</td><td>7</td></tr><tr><td>BANK MANAGER</td><td>28</td></tr><tr><td>SYSTEM OFFICER</td><td>4</td></tr><tr><td>NUTRITION</td><td>1</td></tr><tr><td>DIETICIAN</td><td>13</td></tr><tr><td>CLERK</td><td>26</td></tr><tr><td>SOFTWARE ENGINEER</td><td>35</td></tr><tr><td>AGRICULTURAL ENGINEER</td><td>8</td></tr><tr><td>ASSISTANT MANAGER</td><td>6</td></tr><tr><td>TEACHER</td><td>63</td></tr><tr><td>ASSISTANT PROFESSOR</td><td>9</td></tr><tr><td>SYSTEM ENGINEER</td><td>3</td></tr><tr><td>CHARTERED APPRAISER</td><td>11</td></tr><tr><td>NAVY</td><td>16</td></tr><tr><td>POLICE</td><td>18</td></tr><tr><td>BUSINESS</td><td>16</td></tr><tr><td>FARMER</td><td>7</td></tr><tr><td>DRIVER</td><td>18</td></tr><tr><td>ELECTRICIAN</td><td>8</td></tr><tr><td>DATA ENGINEER</td><td>7</td></tr><tr><td>EXECUTIVE</td><td>7</td></tr><tr><td>DENTIST</td><td>10</td></tr><tr><td>SYSTEM MANAGER</td><td>10</td></tr><tr><td>PUBLIC WORKS</td><td>6</td></tr><tr><td>TECHNICIAN</td><td>12</td></tr><tr><td>ARMY</td><td>5</td></tr><tr><td>AIRPORT OFFICER</td><td>15</td></tr><tr><td>PILOT</td><td>15</td></tr><tr><td>MANAGER</td><td>2</td></tr><tr><td>ACCOUNT MANAGER</td><td>11</td></tr><tr><td>STORE KEEPER</td><td>5</td></tr><tr><td>DOCTOR</td><td>29</td></tr><tr><td>PRODUCT ENGINEER</td><td>21</td></tr><tr><td>CORPORATE OFFICER</td><td>3</td></tr><tr><td>PROFESSOR</td><td>8</td></tr><tr><td>NURSE</td><td>11</td></tr><tr><td>DATA ANALYST</td><td>8</td></tr></tbody></table></div>"
      ]
     },
     "metadata": {
      "application/vnd.databricks.v1+output": {
       "addedWidgets": {},
       "aggData": [],
       "aggError": "",
       "aggOverflow": false,
       "aggSchema": [],
       "aggSeriesLimitReached": false,
       "aggType": "",
       "arguments": {},
       "columnCustomDisplayInfos": {},
       "data": [
        [
         "CIVIL ENGINEER",
         6
        ],
        [
         "FIRE DEPARTMENT",
         12
        ],
        [
         "ACCOUNTANT",
         7
        ],
        [
         "BANK MANAGER",
         28
        ],
        [
         "SYSTEM OFFICER",
         4
        ],
        [
         "NUTRITION",
         1
        ],
        [
         "DIETICIAN",
         13
        ],
        [
         "CLERK",
         26
        ],
        [
         "SOFTWARE ENGINEER",
         35
        ],
        [
         "AGRICULTURAL ENGINEER",
         8
        ],
        [
         "ASSISTANT MANAGER",
         6
        ],
        [
         "TEACHER",
         63
        ],
        [
         "ASSISTANT PROFESSOR",
         9
        ],
        [
         "SYSTEM ENGINEER",
         3
        ],
        [
         "CHARTERED APPRAISER",
         11
        ],
        [
         "NAVY",
         16
        ],
        [
         "POLICE",
         18
        ],
        [
         "BUSINESS",
         16
        ],
        [
         "FARMER",
         7
        ],
        [
         "DRIVER",
         18
        ],
        [
         "ELECTRICIAN",
         8
        ],
        [
         "DATA ENGINEER",
         7
        ],
        [
         "EXECUTIVE",
         7
        ],
        [
         "DENTIST",
         10
        ],
        [
         "SYSTEM MANAGER",
         10
        ],
        [
         "PUBLIC WORKS",
         6
        ],
        [
         "TECHNICIAN",
         12
        ],
        [
         "ARMY",
         5
        ],
        [
         "AIRPORT OFFICER",
         15
        ],
        [
         "PILOT",
         15
        ],
        [
         "MANAGER",
         2
        ],
        [
         "ACCOUNT MANAGER",
         11
        ],
        [
         "STORE KEEPER",
         5
        ],
        [
         "DOCTOR",
         29
        ],
        [
         "PRODUCT ENGINEER",
         21
        ],
        [
         "CORPORATE OFFICER",
         3
        ],
        [
         "PROFESSOR",
         8
        ],
        [
         "NURSE",
         11
        ],
        [
         "DATA ANALYST",
         8
        ]
       ],
       "datasetInfos": [],
       "dbfsResultPath": null,
       "isJsonSchema": true,
       "metadata": {},
       "overflow": false,
       "plotOptions": {
        "customPlotOptions": {},
        "displayType": "table",
        "pivotAggregation": null,
        "pivotColumns": null,
        "xColumns": null,
        "yColumns": null
       },
       "removedWidgets": [],
       "schema": [
        {
         "metadata": "{}",
         "name": "Occupation",
         "type": "\"string\""
        },
        {
         "metadata": "{}",
         "name": "Customer_Count",
         "type": "\"long\""
        }
       ],
       "type": "table"
      }
     },
     "output_type": "display_data"
    }
   ],
   "source": [
    "%sql\n",
    "SELECT Occupation, COUNT(*) AS Customer_Count\n",
    "FROM loans\n",
    "GROUP BY Occupation\n"
   ]
  },
  {
   "cell_type": "markdown",
   "metadata": {
    "application/vnd.databricks.v1+cell": {
     "cellMetadata": {},
     "inputWidgets": {},
     "nuid": "ae516842-fa91-4920-a2b2-54d9838f3bca",
     "showTitle": false,
     "tableResultSettingsMap": {},
     "title": ""
    }
   },
   "source": [
    "Aggregation"
   ]
  },
  {
   "cell_type": "code",
   "execution_count": 0,
   "metadata": {
    "application/vnd.databricks.v1+cell": {
     "cellMetadata": {
      "byteLimit": 2048000,
      "rowLimit": 10000
     },
     "inputWidgets": {},
     "nuid": "d47a3d8c-86a7-4261-ae34-7b95dbdf0111",
     "showTitle": false,
     "tableResultSettingsMap": {},
     "title": ""
    }
   },
   "outputs": [
    {
     "output_type": "stream",
     "name": "stdout",
     "output_type": "stream",
     "text": [
      "Loan and income statistics by marital status:\n+--------------+-----------------+-----------------+\n|Marital Status|Total_Loan_Amount|   Average Income|\n+--------------+-----------------+-----------------+\n|        SINGLE|             null|61234.74825174825|\n|       MARRIED|             null|71465.57846153846|\n+--------------+-----------------+-----------------+\n\n"
     ]
    }
   ],
   "source": [
    "# Total loan amount and average income grouped by marital status\n",
    "loan_income_stats = loans_df.groupBy(\"Marital Status\").agg(\n",
    "    sum(\"Loan Amount\").alias(\"Total_Loan_Amount\"),\n",
    "    avg(\"Income\").alias(\"Average Income\")\n",
    ")\n",
    "\n",
    "# Display the result\n",
    "print(\"Loan and income statistics by marital status:\")\n",
    "loan_income_stats.show()\n"
   ]
  },
  {
   "cell_type": "code",
   "execution_count": 0,
   "metadata": {
    "application/vnd.databricks.v1+cell": {
     "cellMetadata": {
      "byteLimit": 2048000,
      "implicitDf": true,
      "rowLimit": 10000
     },
     "inputWidgets": {},
     "nuid": "37c4f224-c3b0-4575-9ab1-362909df2cbf",
     "showTitle": false,
     "tableResultSettingsMap": {},
     "title": ""
    }
   },
   "outputs": [
    {
     "output_type": "display_data",
     "data": {
      "text/html": [
       "<style scoped>\n",
       "  .table-result-container {\n",
       "    max-height: 300px;\n",
       "    overflow: auto;\n",
       "  }\n",
       "  table, th, td {\n",
       "    border: 1px solid black;\n",
       "    border-collapse: collapse;\n",
       "  }\n",
       "  th, td {\n",
       "    padding: 5px;\n",
       "  }\n",
       "  th {\n",
       "    text-align: left;\n",
       "  }\n",
       "</style><div class='table-result-container'><table class='table-result'><thead style='background-color: white'><tr><th>Marital Status</th><th>Total_Loan_Amount</th><th>Average_Income</th></tr></thead><tbody><tr><td>Marital Status</td><td>null</td><td>68339.49145299145</td></tr></tbody></table></div>"
      ]
     },
     "metadata": {
      "application/vnd.databricks.v1+output": {
       "addedWidgets": {},
       "aggData": [],
       "aggError": "",
       "aggOverflow": false,
       "aggSchema": [],
       "aggSeriesLimitReached": false,
       "aggType": "",
       "arguments": {},
       "columnCustomDisplayInfos": {},
       "data": [
        [
         "Marital Status",
         null,
         68339.49145299145
        ]
       ],
       "datasetInfos": [],
       "dbfsResultPath": null,
       "isJsonSchema": true,
       "metadata": {},
       "overflow": false,
       "plotOptions": {
        "customPlotOptions": {},
        "displayType": "table",
        "pivotAggregation": null,
        "pivotColumns": null,
        "xColumns": null,
        "yColumns": null
       },
       "removedWidgets": [],
       "schema": [
        {
         "metadata": "{}",
         "name": "Marital Status",
         "type": "\"string\""
        },
        {
         "metadata": "{}",
         "name": "Total_Loan_Amount",
         "type": "\"double\""
        },
        {
         "metadata": "{}",
         "name": "Average_Income",
         "type": "\"double\""
        }
       ],
       "type": "table"
      }
     },
     "output_type": "display_data"
    }
   ],
   "source": [
    "%sql\n",
    "SELECT 'Marital Status', \n",
    "       SUM('Loan Amount') AS Total_Loan_Amount, \n",
    "       AVG(Income) AS Average_Income\n",
    "FROM loans\n",
    "GROUP BY 'Marital Status'\n"
   ]
  },
  {
   "cell_type": "markdown",
   "metadata": {
    "application/vnd.databricks.v1+cell": {
     "cellMetadata": {},
     "inputWidgets": {},
     "nuid": "6dd6a4f4-2287-431e-92d0-b71d086d459c",
     "showTitle": false,
     "tableResultSettingsMap": {},
     "title": ""
    }
   },
   "source": [
    "join"
   ]
  },
  {
   "cell_type": "code",
   "execution_count": 0,
   "metadata": {
    "application/vnd.databricks.v1+cell": {
     "cellMetadata": {
      "byteLimit": 2048000,
      "rowLimit": 10000
     },
     "inputWidgets": {},
     "nuid": "bc2d86ca-c7fa-47b8-a17b-3cdf2db800f3",
     "showTitle": false,
     "tableResultSettingsMap": {},
     "title": ""
    }
   },
   "outputs": [
    {
     "output_type": "stream",
     "name": "stdout",
     "output_type": "stream",
     "text": [
      "Inner Join Result:\n+---------+----------+-------+-----------+---------+------+---+------+-------+-------------+--------------+---------------+------+-----------+---+------+----------+--------------+-----------+------+-----------+-------------+-------------+-----------+-------+------------+----------------+------------------+\n|RowNumber|CustomerId|Surname|CreditScore|Geography|Gender|Age|Tenure|Balance|NumOfProducts|IsActiveMember|EstimatedSalary|Exited|Customer_ID|Age|Gender|Occupation|Marital Status|Family Size|Income|Expenditure|Use Frequency|Loan Category|Loan Amount|Overdue| Debt Record| Returned Cheque| Dishonour of Bill|\n+---------+----------+-------+-----------+---------+------+---+------+-------+-------------+--------------+---------------+------+-----------+---+------+----------+--------------+-----------+------+-----------+-------------+-------------+-----------+-------+------------+----------------+------------------+\n+---------+----------+-------+-----------+---------+------+---+------+-------+-------------+--------------+---------------+------+-----------+---+------+----------+--------------+-----------+------+-----------+-------------+-------------+-----------+-------+------------+----------------+------------------+\n\n"
     ]
    }
   ],
   "source": [
    "# Load another dataset\n",
    "credit_df = spark.read.csv(\"/FileStore/tables/credit_card.csv\", header=True, inferSchema=True)\n",
    "\n",
    "# Inner join on CustomerId and Customer_ID\n",
    "inner_join_df = credit_df.join(loans_df, credit_df.CustomerId == loans_df.Customer_ID, how=\"inner\")\n",
    "\n",
    "# Display 10 rows from the inner join\n",
    "print(\"Inner Join Result:\")\n",
    "inner_join_df.show(10)\n",
    "\n"
   ]
  },
  {
   "cell_type": "code",
   "execution_count": 0,
   "metadata": {
    "application/vnd.databricks.v1+cell": {
     "cellMetadata": {
      "byteLimit": 2048000,
      "rowLimit": 10000
     },
     "inputWidgets": {},
     "nuid": "a367481e-bd54-4ab6-b54e-4b94b44d8ecf",
     "showTitle": false,
     "tableResultSettingsMap": {},
     "title": ""
    }
   },
   "outputs": [],
   "source": [
    "# Register credit_df as a temporary view\n",
    "credit_df.createOrReplaceTempView(\"credit\")\n"
   ]
  },
  {
   "cell_type": "code",
   "execution_count": 0,
   "metadata": {
    "application/vnd.databricks.v1+cell": {
     "cellMetadata": {
      "byteLimit": 2048000,
      "implicitDf": true,
      "rowLimit": 10000
     },
     "inputWidgets": {},
     "nuid": "0a2db958-d8e1-4b12-8a07-254a2a5af912",
     "showTitle": false,
     "tableResultSettingsMap": {},
     "title": ""
    }
   },
   "outputs": [
    {
     "output_type": "display_data",
     "data": {
      "text/html": [
       "<style scoped>\n",
       "  .table-result-container {\n",
       "    max-height: 300px;\n",
       "    overflow: auto;\n",
       "  }\n",
       "  table, th, td {\n",
       "    border: 1px solid black;\n",
       "    border-collapse: collapse;\n",
       "  }\n",
       "  th, td {\n",
       "    padding: 5px;\n",
       "  }\n",
       "  th {\n",
       "    text-align: left;\n",
       "  }\n",
       "</style><div class='table-result-container'><table class='table-result'><thead style='background-color: white'><tr><th>RowNumber</th><th>CustomerId</th><th>Surname</th><th>CreditScore</th><th>Geography</th><th>Gender</th><th>Age</th><th>Tenure</th><th>Balance</th><th>NumOfProducts</th><th>IsActiveMember</th><th>EstimatedSalary</th><th>Exited</th><th>Customer_ID</th><th>Age</th><th>Gender</th><th>Occupation</th><th>Marital Status</th><th>Family Size</th><th>Income</th><th>Expenditure</th><th>Use Frequency</th><th>Loan Category</th><th>Loan Amount</th><th>Overdue</th><th> Debt Record</th><th> Returned Cheque</th><th> Dishonour of Bill</th></tr></thead><tbody></tbody></table></div>"
      ]
     },
     "metadata": {
      "application/vnd.databricks.v1+output": {
       "addedWidgets": {},
       "aggData": [],
       "aggError": "",
       "aggOverflow": false,
       "aggSchema": [],
       "aggSeriesLimitReached": false,
       "aggType": "",
       "arguments": {},
       "columnCustomDisplayInfos": {},
       "data": [],
       "datasetInfos": [],
       "dbfsResultPath": null,
       "isJsonSchema": true,
       "metadata": {},
       "overflow": false,
       "plotOptions": {
        "customPlotOptions": {},
        "displayType": "table",
        "pivotAggregation": null,
        "pivotColumns": null,
        "xColumns": null,
        "yColumns": null
       },
       "removedWidgets": [],
       "schema": [
        {
         "metadata": "{}",
         "name": "RowNumber",
         "type": "\"integer\""
        },
        {
         "metadata": "{}",
         "name": "CustomerId",
         "type": "\"integer\""
        },
        {
         "metadata": "{}",
         "name": "Surname",
         "type": "\"string\""
        },
        {
         "metadata": "{}",
         "name": "CreditScore",
         "type": "\"integer\""
        },
        {
         "metadata": "{}",
         "name": "Geography",
         "type": "\"string\""
        },
        {
         "metadata": "{}",
         "name": "Gender",
         "type": "\"string\""
        },
        {
         "metadata": "{}",
         "name": "Age",
         "type": "\"integer\""
        },
        {
         "metadata": "{}",
         "name": "Tenure",
         "type": "\"integer\""
        },
        {
         "metadata": "{}",
         "name": "Balance",
         "type": "\"double\""
        },
        {
         "metadata": "{}",
         "name": "NumOfProducts",
         "type": "\"integer\""
        },
        {
         "metadata": "{}",
         "name": "IsActiveMember",
         "type": "\"integer\""
        },
        {
         "metadata": "{}",
         "name": "EstimatedSalary",
         "type": "\"double\""
        },
        {
         "metadata": "{}",
         "name": "Exited",
         "type": "\"integer\""
        },
        {
         "metadata": "{}",
         "name": "Customer_ID",
         "type": "\"string\""
        },
        {
         "metadata": "{}",
         "name": "Age",
         "type": "\"integer\""
        },
        {
         "metadata": "{}",
         "name": "Gender",
         "type": "\"string\""
        },
        {
         "metadata": "{}",
         "name": "Occupation",
         "type": "\"string\""
        },
        {
         "metadata": "{}",
         "name": "Marital Status",
         "type": "\"string\""
        },
        {
         "metadata": "{}",
         "name": "Family Size",
         "type": "\"integer\""
        },
        {
         "metadata": "{}",
         "name": "Income",
         "type": "\"integer\""
        },
        {
         "metadata": "{}",
         "name": "Expenditure",
         "type": "\"integer\""
        },
        {
         "metadata": "{}",
         "name": "Use Frequency",
         "type": "\"integer\""
        },
        {
         "metadata": "{}",
         "name": "Loan Category",
         "type": "\"string\""
        },
        {
         "metadata": "{}",
         "name": "Loan Amount",
         "type": "\"string\""
        },
        {
         "metadata": "{}",
         "name": "Overdue",
         "type": "\"integer\""
        },
        {
         "metadata": "{}",
         "name": " Debt Record",
         "type": "\"string\""
        },
        {
         "metadata": "{}",
         "name": " Returned Cheque",
         "type": "\"integer\""
        },
        {
         "metadata": "{}",
         "name": " Dishonour of Bill",
         "type": "\"integer\""
        }
       ],
       "type": "table"
      }
     },
     "output_type": "display_data"
    }
   ],
   "source": [
    "%sql\n",
    "SELECT *\n",
    "FROM credit c\n",
    "INNER JOIN loans l\n",
    "ON c.CustomerId = l.Customer_ID\n",
    "LIMIT 10\n"
   ]
  },
  {
   "cell_type": "code",
   "execution_count": 0,
   "metadata": {
    "application/vnd.databricks.v1+cell": {
     "cellMetadata": {
      "byteLimit": 2048000,
      "rowLimit": 10000
     },
     "inputWidgets": {},
     "nuid": "ca44a619-5d4c-448a-b2fb-f872a6849912",
     "showTitle": false,
     "tableResultSettingsMap": {},
     "title": ""
    }
   },
   "outputs": [
    {
     "output_type": "stream",
     "name": "stdout",
     "output_type": "stream",
     "text": [
      "Outer Join Result:\n+---------+----------+-------+-----------+---------+------+----+------+-------+-------------+--------------+---------------+------+-----------+---+------+-----------------+--------------+-----------+------+-----------+-------------+-------------+-----------+-------+------------+----------------+------------------+\n|RowNumber|CustomerId|Surname|CreditScore|Geography|Gender| Age|Tenure|Balance|NumOfProducts|IsActiveMember|EstimatedSalary|Exited|Customer_ID|Age|Gender|       Occupation|Marital Status|Family Size|Income|Expenditure|Use Frequency|Loan Category|Loan Amount|Overdue| Debt Record| Returned Cheque| Dishonour of Bill|\n+---------+----------+-------+-----------+---------+------+----+------+-------+-------------+--------------+---------------+------+-----------+---+------+-----------------+--------------+-----------+------+-----------+-------------+-------------+-----------+-------+------------+----------------+------------------+\n|     null|      null|   null|       null|     null|  null|null|  null|   null|         null|          null|           null|  null|    IB14001| 30|  MALE|     BANK MANAGER|        SINGLE|          4| 50000|      22199|            6|      HOUSING| 10,00,000 |      5|      42,898|               6|                 9|\n|     null|      null|   null|       null|     null|  null|null|  null|   null|         null|          null|           null|  null|    IB14008| 44|  MALE|        PROFESSOR|       MARRIED|          6| 51000|      19999|            4|     SHOPPING|     50,000|      3|      33,999|               1|                 5|\n|     null|      null|   null|       null|     null|  null|null|  null|   null|         null|          null|           null|  null|    IB14012| 30|FEMALE|          DENTIST|        SINGLE|          3| 58450|      27675|            5|   TRAVELLING|     75,000|      6|      20,876|               3|                 1|\n|     null|      null|   null|       null|     null|  null|null|  null|   null|         null|          null|           null|  null|    IB14018| 29|  MALE|          TEACHER|       MARRIED|          5| 45767|      12787|            3|    GOLD LOAN|  6,00,000 |      7|      11,000|               0|                 4|\n|     null|      null|   null|       null|     null|  null|null|  null|   null|         null|          null|           null|  null|    IB14022| 34|  MALE|           POLICE|        SINGLE|          4| 43521|      11999|            3|   AUTOMOBILE|  2,00,000 |      2|      43,898|               1|                 2|\n|     null|      null|   null|       null|     null|  null|null|  null|   null|         null|          null|           null|  null|    IB14024| 55|FEMALE|            NURSE|       MARRIED|          6| 34999|      19888|            4|   AUTOMOBILE|     47,787|      1|      50,000|               0|                 3|\n|     null|      null|   null|       null|     null|  null|null|  null|   null|         null|          null|           null|  null|    IB14025| 39|FEMALE|          TEACHER|       MARRIED|          6| 46619|      18675|            4|      HOUSING| 12,09,867 |      8|      29,999|               6|                 8|\n|     null|      null|   null|       null|     null|  null|null|  null|   null|         null|          null|           null|  null|    IB14027| 51|  MALE|   SYSTEM MANAGER|       MARRIED|          3| 49999|      19111|            5|  RESTAURANTS|     60,676|      8|      13,000|               2|                 5|\n|     null|      null|   null|       null|     null|  null|null|  null|   null|         null|          null|           null|  null|    IB14029| 24|FEMALE|          TEACHER|        SINGLE|          3| 45008|      17454|            4|   AUTOMOBILE|  3,99,435 |      9|      51,987|               4|                 7|\n|     null|      null|   null|       null|     null|  null|null|  null|   null|         null|          null|           null|  null|    IB14031| 37|FEMALE|SOFTWARE ENGINEER|       MARRIED|          5| 55999|      23999|            5|   AUTOMOBILE|     60,999|      2|           0|               5|                 3|\n+---------+----------+-------+-----------+---------+------+----+------+-------+-------------+--------------+---------------+------+-----------+---+------+-----------------+--------------+-----------+------+-----------+-------------+-------------+-----------+-------+------------+----------------+------------------+\nonly showing top 10 rows\n\n"
     ]
    }
   ],
   "source": [
    "# Outer join on CustomerId and Customer_ID\n",
    "outer_join_df = credit_df.join(loans_df, credit_df.CustomerId == loans_df.Customer_ID, how=\"outer\")\n",
    "\n",
    "# Display 10 rows from the outer join\n",
    "print(\"Outer Join Result:\")\n",
    "outer_join_df.show(10)\n"
   ]
  },
  {
   "cell_type": "code",
   "execution_count": 0,
   "metadata": {
    "application/vnd.databricks.v1+cell": {
     "cellMetadata": {
      "byteLimit": 2048000,
      "implicitDf": true,
      "rowLimit": 10000
     },
     "inputWidgets": {},
     "nuid": "21e0ee1e-2982-44b0-9245-80f3dc8f6c85",
     "showTitle": false,
     "tableResultSettingsMap": {},
     "title": ""
    }
   },
   "outputs": [
    {
     "output_type": "display_data",
     "data": {
      "text/html": [
       "<style scoped>\n",
       "  .table-result-container {\n",
       "    max-height: 300px;\n",
       "    overflow: auto;\n",
       "  }\n",
       "  table, th, td {\n",
       "    border: 1px solid black;\n",
       "    border-collapse: collapse;\n",
       "  }\n",
       "  th, td {\n",
       "    padding: 5px;\n",
       "  }\n",
       "  th {\n",
       "    text-align: left;\n",
       "  }\n",
       "</style><div class='table-result-container'><table class='table-result'><thead style='background-color: white'><tr><th>RowNumber</th><th>CustomerId</th><th>Surname</th><th>CreditScore</th><th>Geography</th><th>Gender</th><th>Age</th><th>Tenure</th><th>Balance</th><th>NumOfProducts</th><th>IsActiveMember</th><th>EstimatedSalary</th><th>Exited</th><th>Customer_ID</th><th>Age</th><th>Gender</th><th>Occupation</th><th>Marital Status</th><th>Family Size</th><th>Income</th><th>Expenditure</th><th>Use Frequency</th><th>Loan Category</th><th>Loan Amount</th><th>Overdue</th><th> Debt Record</th><th> Returned Cheque</th><th> Dishonour of Bill</th></tr></thead><tbody><tr><td>null</td><td>null</td><td>null</td><td>null</td><td>null</td><td>null</td><td>null</td><td>null</td><td>null</td><td>null</td><td>null</td><td>null</td><td>null</td><td>IB14001</td><td>30</td><td>MALE</td><td>BANK MANAGER</td><td>SINGLE</td><td>4</td><td>50000</td><td>22199</td><td>6</td><td>HOUSING</td><td> 10,00,000 </td><td>5</td><td>42,898</td><td>6</td><td>9</td></tr><tr><td>null</td><td>null</td><td>null</td><td>null</td><td>null</td><td>null</td><td>null</td><td>null</td><td>null</td><td>null</td><td>null</td><td>null</td><td>null</td><td>IB14008</td><td>44</td><td>MALE</td><td>PROFESSOR</td><td>MARRIED</td><td>6</td><td>51000</td><td>19999</td><td>4</td><td>SHOPPING</td><td>50,000</td><td>3</td><td>33,999</td><td>1</td><td>5</td></tr><tr><td>null</td><td>null</td><td>null</td><td>null</td><td>null</td><td>null</td><td>null</td><td>null</td><td>null</td><td>null</td><td>null</td><td>null</td><td>null</td><td>IB14012</td><td>30</td><td>FEMALE</td><td>DENTIST</td><td>SINGLE</td><td>3</td><td>58450</td><td>27675</td><td>5</td><td>TRAVELLING</td><td>75,000</td><td>6</td><td>20,876</td><td>3</td><td>1</td></tr><tr><td>null</td><td>null</td><td>null</td><td>null</td><td>null</td><td>null</td><td>null</td><td>null</td><td>null</td><td>null</td><td>null</td><td>null</td><td>null</td><td>IB14018</td><td>29</td><td>MALE</td><td>TEACHER</td><td>MARRIED</td><td>5</td><td>45767</td><td>12787</td><td>3</td><td>GOLD LOAN</td><td> 6,00,000 </td><td>7</td><td>11,000</td><td>0</td><td>4</td></tr><tr><td>null</td><td>null</td><td>null</td><td>null</td><td>null</td><td>null</td><td>null</td><td>null</td><td>null</td><td>null</td><td>null</td><td>null</td><td>null</td><td>IB14022</td><td>34</td><td>MALE</td><td>POLICE</td><td>SINGLE</td><td>4</td><td>43521</td><td>11999</td><td>3</td><td>AUTOMOBILE</td><td> 2,00,000 </td><td>2</td><td>43,898</td><td>1</td><td>2</td></tr><tr><td>null</td><td>null</td><td>null</td><td>null</td><td>null</td><td>null</td><td>null</td><td>null</td><td>null</td><td>null</td><td>null</td><td>null</td><td>null</td><td>IB14024</td><td>55</td><td>FEMALE</td><td>NURSE</td><td>MARRIED</td><td>6</td><td>34999</td><td>19888</td><td>4</td><td>AUTOMOBILE</td><td>47,787</td><td>1</td><td>50,000</td><td>0</td><td>3</td></tr><tr><td>null</td><td>null</td><td>null</td><td>null</td><td>null</td><td>null</td><td>null</td><td>null</td><td>null</td><td>null</td><td>null</td><td>null</td><td>null</td><td>IB14025</td><td>39</td><td>FEMALE</td><td>TEACHER</td><td>MARRIED</td><td>6</td><td>46619</td><td>18675</td><td>4</td><td>HOUSING</td><td> 12,09,867 </td><td>8</td><td>29,999</td><td>6</td><td>8</td></tr><tr><td>null</td><td>null</td><td>null</td><td>null</td><td>null</td><td>null</td><td>null</td><td>null</td><td>null</td><td>null</td><td>null</td><td>null</td><td>null</td><td>IB14027</td><td>51</td><td>MALE</td><td>SYSTEM MANAGER</td><td>MARRIED</td><td>3</td><td>49999</td><td>19111</td><td>5</td><td>RESTAURANTS</td><td>60,676</td><td>8</td><td>13,000</td><td>2</td><td>5</td></tr><tr><td>null</td><td>null</td><td>null</td><td>null</td><td>null</td><td>null</td><td>null</td><td>null</td><td>null</td><td>null</td><td>null</td><td>null</td><td>null</td><td>IB14029</td><td>24</td><td>FEMALE</td><td>TEACHER</td><td>SINGLE</td><td>3</td><td>45008</td><td>17454</td><td>4</td><td>AUTOMOBILE</td><td> 3,99,435 </td><td>9</td><td>51,987</td><td>4</td><td>7</td></tr><tr><td>null</td><td>null</td><td>null</td><td>null</td><td>null</td><td>null</td><td>null</td><td>null</td><td>null</td><td>null</td><td>null</td><td>null</td><td>null</td><td>IB14031</td><td>37</td><td>FEMALE</td><td>SOFTWARE ENGINEER</td><td>MARRIED</td><td>5</td><td>55999</td><td>23999</td><td>5</td><td>AUTOMOBILE</td><td>60,999</td><td>2</td><td>0</td><td>5</td><td>3</td></tr></tbody></table></div>"
      ]
     },
     "metadata": {
      "application/vnd.databricks.v1+output": {
       "addedWidgets": {},
       "aggData": [],
       "aggError": "",
       "aggOverflow": false,
       "aggSchema": [],
       "aggSeriesLimitReached": false,
       "aggType": "",
       "arguments": {},
       "columnCustomDisplayInfos": {},
       "data": [
        [
         null,
         null,
         null,
         null,
         null,
         null,
         null,
         null,
         null,
         null,
         null,
         null,
         null,
         "IB14001",
         30,
         "MALE",
         "BANK MANAGER",
         "SINGLE",
         4,
         50000,
         22199,
         6,
         "HOUSING",
         " 10,00,000 ",
         5,
         "42,898",
         6,
         9
        ],
        [
         null,
         null,
         null,
         null,
         null,
         null,
         null,
         null,
         null,
         null,
         null,
         null,
         null,
         "IB14008",
         44,
         "MALE",
         "PROFESSOR",
         "MARRIED",
         6,
         51000,
         19999,
         4,
         "SHOPPING",
         "50,000",
         3,
         "33,999",
         1,
         5
        ],
        [
         null,
         null,
         null,
         null,
         null,
         null,
         null,
         null,
         null,
         null,
         null,
         null,
         null,
         "IB14012",
         30,
         "FEMALE",
         "DENTIST",
         "SINGLE",
         3,
         58450,
         27675,
         5,
         "TRAVELLING",
         "75,000",
         6,
         "20,876",
         3,
         1
        ],
        [
         null,
         null,
         null,
         null,
         null,
         null,
         null,
         null,
         null,
         null,
         null,
         null,
         null,
         "IB14018",
         29,
         "MALE",
         "TEACHER",
         "MARRIED",
         5,
         45767,
         12787,
         3,
         "GOLD LOAN",
         " 6,00,000 ",
         7,
         "11,000",
         0,
         4
        ],
        [
         null,
         null,
         null,
         null,
         null,
         null,
         null,
         null,
         null,
         null,
         null,
         null,
         null,
         "IB14022",
         34,
         "MALE",
         "POLICE",
         "SINGLE",
         4,
         43521,
         11999,
         3,
         "AUTOMOBILE",
         " 2,00,000 ",
         2,
         "43,898",
         1,
         2
        ],
        [
         null,
         null,
         null,
         null,
         null,
         null,
         null,
         null,
         null,
         null,
         null,
         null,
         null,
         "IB14024",
         55,
         "FEMALE",
         "NURSE",
         "MARRIED",
         6,
         34999,
         19888,
         4,
         "AUTOMOBILE",
         "47,787",
         1,
         "50,000",
         0,
         3
        ],
        [
         null,
         null,
         null,
         null,
         null,
         null,
         null,
         null,
         null,
         null,
         null,
         null,
         null,
         "IB14025",
         39,
         "FEMALE",
         "TEACHER",
         "MARRIED",
         6,
         46619,
         18675,
         4,
         "HOUSING",
         " 12,09,867 ",
         8,
         "29,999",
         6,
         8
        ],
        [
         null,
         null,
         null,
         null,
         null,
         null,
         null,
         null,
         null,
         null,
         null,
         null,
         null,
         "IB14027",
         51,
         "MALE",
         "SYSTEM MANAGER",
         "MARRIED",
         3,
         49999,
         19111,
         5,
         "RESTAURANTS",
         "60,676",
         8,
         "13,000",
         2,
         5
        ],
        [
         null,
         null,
         null,
         null,
         null,
         null,
         null,
         null,
         null,
         null,
         null,
         null,
         null,
         "IB14029",
         24,
         "FEMALE",
         "TEACHER",
         "SINGLE",
         3,
         45008,
         17454,
         4,
         "AUTOMOBILE",
         " 3,99,435 ",
         9,
         "51,987",
         4,
         7
        ],
        [
         null,
         null,
         null,
         null,
         null,
         null,
         null,
         null,
         null,
         null,
         null,
         null,
         null,
         "IB14031",
         37,
         "FEMALE",
         "SOFTWARE ENGINEER",
         "MARRIED",
         5,
         55999,
         23999,
         5,
         "AUTOMOBILE",
         "60,999",
         2,
         "0",
         5,
         3
        ]
       ],
       "datasetInfos": [],
       "dbfsResultPath": null,
       "isJsonSchema": true,
       "metadata": {},
       "overflow": false,
       "plotOptions": {
        "customPlotOptions": {},
        "displayType": "table",
        "pivotAggregation": null,
        "pivotColumns": null,
        "xColumns": null,
        "yColumns": null
       },
       "removedWidgets": [],
       "schema": [
        {
         "metadata": "{}",
         "name": "RowNumber",
         "type": "\"integer\""
        },
        {
         "metadata": "{}",
         "name": "CustomerId",
         "type": "\"integer\""
        },
        {
         "metadata": "{}",
         "name": "Surname",
         "type": "\"string\""
        },
        {
         "metadata": "{}",
         "name": "CreditScore",
         "type": "\"integer\""
        },
        {
         "metadata": "{}",
         "name": "Geography",
         "type": "\"string\""
        },
        {
         "metadata": "{}",
         "name": "Gender",
         "type": "\"string\""
        },
        {
         "metadata": "{}",
         "name": "Age",
         "type": "\"integer\""
        },
        {
         "metadata": "{}",
         "name": "Tenure",
         "type": "\"integer\""
        },
        {
         "metadata": "{}",
         "name": "Balance",
         "type": "\"double\""
        },
        {
         "metadata": "{}",
         "name": "NumOfProducts",
         "type": "\"integer\""
        },
        {
         "metadata": "{}",
         "name": "IsActiveMember",
         "type": "\"integer\""
        },
        {
         "metadata": "{}",
         "name": "EstimatedSalary",
         "type": "\"double\""
        },
        {
         "metadata": "{}",
         "name": "Exited",
         "type": "\"integer\""
        },
        {
         "metadata": "{}",
         "name": "Customer_ID",
         "type": "\"string\""
        },
        {
         "metadata": "{}",
         "name": "Age",
         "type": "\"integer\""
        },
        {
         "metadata": "{}",
         "name": "Gender",
         "type": "\"string\""
        },
        {
         "metadata": "{}",
         "name": "Occupation",
         "type": "\"string\""
        },
        {
         "metadata": "{}",
         "name": "Marital Status",
         "type": "\"string\""
        },
        {
         "metadata": "{}",
         "name": "Family Size",
         "type": "\"integer\""
        },
        {
         "metadata": "{}",
         "name": "Income",
         "type": "\"integer\""
        },
        {
         "metadata": "{}",
         "name": "Expenditure",
         "type": "\"integer\""
        },
        {
         "metadata": "{}",
         "name": "Use Frequency",
         "type": "\"integer\""
        },
        {
         "metadata": "{}",
         "name": "Loan Category",
         "type": "\"string\""
        },
        {
         "metadata": "{}",
         "name": "Loan Amount",
         "type": "\"string\""
        },
        {
         "metadata": "{}",
         "name": "Overdue",
         "type": "\"integer\""
        },
        {
         "metadata": "{}",
         "name": " Debt Record",
         "type": "\"string\""
        },
        {
         "metadata": "{}",
         "name": " Returned Cheque",
         "type": "\"integer\""
        },
        {
         "metadata": "{}",
         "name": " Dishonour of Bill",
         "type": "\"integer\""
        }
       ],
       "type": "table"
      }
     },
     "output_type": "display_data"
    }
   ],
   "source": [
    "%sql\n",
    "SELECT *\n",
    "FROM credit c\n",
    "FULL OUTER JOIN loans l\n",
    "ON c.CustomerId = l.Customer_ID\n",
    "LIMIT 10\n"
   ]
  },
  {
   "cell_type": "code",
   "execution_count": 0,
   "metadata": {
    "application/vnd.databricks.v1+cell": {
     "cellMetadata": {
      "byteLimit": 2048000,
      "rowLimit": 10000
     },
     "inputWidgets": {},
     "nuid": "b4ae425b-d1b8-444c-9410-67db0f731bf7",
     "showTitle": false,
     "tableResultSettingsMap": {},
     "title": ""
    }
   },
   "outputs": [
    {
     "output_type": "stream",
     "name": "stdout",
     "output_type": "stream",
     "text": [
      "Left Join Result:\n+---------+----------+--------+-----------+---------+------+---+------+---------+-------------+--------------+---------------+------+-----------+----+------+----------+--------------+-----------+------+-----------+-------------+-------------+-----------+-------+------------+----------------+------------------+\n|RowNumber|CustomerId| Surname|CreditScore|Geography|Gender|Age|Tenure|  Balance|NumOfProducts|IsActiveMember|EstimatedSalary|Exited|Customer_ID| Age|Gender|Occupation|Marital Status|Family Size|Income|Expenditure|Use Frequency|Loan Category|Loan Amount|Overdue| Debt Record| Returned Cheque| Dishonour of Bill|\n+---------+----------+--------+-----------+---------+------+---+------+---------+-------------+--------------+---------------+------+-----------+----+------+----------+--------------+-----------+------+-----------+-------------+-------------+-----------+-------+------------+----------------+------------------+\n|        1|  15634602|Hargrave|        619|   France|Female| 42|     2|      0.0|            1|             1|      101348.88|     1|       null|null|  null|      null|          null|       null|  null|       null|         null|         null|       null|   null|        null|            null|              null|\n|        2|  15647311|    Hill|        608|    Spain|Female| 41|     1| 83807.86|            1|             1|      112542.58|     0|       null|null|  null|      null|          null|       null|  null|       null|         null|         null|       null|   null|        null|            null|              null|\n|        3|  15619304|    Onio|        502|   France|Female| 42|     8| 159660.8|            3|             0|      113931.57|     1|       null|null|  null|      null|          null|       null|  null|       null|         null|         null|       null|   null|        null|            null|              null|\n|        4|  15701354|    Boni|        699|   France|Female| 39|     1|      0.0|            2|             0|       93826.63|     0|       null|null|  null|      null|          null|       null|  null|       null|         null|         null|       null|   null|        null|            null|              null|\n|        5|  15737888|Mitchell|        850|    Spain|Female| 43|     2|125510.82|            1|             1|        79084.1|     0|       null|null|  null|      null|          null|       null|  null|       null|         null|         null|       null|   null|        null|            null|              null|\n|        6|  15574012|     Chu|        645|    Spain|  Male| 44|     8|113755.78|            2|             0|      149756.71|     1|       null|null|  null|      null|          null|       null|  null|       null|         null|         null|       null|   null|        null|            null|              null|\n|        7|  15592531|Bartlett|        822|   France|  Male| 50|     7|      0.0|            2|             1|        10062.8|     0|       null|null|  null|      null|          null|       null|  null|       null|         null|         null|       null|   null|        null|            null|              null|\n|        8|  15656148|  Obinna|        376|  Germany|Female| 29|     4|115046.74|            4|             0|      119346.88|     1|       null|null|  null|      null|          null|       null|  null|       null|         null|         null|       null|   null|        null|            null|              null|\n|        9|  15792365|      He|        501|   France|  Male| 44|     4|142051.07|            2|             1|        74940.5|     0|       null|null|  null|      null|          null|       null|  null|       null|         null|         null|       null|   null|        null|            null|              null|\n|       10|  15592389|      H?|        684|   France|  Male| 27|     2|134603.88|            1|             1|       71725.73|     0|       null|null|  null|      null|          null|       null|  null|       null|         null|         null|       null|   null|        null|            null|              null|\n+---------+----------+--------+-----------+---------+------+---+------+---------+-------------+--------------+---------------+------+-----------+----+------+----------+--------------+-----------+------+-----------+-------------+-------------+-----------+-------+------------+----------------+------------------+\nonly showing top 10 rows\n\n"
     ]
    }
   ],
   "source": [
    "# Left join on CustomerId and Customer_ID\n",
    "left_join_df = credit_df.join(loans_df, credit_df.CustomerId == loans_df.Customer_ID, how=\"left\")\n",
    "\n",
    "# Display 10 rows from the left join\n",
    "print(\"Left Join Result:\")\n",
    "left_join_df.show(10)\n"
   ]
  },
  {
   "cell_type": "code",
   "execution_count": 0,
   "metadata": {
    "application/vnd.databricks.v1+cell": {
     "cellMetadata": {
      "byteLimit": 2048000,
      "implicitDf": true,
      "rowLimit": 10000
     },
     "inputWidgets": {},
     "nuid": "d3b15acf-c535-44d7-a3ea-928185a6cd22",
     "showTitle": false,
     "tableResultSettingsMap": {},
     "title": ""
    }
   },
   "outputs": [
    {
     "output_type": "display_data",
     "data": {
      "text/html": [
       "<style scoped>\n",
       "  .table-result-container {\n",
       "    max-height: 300px;\n",
       "    overflow: auto;\n",
       "  }\n",
       "  table, th, td {\n",
       "    border: 1px solid black;\n",
       "    border-collapse: collapse;\n",
       "  }\n",
       "  th, td {\n",
       "    padding: 5px;\n",
       "  }\n",
       "  th {\n",
       "    text-align: left;\n",
       "  }\n",
       "</style><div class='table-result-container'><table class='table-result'><thead style='background-color: white'><tr><th>RowNumber</th><th>CustomerId</th><th>Surname</th><th>CreditScore</th><th>Geography</th><th>Gender</th><th>Age</th><th>Tenure</th><th>Balance</th><th>NumOfProducts</th><th>IsActiveMember</th><th>EstimatedSalary</th><th>Exited</th><th>Customer_ID</th><th>Age</th><th>Gender</th><th>Occupation</th><th>Marital Status</th><th>Family Size</th><th>Income</th><th>Expenditure</th><th>Use Frequency</th><th>Loan Category</th><th>Loan Amount</th><th>Overdue</th><th> Debt Record</th><th> Returned Cheque</th><th> Dishonour of Bill</th></tr></thead><tbody><tr><td>1</td><td>15634602</td><td>Hargrave</td><td>619</td><td>France</td><td>Female</td><td>42</td><td>2</td><td>0.0</td><td>1</td><td>1</td><td>101348.88</td><td>1</td><td>null</td><td>null</td><td>null</td><td>null</td><td>null</td><td>null</td><td>null</td><td>null</td><td>null</td><td>null</td><td>null</td><td>null</td><td>null</td><td>null</td><td>null</td></tr><tr><td>2</td><td>15647311</td><td>Hill</td><td>608</td><td>Spain</td><td>Female</td><td>41</td><td>1</td><td>83807.86</td><td>1</td><td>1</td><td>112542.58</td><td>0</td><td>null</td><td>null</td><td>null</td><td>null</td><td>null</td><td>null</td><td>null</td><td>null</td><td>null</td><td>null</td><td>null</td><td>null</td><td>null</td><td>null</td><td>null</td></tr><tr><td>3</td><td>15619304</td><td>Onio</td><td>502</td><td>France</td><td>Female</td><td>42</td><td>8</td><td>159660.8</td><td>3</td><td>0</td><td>113931.57</td><td>1</td><td>null</td><td>null</td><td>null</td><td>null</td><td>null</td><td>null</td><td>null</td><td>null</td><td>null</td><td>null</td><td>null</td><td>null</td><td>null</td><td>null</td><td>null</td></tr><tr><td>4</td><td>15701354</td><td>Boni</td><td>699</td><td>France</td><td>Female</td><td>39</td><td>1</td><td>0.0</td><td>2</td><td>0</td><td>93826.63</td><td>0</td><td>null</td><td>null</td><td>null</td><td>null</td><td>null</td><td>null</td><td>null</td><td>null</td><td>null</td><td>null</td><td>null</td><td>null</td><td>null</td><td>null</td><td>null</td></tr><tr><td>5</td><td>15737888</td><td>Mitchell</td><td>850</td><td>Spain</td><td>Female</td><td>43</td><td>2</td><td>125510.82</td><td>1</td><td>1</td><td>79084.1</td><td>0</td><td>null</td><td>null</td><td>null</td><td>null</td><td>null</td><td>null</td><td>null</td><td>null</td><td>null</td><td>null</td><td>null</td><td>null</td><td>null</td><td>null</td><td>null</td></tr><tr><td>6</td><td>15574012</td><td>Chu</td><td>645</td><td>Spain</td><td>Male</td><td>44</td><td>8</td><td>113755.78</td><td>2</td><td>0</td><td>149756.71</td><td>1</td><td>null</td><td>null</td><td>null</td><td>null</td><td>null</td><td>null</td><td>null</td><td>null</td><td>null</td><td>null</td><td>null</td><td>null</td><td>null</td><td>null</td><td>null</td></tr><tr><td>7</td><td>15592531</td><td>Bartlett</td><td>822</td><td>France</td><td>Male</td><td>50</td><td>7</td><td>0.0</td><td>2</td><td>1</td><td>10062.8</td><td>0</td><td>null</td><td>null</td><td>null</td><td>null</td><td>null</td><td>null</td><td>null</td><td>null</td><td>null</td><td>null</td><td>null</td><td>null</td><td>null</td><td>null</td><td>null</td></tr><tr><td>8</td><td>15656148</td><td>Obinna</td><td>376</td><td>Germany</td><td>Female</td><td>29</td><td>4</td><td>115046.74</td><td>4</td><td>0</td><td>119346.88</td><td>1</td><td>null</td><td>null</td><td>null</td><td>null</td><td>null</td><td>null</td><td>null</td><td>null</td><td>null</td><td>null</td><td>null</td><td>null</td><td>null</td><td>null</td><td>null</td></tr><tr><td>9</td><td>15792365</td><td>He</td><td>501</td><td>France</td><td>Male</td><td>44</td><td>4</td><td>142051.07</td><td>2</td><td>1</td><td>74940.5</td><td>0</td><td>null</td><td>null</td><td>null</td><td>null</td><td>null</td><td>null</td><td>null</td><td>null</td><td>null</td><td>null</td><td>null</td><td>null</td><td>null</td><td>null</td><td>null</td></tr><tr><td>10</td><td>15592389</td><td>H?</td><td>684</td><td>France</td><td>Male</td><td>27</td><td>2</td><td>134603.88</td><td>1</td><td>1</td><td>71725.73</td><td>0</td><td>null</td><td>null</td><td>null</td><td>null</td><td>null</td><td>null</td><td>null</td><td>null</td><td>null</td><td>null</td><td>null</td><td>null</td><td>null</td><td>null</td><td>null</td></tr></tbody></table></div>"
      ]
     },
     "metadata": {
      "application/vnd.databricks.v1+output": {
       "addedWidgets": {},
       "aggData": [],
       "aggError": "",
       "aggOverflow": false,
       "aggSchema": [],
       "aggSeriesLimitReached": false,
       "aggType": "",
       "arguments": {},
       "columnCustomDisplayInfos": {},
       "data": [
        [
         1,
         15634602,
         "Hargrave",
         619,
         "France",
         "Female",
         42,
         2,
         0.0,
         1,
         1,
         101348.88,
         1,
         null,
         null,
         null,
         null,
         null,
         null,
         null,
         null,
         null,
         null,
         null,
         null,
         null,
         null,
         null
        ],
        [
         2,
         15647311,
         "Hill",
         608,
         "Spain",
         "Female",
         41,
         1,
         83807.86,
         1,
         1,
         112542.58,
         0,
         null,
         null,
         null,
         null,
         null,
         null,
         null,
         null,
         null,
         null,
         null,
         null,
         null,
         null,
         null
        ],
        [
         3,
         15619304,
         "Onio",
         502,
         "France",
         "Female",
         42,
         8,
         159660.8,
         3,
         0,
         113931.57,
         1,
         null,
         null,
         null,
         null,
         null,
         null,
         null,
         null,
         null,
         null,
         null,
         null,
         null,
         null,
         null
        ],
        [
         4,
         15701354,
         "Boni",
         699,
         "France",
         "Female",
         39,
         1,
         0.0,
         2,
         0,
         93826.63,
         0,
         null,
         null,
         null,
         null,
         null,
         null,
         null,
         null,
         null,
         null,
         null,
         null,
         null,
         null,
         null
        ],
        [
         5,
         15737888,
         "Mitchell",
         850,
         "Spain",
         "Female",
         43,
         2,
         125510.82,
         1,
         1,
         79084.1,
         0,
         null,
         null,
         null,
         null,
         null,
         null,
         null,
         null,
         null,
         null,
         null,
         null,
         null,
         null,
         null
        ],
        [
         6,
         15574012,
         "Chu",
         645,
         "Spain",
         "Male",
         44,
         8,
         113755.78,
         2,
         0,
         149756.71,
         1,
         null,
         null,
         null,
         null,
         null,
         null,
         null,
         null,
         null,
         null,
         null,
         null,
         null,
         null,
         null
        ],
        [
         7,
         15592531,
         "Bartlett",
         822,
         "France",
         "Male",
         50,
         7,
         0.0,
         2,
         1,
         10062.8,
         0,
         null,
         null,
         null,
         null,
         null,
         null,
         null,
         null,
         null,
         null,
         null,
         null,
         null,
         null,
         null
        ],
        [
         8,
         15656148,
         "Obinna",
         376,
         "Germany",
         "Female",
         29,
         4,
         115046.74,
         4,
         0,
         119346.88,
         1,
         null,
         null,
         null,
         null,
         null,
         null,
         null,
         null,
         null,
         null,
         null,
         null,
         null,
         null,
         null
        ],
        [
         9,
         15792365,
         "He",
         501,
         "France",
         "Male",
         44,
         4,
         142051.07,
         2,
         1,
         74940.5,
         0,
         null,
         null,
         null,
         null,
         null,
         null,
         null,
         null,
         null,
         null,
         null,
         null,
         null,
         null,
         null
        ],
        [
         10,
         15592389,
         "H?",
         684,
         "France",
         "Male",
         27,
         2,
         134603.88,
         1,
         1,
         71725.73,
         0,
         null,
         null,
         null,
         null,
         null,
         null,
         null,
         null,
         null,
         null,
         null,
         null,
         null,
         null,
         null
        ]
       ],
       "datasetInfos": [],
       "dbfsResultPath": null,
       "isJsonSchema": true,
       "metadata": {},
       "overflow": false,
       "plotOptions": {
        "customPlotOptions": {},
        "displayType": "table",
        "pivotAggregation": null,
        "pivotColumns": null,
        "xColumns": null,
        "yColumns": null
       },
       "removedWidgets": [],
       "schema": [
        {
         "metadata": "{}",
         "name": "RowNumber",
         "type": "\"integer\""
        },
        {
         "metadata": "{}",
         "name": "CustomerId",
         "type": "\"integer\""
        },
        {
         "metadata": "{}",
         "name": "Surname",
         "type": "\"string\""
        },
        {
         "metadata": "{}",
         "name": "CreditScore",
         "type": "\"integer\""
        },
        {
         "metadata": "{}",
         "name": "Geography",
         "type": "\"string\""
        },
        {
         "metadata": "{}",
         "name": "Gender",
         "type": "\"string\""
        },
        {
         "metadata": "{}",
         "name": "Age",
         "type": "\"integer\""
        },
        {
         "metadata": "{}",
         "name": "Tenure",
         "type": "\"integer\""
        },
        {
         "metadata": "{}",
         "name": "Balance",
         "type": "\"double\""
        },
        {
         "metadata": "{}",
         "name": "NumOfProducts",
         "type": "\"integer\""
        },
        {
         "metadata": "{}",
         "name": "IsActiveMember",
         "type": "\"integer\""
        },
        {
         "metadata": "{}",
         "name": "EstimatedSalary",
         "type": "\"double\""
        },
        {
         "metadata": "{}",
         "name": "Exited",
         "type": "\"integer\""
        },
        {
         "metadata": "{}",
         "name": "Customer_ID",
         "type": "\"string\""
        },
        {
         "metadata": "{}",
         "name": "Age",
         "type": "\"integer\""
        },
        {
         "metadata": "{}",
         "name": "Gender",
         "type": "\"string\""
        },
        {
         "metadata": "{}",
         "name": "Occupation",
         "type": "\"string\""
        },
        {
         "metadata": "{}",
         "name": "Marital Status",
         "type": "\"string\""
        },
        {
         "metadata": "{}",
         "name": "Family Size",
         "type": "\"integer\""
        },
        {
         "metadata": "{}",
         "name": "Income",
         "type": "\"integer\""
        },
        {
         "metadata": "{}",
         "name": "Expenditure",
         "type": "\"integer\""
        },
        {
         "metadata": "{}",
         "name": "Use Frequency",
         "type": "\"integer\""
        },
        {
         "metadata": "{}",
         "name": "Loan Category",
         "type": "\"string\""
        },
        {
         "metadata": "{}",
         "name": "Loan Amount",
         "type": "\"string\""
        },
        {
         "metadata": "{}",
         "name": "Overdue",
         "type": "\"integer\""
        },
        {
         "metadata": "{}",
         "name": " Debt Record",
         "type": "\"string\""
        },
        {
         "metadata": "{}",
         "name": " Returned Cheque",
         "type": "\"integer\""
        },
        {
         "metadata": "{}",
         "name": " Dishonour of Bill",
         "type": "\"integer\""
        }
       ],
       "type": "table"
      }
     },
     "output_type": "display_data"
    }
   ],
   "source": [
    "%sql\n",
    "SELECT *\n",
    "FROM credit c\n",
    "LEFT JOIN loans l\n",
    "ON c.CustomerId = l.Customer_ID\n",
    "LIMIT 10\n"
   ]
  },
  {
   "cell_type": "code",
   "execution_count": 0,
   "metadata": {
    "application/vnd.databricks.v1+cell": {
     "cellMetadata": {
      "byteLimit": 2048000,
      "rowLimit": 10000
     },
     "inputWidgets": {},
     "nuid": "93d7f396-9e36-44cb-9166-1fc897bc4b08",
     "showTitle": false,
     "tableResultSettingsMap": {},
     "title": ""
    }
   },
   "outputs": [
    {
     "output_type": "stream",
     "name": "stdout",
     "output_type": "stream",
     "text": [
      "Right Join Result:\n+---------+----------+-------+-----------+---------+------+----+------+-------+-------------+--------------+---------------+------+-----------+---+------+-----------------+--------------+-----------+------+-----------+-------------+-------------+-----------+-------+------------+----------------+------------------+\n|RowNumber|CustomerId|Surname|CreditScore|Geography|Gender| Age|Tenure|Balance|NumOfProducts|IsActiveMember|EstimatedSalary|Exited|Customer_ID|Age|Gender|       Occupation|Marital Status|Family Size|Income|Expenditure|Use Frequency|Loan Category|Loan Amount|Overdue| Debt Record| Returned Cheque| Dishonour of Bill|\n+---------+----------+-------+-----------+---------+------+----+------+-------+-------------+--------------+---------------+------+-----------+---+------+-----------------+--------------+-----------+------+-----------+-------------+-------------+-----------+-------+------------+----------------+------------------+\n|     null|      null|   null|       null|     null|  null|null|  null|   null|         null|          null|           null|  null|    IB14001| 30|  MALE|     BANK MANAGER|        SINGLE|          4| 50000|      22199|            6|      HOUSING| 10,00,000 |      5|      42,898|               6|                 9|\n|     null|      null|   null|       null|     null|  null|null|  null|   null|         null|          null|           null|  null|    IB14008| 44|  MALE|        PROFESSOR|       MARRIED|          6| 51000|      19999|            4|     SHOPPING|     50,000|      3|      33,999|               1|                 5|\n|     null|      null|   null|       null|     null|  null|null|  null|   null|         null|          null|           null|  null|    IB14012| 30|FEMALE|          DENTIST|        SINGLE|          3| 58450|      27675|            5|   TRAVELLING|     75,000|      6|      20,876|               3|                 1|\n|     null|      null|   null|       null|     null|  null|null|  null|   null|         null|          null|           null|  null|    IB14018| 29|  MALE|          TEACHER|       MARRIED|          5| 45767|      12787|            3|    GOLD LOAN|  6,00,000 |      7|      11,000|               0|                 4|\n|     null|      null|   null|       null|     null|  null|null|  null|   null|         null|          null|           null|  null|    IB14022| 34|  MALE|           POLICE|        SINGLE|          4| 43521|      11999|            3|   AUTOMOBILE|  2,00,000 |      2|      43,898|               1|                 2|\n|     null|      null|   null|       null|     null|  null|null|  null|   null|         null|          null|           null|  null|    IB14024| 55|FEMALE|            NURSE|       MARRIED|          6| 34999|      19888|            4|   AUTOMOBILE|     47,787|      1|      50,000|               0|                 3|\n|     null|      null|   null|       null|     null|  null|null|  null|   null|         null|          null|           null|  null|    IB14025| 39|FEMALE|          TEACHER|       MARRIED|          6| 46619|      18675|            4|      HOUSING| 12,09,867 |      8|      29,999|               6|                 8|\n|     null|      null|   null|       null|     null|  null|null|  null|   null|         null|          null|           null|  null|    IB14027| 51|  MALE|   SYSTEM MANAGER|       MARRIED|          3| 49999|      19111|            5|  RESTAURANTS|     60,676|      8|      13,000|               2|                 5|\n|     null|      null|   null|       null|     null|  null|null|  null|   null|         null|          null|           null|  null|    IB14029| 24|FEMALE|          TEACHER|        SINGLE|          3| 45008|      17454|            4|   AUTOMOBILE|  3,99,435 |      9|      51,987|               4|                 7|\n|     null|      null|   null|       null|     null|  null|null|  null|   null|         null|          null|           null|  null|    IB14031| 37|FEMALE|SOFTWARE ENGINEER|       MARRIED|          5| 55999|      23999|            5|   AUTOMOBILE|     60,999|      2|           0|               5|                 3|\n+---------+----------+-------+-----------+---------+------+----+------+-------+-------------+--------------+---------------+------+-----------+---+------+-----------------+--------------+-----------+------+-----------+-------------+-------------+-----------+-------+------------+----------------+------------------+\nonly showing top 10 rows\n\n"
     ]
    }
   ],
   "source": [
    "# Right join on CustomerId and Customer_ID\n",
    "right_join_df = credit_df.join(loans_df, credit_df.CustomerId == loans_df.Customer_ID, how=\"right\")\n",
    "\n",
    "# Display 10 rows from the right join\n",
    "print(\"Right Join Result:\")\n",
    "right_join_df.show(10)\n"
   ]
  },
  {
   "cell_type": "code",
   "execution_count": 0,
   "metadata": {
    "application/vnd.databricks.v1+cell": {
     "cellMetadata": {
      "byteLimit": 2048000,
      "implicitDf": true,
      "rowLimit": 10000
     },
     "inputWidgets": {},
     "nuid": "75bad936-9301-4d24-8b5b-cdc99d907e0a",
     "showTitle": false,
     "tableResultSettingsMap": {},
     "title": ""
    }
   },
   "outputs": [
    {
     "output_type": "display_data",
     "data": {
      "text/html": [
       "<style scoped>\n",
       "  .table-result-container {\n",
       "    max-height: 300px;\n",
       "    overflow: auto;\n",
       "  }\n",
       "  table, th, td {\n",
       "    border: 1px solid black;\n",
       "    border-collapse: collapse;\n",
       "  }\n",
       "  th, td {\n",
       "    padding: 5px;\n",
       "  }\n",
       "  th {\n",
       "    text-align: left;\n",
       "  }\n",
       "</style><div class='table-result-container'><table class='table-result'><thead style='background-color: white'><tr><th>RowNumber</th><th>CustomerId</th><th>Surname</th><th>CreditScore</th><th>Geography</th><th>Gender</th><th>Age</th><th>Tenure</th><th>Balance</th><th>NumOfProducts</th><th>IsActiveMember</th><th>EstimatedSalary</th><th>Exited</th><th>Customer_ID</th><th>Age</th><th>Gender</th><th>Occupation</th><th>Marital Status</th><th>Family Size</th><th>Income</th><th>Expenditure</th><th>Use Frequency</th><th>Loan Category</th><th>Loan Amount</th><th>Overdue</th><th> Debt Record</th><th> Returned Cheque</th><th> Dishonour of Bill</th></tr></thead><tbody><tr><td>null</td><td>null</td><td>null</td><td>null</td><td>null</td><td>null</td><td>null</td><td>null</td><td>null</td><td>null</td><td>null</td><td>null</td><td>null</td><td>IB14001</td><td>30</td><td>MALE</td><td>BANK MANAGER</td><td>SINGLE</td><td>4</td><td>50000</td><td>22199</td><td>6</td><td>HOUSING</td><td> 10,00,000 </td><td>5</td><td>42,898</td><td>6</td><td>9</td></tr><tr><td>null</td><td>null</td><td>null</td><td>null</td><td>null</td><td>null</td><td>null</td><td>null</td><td>null</td><td>null</td><td>null</td><td>null</td><td>null</td><td>IB14008</td><td>44</td><td>MALE</td><td>PROFESSOR</td><td>MARRIED</td><td>6</td><td>51000</td><td>19999</td><td>4</td><td>SHOPPING</td><td>50,000</td><td>3</td><td>33,999</td><td>1</td><td>5</td></tr><tr><td>null</td><td>null</td><td>null</td><td>null</td><td>null</td><td>null</td><td>null</td><td>null</td><td>null</td><td>null</td><td>null</td><td>null</td><td>null</td><td>IB14012</td><td>30</td><td>FEMALE</td><td>DENTIST</td><td>SINGLE</td><td>3</td><td>58450</td><td>27675</td><td>5</td><td>TRAVELLING</td><td>75,000</td><td>6</td><td>20,876</td><td>3</td><td>1</td></tr><tr><td>null</td><td>null</td><td>null</td><td>null</td><td>null</td><td>null</td><td>null</td><td>null</td><td>null</td><td>null</td><td>null</td><td>null</td><td>null</td><td>IB14018</td><td>29</td><td>MALE</td><td>TEACHER</td><td>MARRIED</td><td>5</td><td>45767</td><td>12787</td><td>3</td><td>GOLD LOAN</td><td> 6,00,000 </td><td>7</td><td>11,000</td><td>0</td><td>4</td></tr><tr><td>null</td><td>null</td><td>null</td><td>null</td><td>null</td><td>null</td><td>null</td><td>null</td><td>null</td><td>null</td><td>null</td><td>null</td><td>null</td><td>IB14022</td><td>34</td><td>MALE</td><td>POLICE</td><td>SINGLE</td><td>4</td><td>43521</td><td>11999</td><td>3</td><td>AUTOMOBILE</td><td> 2,00,000 </td><td>2</td><td>43,898</td><td>1</td><td>2</td></tr><tr><td>null</td><td>null</td><td>null</td><td>null</td><td>null</td><td>null</td><td>null</td><td>null</td><td>null</td><td>null</td><td>null</td><td>null</td><td>null</td><td>IB14024</td><td>55</td><td>FEMALE</td><td>NURSE</td><td>MARRIED</td><td>6</td><td>34999</td><td>19888</td><td>4</td><td>AUTOMOBILE</td><td>47,787</td><td>1</td><td>50,000</td><td>0</td><td>3</td></tr><tr><td>null</td><td>null</td><td>null</td><td>null</td><td>null</td><td>null</td><td>null</td><td>null</td><td>null</td><td>null</td><td>null</td><td>null</td><td>null</td><td>IB14025</td><td>39</td><td>FEMALE</td><td>TEACHER</td><td>MARRIED</td><td>6</td><td>46619</td><td>18675</td><td>4</td><td>HOUSING</td><td> 12,09,867 </td><td>8</td><td>29,999</td><td>6</td><td>8</td></tr><tr><td>null</td><td>null</td><td>null</td><td>null</td><td>null</td><td>null</td><td>null</td><td>null</td><td>null</td><td>null</td><td>null</td><td>null</td><td>null</td><td>IB14027</td><td>51</td><td>MALE</td><td>SYSTEM MANAGER</td><td>MARRIED</td><td>3</td><td>49999</td><td>19111</td><td>5</td><td>RESTAURANTS</td><td>60,676</td><td>8</td><td>13,000</td><td>2</td><td>5</td></tr><tr><td>null</td><td>null</td><td>null</td><td>null</td><td>null</td><td>null</td><td>null</td><td>null</td><td>null</td><td>null</td><td>null</td><td>null</td><td>null</td><td>IB14029</td><td>24</td><td>FEMALE</td><td>TEACHER</td><td>SINGLE</td><td>3</td><td>45008</td><td>17454</td><td>4</td><td>AUTOMOBILE</td><td> 3,99,435 </td><td>9</td><td>51,987</td><td>4</td><td>7</td></tr><tr><td>null</td><td>null</td><td>null</td><td>null</td><td>null</td><td>null</td><td>null</td><td>null</td><td>null</td><td>null</td><td>null</td><td>null</td><td>null</td><td>IB14031</td><td>37</td><td>FEMALE</td><td>SOFTWARE ENGINEER</td><td>MARRIED</td><td>5</td><td>55999</td><td>23999</td><td>5</td><td>AUTOMOBILE</td><td>60,999</td><td>2</td><td>0</td><td>5</td><td>3</td></tr></tbody></table></div>"
      ]
     },
     "metadata": {
      "application/vnd.databricks.v1+output": {
       "addedWidgets": {},
       "aggData": [],
       "aggError": "",
       "aggOverflow": false,
       "aggSchema": [],
       "aggSeriesLimitReached": false,
       "aggType": "",
       "arguments": {},
       "columnCustomDisplayInfos": {},
       "data": [
        [
         null,
         null,
         null,
         null,
         null,
         null,
         null,
         null,
         null,
         null,
         null,
         null,
         null,
         "IB14001",
         30,
         "MALE",
         "BANK MANAGER",
         "SINGLE",
         4,
         50000,
         22199,
         6,
         "HOUSING",
         " 10,00,000 ",
         5,
         "42,898",
         6,
         9
        ],
        [
         null,
         null,
         null,
         null,
         null,
         null,
         null,
         null,
         null,
         null,
         null,
         null,
         null,
         "IB14008",
         44,
         "MALE",
         "PROFESSOR",
         "MARRIED",
         6,
         51000,
         19999,
         4,
         "SHOPPING",
         "50,000",
         3,
         "33,999",
         1,
         5
        ],
        [
         null,
         null,
         null,
         null,
         null,
         null,
         null,
         null,
         null,
         null,
         null,
         null,
         null,
         "IB14012",
         30,
         "FEMALE",
         "DENTIST",
         "SINGLE",
         3,
         58450,
         27675,
         5,
         "TRAVELLING",
         "75,000",
         6,
         "20,876",
         3,
         1
        ],
        [
         null,
         null,
         null,
         null,
         null,
         null,
         null,
         null,
         null,
         null,
         null,
         null,
         null,
         "IB14018",
         29,
         "MALE",
         "TEACHER",
         "MARRIED",
         5,
         45767,
         12787,
         3,
         "GOLD LOAN",
         " 6,00,000 ",
         7,
         "11,000",
         0,
         4
        ],
        [
         null,
         null,
         null,
         null,
         null,
         null,
         null,
         null,
         null,
         null,
         null,
         null,
         null,
         "IB14022",
         34,
         "MALE",
         "POLICE",
         "SINGLE",
         4,
         43521,
         11999,
         3,
         "AUTOMOBILE",
         " 2,00,000 ",
         2,
         "43,898",
         1,
         2
        ],
        [
         null,
         null,
         null,
         null,
         null,
         null,
         null,
         null,
         null,
         null,
         null,
         null,
         null,
         "IB14024",
         55,
         "FEMALE",
         "NURSE",
         "MARRIED",
         6,
         34999,
         19888,
         4,
         "AUTOMOBILE",
         "47,787",
         1,
         "50,000",
         0,
         3
        ],
        [
         null,
         null,
         null,
         null,
         null,
         null,
         null,
         null,
         null,
         null,
         null,
         null,
         null,
         "IB14025",
         39,
         "FEMALE",
         "TEACHER",
         "MARRIED",
         6,
         46619,
         18675,
         4,
         "HOUSING",
         " 12,09,867 ",
         8,
         "29,999",
         6,
         8
        ],
        [
         null,
         null,
         null,
         null,
         null,
         null,
         null,
         null,
         null,
         null,
         null,
         null,
         null,
         "IB14027",
         51,
         "MALE",
         "SYSTEM MANAGER",
         "MARRIED",
         3,
         49999,
         19111,
         5,
         "RESTAURANTS",
         "60,676",
         8,
         "13,000",
         2,
         5
        ],
        [
         null,
         null,
         null,
         null,
         null,
         null,
         null,
         null,
         null,
         null,
         null,
         null,
         null,
         "IB14029",
         24,
         "FEMALE",
         "TEACHER",
         "SINGLE",
         3,
         45008,
         17454,
         4,
         "AUTOMOBILE",
         " 3,99,435 ",
         9,
         "51,987",
         4,
         7
        ],
        [
         null,
         null,
         null,
         null,
         null,
         null,
         null,
         null,
         null,
         null,
         null,
         null,
         null,
         "IB14031",
         37,
         "FEMALE",
         "SOFTWARE ENGINEER",
         "MARRIED",
         5,
         55999,
         23999,
         5,
         "AUTOMOBILE",
         "60,999",
         2,
         "0",
         5,
         3
        ]
       ],
       "datasetInfos": [],
       "dbfsResultPath": null,
       "isJsonSchema": true,
       "metadata": {},
       "overflow": false,
       "plotOptions": {
        "customPlotOptions": {},
        "displayType": "table",
        "pivotAggregation": null,
        "pivotColumns": null,
        "xColumns": null,
        "yColumns": null
       },
       "removedWidgets": [],
       "schema": [
        {
         "metadata": "{}",
         "name": "RowNumber",
         "type": "\"integer\""
        },
        {
         "metadata": "{}",
         "name": "CustomerId",
         "type": "\"integer\""
        },
        {
         "metadata": "{}",
         "name": "Surname",
         "type": "\"string\""
        },
        {
         "metadata": "{}",
         "name": "CreditScore",
         "type": "\"integer\""
        },
        {
         "metadata": "{}",
         "name": "Geography",
         "type": "\"string\""
        },
        {
         "metadata": "{}",
         "name": "Gender",
         "type": "\"string\""
        },
        {
         "metadata": "{}",
         "name": "Age",
         "type": "\"integer\""
        },
        {
         "metadata": "{}",
         "name": "Tenure",
         "type": "\"integer\""
        },
        {
         "metadata": "{}",
         "name": "Balance",
         "type": "\"double\""
        },
        {
         "metadata": "{}",
         "name": "NumOfProducts",
         "type": "\"integer\""
        },
        {
         "metadata": "{}",
         "name": "IsActiveMember",
         "type": "\"integer\""
        },
        {
         "metadata": "{}",
         "name": "EstimatedSalary",
         "type": "\"double\""
        },
        {
         "metadata": "{}",
         "name": "Exited",
         "type": "\"integer\""
        },
        {
         "metadata": "{}",
         "name": "Customer_ID",
         "type": "\"string\""
        },
        {
         "metadata": "{}",
         "name": "Age",
         "type": "\"integer\""
        },
        {
         "metadata": "{}",
         "name": "Gender",
         "type": "\"string\""
        },
        {
         "metadata": "{}",
         "name": "Occupation",
         "type": "\"string\""
        },
        {
         "metadata": "{}",
         "name": "Marital Status",
         "type": "\"string\""
        },
        {
         "metadata": "{}",
         "name": "Family Size",
         "type": "\"integer\""
        },
        {
         "metadata": "{}",
         "name": "Income",
         "type": "\"integer\""
        },
        {
         "metadata": "{}",
         "name": "Expenditure",
         "type": "\"integer\""
        },
        {
         "metadata": "{}",
         "name": "Use Frequency",
         "type": "\"integer\""
        },
        {
         "metadata": "{}",
         "name": "Loan Category",
         "type": "\"string\""
        },
        {
         "metadata": "{}",
         "name": "Loan Amount",
         "type": "\"string\""
        },
        {
         "metadata": "{}",
         "name": "Overdue",
         "type": "\"integer\""
        },
        {
         "metadata": "{}",
         "name": " Debt Record",
         "type": "\"string\""
        },
        {
         "metadata": "{}",
         "name": " Returned Cheque",
         "type": "\"integer\""
        },
        {
         "metadata": "{}",
         "name": " Dishonour of Bill",
         "type": "\"integer\""
        }
       ],
       "type": "table"
      }
     },
     "output_type": "display_data"
    }
   ],
   "source": [
    "%sql\n",
    "SELECT *\n",
    "FROM credit c\n",
    "RIGHT JOIN loans l\n",
    "ON c.CustomerId = l.Customer_ID\n",
    "LIMIT 10\n"
   ]
  }
 ],
 "metadata": {
  "application/vnd.databricks.v1+notebook": {
   "dashboards": [],
   "environmentMetadata": null,
   "language": "python",
   "notebookMetadata": {
    "mostRecentlyExecutedCommandWithImplicitDF": {
     "commandId": 2883435880646460,
     "dataframes": [
      "_sqldf"
     ]
    },
    "pythonIndentUnit": 4
   },
   "notebookName": "Spark SQL and PySpark Coding Challenge 2024-11-26 16:02:16",
   "widgets": {}
  }
 },
 "nbformat": 4,
 "nbformat_minor": 0
}
