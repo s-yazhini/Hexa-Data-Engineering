{
 "cells": [
  {
   "cell_type": "markdown",
   "id": "80299399",
   "metadata": {},
   "source": [
    "# Case Study by Yazhini\n",
    "\n",
    "# 1.    Perform data preparation & cleaning"
   ]
  },
  {
   "cell_type": "markdown",
   "id": "0d171b82",
   "metadata": {},
   "source": [
    "# 1.1  Load the dataset into a data frame using Pandas"
   ]
  },
  {
   "cell_type": "code",
   "execution_count": 1,
   "id": "393f591d",
   "metadata": {},
   "outputs": [
    {
     "name": "stdout",
     "output_type": "stream",
     "text": [
      "  Country Name Country Code  \\\n",
      "0     Malaysia          MYS   \n",
      "1     Malaysia          MYS   \n",
      "2     Malaysia          MYS   \n",
      "3     Malaysia          MYS   \n",
      "4     Malaysia          MYS   \n",
      "\n",
      "                                      Indicator Name    Indicator Code  1960  \\\n",
      "0         Intentional homicides (per 100,000 people)    VC.IHR.PSRC.P5   NaN   \n",
      "1  Internally displaced persons, new displacement...       VC.IDP.NWDS   NaN   \n",
      "2  Voice and Accountability: Percentile Rank, Upp...  VA.PER.RNK.UPPER   NaN   \n",
      "3                 Voice and Accountability: Estimate            VA.EST   NaN   \n",
      "4              High-technology exports (current US$)    TX.VAL.TECH.CD   NaN   \n",
      "\n",
      "   1961  1962  1963  1964  1965  ...          2015          2016  \\\n",
      "0   NaN   NaN   NaN   NaN   NaN  ...  1.602893e+00  1.446406e+00   \n",
      "1   NaN   NaN   NaN   NaN   NaN  ...  2.100000e+04  1.800000e+04   \n",
      "2   NaN   NaN   NaN   NaN   NaN  ...  4.088670e+01  3.940887e+01   \n",
      "3   NaN   NaN   NaN   NaN   NaN  ... -3.914032e-01 -4.167139e-01   \n",
      "4   NaN   NaN   NaN   NaN   NaN  ...  6.447097e+10  6.320504e+10   \n",
      "\n",
      "           2017          2018          2019          2020          2021  \\\n",
      "0  1.185271e+00  9.969360e-01  9.450061e-01  7.620484e-01  7.237771e-01   \n",
      "1  8.200000e+04  3.800000e+04  6.300000e+04  2.300000e+04  1.290000e+05   \n",
      "2  4.039409e+01  5.000000e+01  5.217391e+01  4.879227e+01  4.830918e+01   \n",
      "3 -3.986608e-01 -9.950076e-02 -4.770548e-02 -1.544601e-01 -1.649518e-01   \n",
      "4  7.412605e+10  9.050321e+10  8.690300e+10  9.210165e+10  1.086849e+11   \n",
      "\n",
      "           2022          2023  Unnamed: 68  \n",
      "0           NaN           NaN          NaN  \n",
      "1  1.560000e+05  2.060000e+05          NaN  \n",
      "2  5.507246e+01  5.686274e+01          NaN  \n",
      "3  4.231865e-04  8.761941e-02          NaN  \n",
      "4  1.368268e+11  1.270322e+11          NaN  \n",
      "\n",
      "[5 rows x 69 columns]\n"
     ]
    }
   ],
   "source": [
    "import pandas as pd\n",
    "import numpy as np\n",
    "\n",
    "# Load the dataset\n",
    "file_path = \"C:/Users/sakthi/Downloads/API_MYS_DS2_en_csv_v2_8636/API_MYS_DS2_en_csv_v2_8636.csv\"\n",
    "data = pd.read_csv(file_path, skiprows=4)  # Skip metadata rows\n",
    "\n",
    "# Display basic info\n",
    "print(data.head())\n"
   ]
  },
  {
   "cell_type": "markdown",
   "id": "e44c4919",
   "metadata": {},
   "source": [
    "# 1.2  Explore the number of rows & columns, ranges of values etc."
   ]
  },
  {
   "cell_type": "code",
   "execution_count": 2,
   "id": "7447e989",
   "metadata": {},
   "outputs": [
    {
     "name": "stdout",
     "output_type": "stream",
     "text": [
      "Number of rows and columns: (1496, 69)\n"
     ]
    }
   ],
   "source": [
    "# Get the shape of the dataset\n",
    "print(\"Number of rows and columns:\", data.shape)\n"
   ]
  },
  {
   "cell_type": "code",
   "execution_count": 3,
   "id": "6556f98f",
   "metadata": {},
   "outputs": [
    {
     "name": "stdout",
     "output_type": "stream",
     "text": [
      "Columns: ['Country Name', 'Country Code', 'Indicator Name', 'Indicator Code', '1960', '1961', '1962', '1963', '1964', '1965', '1966', '1967', '1968', '1969', '1970', '1971', '1972', '1973', '1974', '1975', '1976', '1977', '1978', '1979', '1980', '1981', '1982', '1983', '1984', '1985', '1986', '1987', '1988', '1989', '1990', '1991', '1992', '1993', '1994', '1995', '1996', '1997', '1998', '1999', '2000', '2001', '2002', '2003', '2004', '2005', '2006', '2007', '2008', '2009', '2010', '2011', '2012', '2013', '2014', '2015', '2016', '2017', '2018', '2019', '2020', '2021', '2022', '2023', 'Unnamed: 68']\n"
     ]
    }
   ],
   "source": [
    "# Get column names\n",
    "print(\"Columns:\", data.columns.tolist())\n"
   ]
  },
  {
   "cell_type": "code",
   "execution_count": 4,
   "id": "719fc822",
   "metadata": {},
   "outputs": [
    {
     "name": "stdout",
     "output_type": "stream",
     "text": [
      "<class 'pandas.core.frame.DataFrame'>\n",
      "RangeIndex: 1496 entries, 0 to 1495\n",
      "Data columns (total 69 columns):\n",
      " #   Column          Non-Null Count  Dtype  \n",
      "---  ------          --------------  -----  \n",
      " 0   Country Name    1496 non-null   object \n",
      " 1   Country Code    1496 non-null   object \n",
      " 2   Indicator Name  1496 non-null   object \n",
      " 3   Indicator Code  1496 non-null   object \n",
      " 4   1960            220 non-null    float64\n",
      " 5   1961            252 non-null    float64\n",
      " 6   1962            255 non-null    float64\n",
      " 7   1963            252 non-null    float64\n",
      " 8   1964            262 non-null    float64\n",
      " 9   1965            267 non-null    float64\n",
      " 10  1966            266 non-null    float64\n",
      " 11  1967            297 non-null    float64\n",
      " 12  1968            302 non-null    float64\n",
      " 13  1969            309 non-null    float64\n",
      " 14  1970            471 non-null    float64\n",
      " 15  1971            440 non-null    float64\n",
      " 16  1972            440 non-null    float64\n",
      " 17  1973            413 non-null    float64\n",
      " 18  1974            495 non-null    float64\n",
      " 19  1975            491 non-null    float64\n",
      " 20  1976            479 non-null    float64\n",
      " 21  1977            482 non-null    float64\n",
      " 22  1978            480 non-null    float64\n",
      " 23  1979            502 non-null    float64\n",
      " 24  1980            596 non-null    float64\n",
      " 25  1981            533 non-null    float64\n",
      " 26  1982            550 non-null    float64\n",
      " 27  1983            546 non-null    float64\n",
      " 28  1984            569 non-null    float64\n",
      " 29  1985            550 non-null    float64\n",
      " 30  1986            524 non-null    float64\n",
      " 31  1987            580 non-null    float64\n",
      " 32  1988            582 non-null    float64\n",
      " 33  1989            582 non-null    float64\n",
      " 34  1990            645 non-null    float64\n",
      " 35  1991            738 non-null    float64\n",
      " 36  1992            711 non-null    float64\n",
      " 37  1993            705 non-null    float64\n",
      " 38  1994            687 non-null    float64\n",
      " 39  1995            723 non-null    float64\n",
      " 40  1996            797 non-null    float64\n",
      " 41  1997            757 non-null    float64\n",
      " 42  1998            825 non-null    float64\n",
      " 43  1999            795 non-null    float64\n",
      " 44  2000            977 non-null    float64\n",
      " 45  2001            885 non-null    float64\n",
      " 46  2002            942 non-null    float64\n",
      " 47  2003            969 non-null    float64\n",
      " 48  2004            964 non-null    float64\n",
      " 49  2005            986 non-null    float64\n",
      " 50  2006            1005 non-null   float64\n",
      " 51  2007            985 non-null    float64\n",
      " 52  2008            1013 non-null   float64\n",
      " 53  2009            999 non-null    float64\n",
      " 54  2010            1037 non-null   float64\n",
      " 55  2011            1039 non-null   float64\n",
      " 56  2012            1026 non-null   float64\n",
      " 57  2013            1028 non-null   float64\n",
      " 58  2014            1062 non-null   float64\n",
      " 59  2015            1072 non-null   float64\n",
      " 60  2016            1127 non-null   float64\n",
      " 61  2017            1051 non-null   float64\n",
      " 62  2018            1068 non-null   float64\n",
      " 63  2019            1082 non-null   float64\n",
      " 64  2020            984 non-null    float64\n",
      " 65  2021            946 non-null    float64\n",
      " 66  2022            804 non-null    float64\n",
      " 67  2023            457 non-null    float64\n",
      " 68  Unnamed: 68     0 non-null      float64\n",
      "dtypes: float64(65), object(4)\n",
      "memory usage: 806.6+ KB\n",
      "None\n"
     ]
    }
   ],
   "source": [
    "# Check data types and missing values\n",
    "print(data.info())\n"
   ]
  },
  {
   "cell_type": "code",
   "execution_count": 5,
   "id": "e33580dd",
   "metadata": {},
   "outputs": [
    {
     "name": "stdout",
     "output_type": "stream",
     "text": [
      "               1960          1961          1962          1963          1964  \\\n",
      "count  2.200000e+02  2.520000e+02  2.550000e+02  2.520000e+02  2.620000e+02   \n",
      "mean   1.692312e+09  1.513481e+09  1.605862e+09  1.741254e+09  1.754123e+09   \n",
      "std    5.949267e+09  5.811610e+09  6.147385e+09  6.489999e+09  6.703129e+09   \n",
      "min   -5.470005e+08 -6.910004e+08 -9.561704e+08 -2.292788e+09 -2.036932e+09   \n",
      "25%    9.079507e+00  6.999779e+00  6.585237e+00  7.502158e+00  5.875654e+00   \n",
      "50%    1.770223e+02  8.922748e+01  8.780000e+01  8.369833e+01  6.513626e+01   \n",
      "75%    4.308750e+08  1.302484e+08  5.096007e+07  1.105883e+08  9.390170e+07   \n",
      "max    4.226764e+10  4.301826e+10  4.730725e+10  4.929775e+10  5.214925e+10   \n",
      "\n",
      "               1965          1966          1967          1968          1969  \\\n",
      "count  2.670000e+02  2.660000e+02  2.970000e+02  3.020000e+02  3.090000e+02   \n",
      "mean   1.866548e+09  1.966566e+09  1.814703e+09  1.867178e+09  1.925060e+09   \n",
      "std    7.149571e+09  7.550353e+09  7.374938e+09  7.663810e+09  7.948608e+09   \n",
      "min   -1.314865e+09 -2.508231e+09 -3.967683e+09 -6.412651e+09 -4.136595e+09   \n",
      "25%    7.314669e+00  7.251892e+00  4.422400e+00  5.385945e+00  5.152000e+00   \n",
      "50%    6.250100e+01  6.417350e+01  5.228978e+01  5.186448e+01  5.261866e+01   \n",
      "75%    7.038009e+07  1.076001e+08  1.125000e+07  1.045033e+07  6.768595e+06   \n",
      "max    5.584668e+10  5.915943e+10  6.144129e+10  6.634307e+10  6.958628e+10   \n",
      "\n",
      "       ...          2015          2016          2017          2018  \\\n",
      "count  ...  1.072000e+03  1.127000e+03  1.051000e+03  1.068000e+03   \n",
      "mean   ...  4.098582e+10  4.038405e+10  4.674465e+10  4.851751e+10   \n",
      "std    ...  1.703872e+11  1.741921e+11  1.942323e+11  2.039359e+11   \n",
      "min    ... -3.650522e+10 -3.780419e+10 -3.956533e+10 -5.248438e+10   \n",
      "25%    ...  5.755296e+00  5.681090e+00  6.676851e+00  5.170481e+00   \n",
      "50%    ...  3.812934e+01  4.284036e+01  5.126130e+01  4.320369e+01   \n",
      "75%    ...  6.605223e+03  2.070557e+03  1.000000e+04  3.625750e+03   \n",
      "max    ...  1.675539e+12  1.786621e+12  1.898617e+12  2.076412e+12   \n",
      "\n",
      "               2019          2020          2021          2022          2023  \\\n",
      "count  1.082000e+03  9.840000e+02  9.460000e+02  8.040000e+02  4.570000e+02   \n",
      "mean   4.949160e+10  5.184116e+10  5.813089e+10  7.583876e+10  1.279264e+11   \n",
      "std    2.109731e+11  2.128643e+11  2.326091e+11  2.805356e+11  3.686254e+11   \n",
      "min   -5.098635e+10 -8.690459e+10 -9.875056e+10 -9.924420e+10 -5.504957e+10   \n",
      "25%    5.511990e+00  4.534610e+00  6.000000e+00  7.336582e+00  7.682231e+00   \n",
      "50%    4.029017e+01  5.000000e+01  5.447570e+01  5.686546e+01  6.942337e+01   \n",
      "75%    2.706750e+03  1.997424e+04  3.877471e+04  2.813684e+05  4.481575e+09   \n",
      "max    2.171524e+12  2.297632e+12  2.401470e+12  2.526204e+12  2.692039e+12   \n",
      "\n",
      "       Unnamed: 68  \n",
      "count          0.0  \n",
      "mean           NaN  \n",
      "std            NaN  \n",
      "min            NaN  \n",
      "25%            NaN  \n",
      "50%            NaN  \n",
      "75%            NaN  \n",
      "max            NaN  \n",
      "\n",
      "[8 rows x 65 columns]\n"
     ]
    }
   ],
   "source": [
    "# View summary statistics for numeric columns\n",
    "print(data.describe())"
   ]
  },
  {
   "cell_type": "markdown",
   "id": "effb166f",
   "metadata": {},
   "source": [
    "# 1.3\tHandle missing, incorrect and invalid data"
   ]
  },
  {
   "cell_type": "code",
   "execution_count": 7,
   "id": "e26c08ec",
   "metadata": {},
   "outputs": [
    {
     "name": "stdout",
     "output_type": "stream",
     "text": [
      "Missing values:\n",
      " Country Name       0\n",
      "Country Code       0\n",
      "Indicator Name     0\n",
      "Indicator Code     0\n",
      "1996              35\n",
      "1997              33\n",
      "1998              38\n",
      "1999              22\n",
      "2000              23\n",
      "2001              34\n",
      "2002              25\n",
      "2003              23\n",
      "2004              20\n",
      "2005              29\n",
      "2006              24\n",
      "2007              24\n",
      "2008              25\n",
      "2009              38\n",
      "2010              34\n",
      "2011              22\n",
      "2012              21\n",
      "2013              33\n",
      "2014              23\n",
      "2015              32\n",
      "2016              30\n",
      "2017              28\n",
      "2018              36\n",
      "2019              38\n",
      "2020              56\n",
      "2021              23\n",
      "2022              20\n",
      "dtype: int64\n",
      "\n",
      "Missing values after cleaning:\n",
      " Country Name      0\n",
      "Country Code      0\n",
      "Indicator Name    0\n",
      "Indicator Code    0\n",
      "1996              0\n",
      "1997              0\n",
      "1998              0\n",
      "1999              0\n",
      "2000              0\n",
      "2001              0\n",
      "2002              0\n",
      "2003              0\n",
      "2004              0\n",
      "2005              0\n",
      "2006              0\n",
      "2007              0\n",
      "2008              0\n",
      "2009              0\n",
      "2010              0\n",
      "2011              0\n",
      "2012              0\n",
      "2013              0\n",
      "2014              0\n",
      "2015              0\n",
      "2016              0\n",
      "2017              0\n",
      "2018              0\n",
      "2019              0\n",
      "2020              0\n",
      "2021              0\n",
      "2022              0\n",
      "dtype: int64\n"
     ]
    }
   ],
   "source": [
    "# Check for missing values\n",
    "missing_values = data.isnull().sum()\n",
    "print(\"Missing values:\\n\", missing_values)\n",
    "\n",
    "# Drop columns with more than 50% missing data (if applicable)\n",
    "threshold = len(data) * 0.5\n",
    "data = data.loc[:, data.isnull().sum() < threshold]\n",
    "\n",
    "# Fill missing numeric values with median\n",
    "data = data.fillna(data.median(numeric_only=True))\n",
    "\n",
    "# Replace invalid values (e.g., negative values in a count column)\n",
    "numeric_cols = data.select_dtypes(include=np.number).columns\n",
    "for col in numeric_cols:\n",
    "    data[col] = data[col].apply(lambda x: np.nan if x < 0 else x)\n",
    "\n",
    "# Re-check for missing values\n",
    "print(\"\\nMissing values after cleaning:\\n\", data.isnull().sum())\n"
   ]
  },
  {
   "cell_type": "markdown",
   "id": "35d9b15e",
   "metadata": {},
   "source": [
    "# 1.4     Perform any additional steps (parsing dates, creating additional columns, merging multiple dataset etc.)\n"
   ]
  },
  {
   "cell_type": "markdown",
   "id": "5dc1e0d8",
   "metadata": {},
   "source": [
    "# 1.4.1  Parsing Dates and Additional Cleaning"
   ]
  },
  {
   "cell_type": "code",
   "execution_count": 8,
   "id": "24c9b48e",
   "metadata": {},
   "outputs": [],
   "source": [
    "# If there are year columns (e.g., 1960, 1961), convert them to long format\n",
    "id_vars = ['Country Name', 'Country Code', 'Indicator Name', 'Indicator Code']\n",
    "value_vars = [col for col in data.columns if col.isdigit()]  # Year columns\n",
    "data_long = pd.melt(data, id_vars=id_vars, value_vars=value_vars, \n",
    "                    var_name='Year', value_name='Value')\n",
    "\n",
    "# Convert Year to datetime\n",
    "data_long['Year'] = pd.to_datetime(data_long['Year'], format='%Y')\n",
    "\n",
    "# Handle outliers (e.g., extreme values in 'Value' column)\n",
    "q1 = data_long['Value'].quantile(0.25)\n",
    "q3 = data_long['Value'].quantile(0.75)\n",
    "iqr = q3 - q1\n",
    "lower_bound = q1 - 1.5 * iqr\n",
    "upper_bound = q3 + 1.5 * iqr\n",
    "data_long['Value'] = data_long['Value'].apply(lambda x: np.nan if x < lower_bound or x > upper_bound else x)\n"
   ]
  },
  {
   "cell_type": "markdown",
   "id": "2a69fc95",
   "metadata": {},
   "source": [
    "# 1.4.2  Create Derived Columns"
   ]
  },
  {
   "cell_type": "code",
   "execution_count": 11,
   "id": "026da820",
   "metadata": {},
   "outputs": [
    {
     "name": "stdout",
     "output_type": "stream",
     "text": [
      "Rows before the change:\n",
      "     Country Name Country Code                              Indicator Name  \\\n",
      "0        Malaysia          MYS  Intentional homicides (per 100,000 people)   \n",
      "1496     Malaysia          MYS  Intentional homicides (per 100,000 people)   \n",
      "2992     Malaysia          MYS  Intentional homicides (per 100,000 people)   \n",
      "4488     Malaysia          MYS  Intentional homicides (per 100,000 people)   \n",
      "5984     Malaysia          MYS  Intentional homicides (per 100,000 people)   \n",
      "\n",
      "      Indicator Code       Year     Value  \n",
      "0     VC.IHR.PSRC.P5 1996-01-01  2.160563  \n",
      "1496  VC.IHR.PSRC.P5 1997-01-01  2.541275  \n",
      "2992  VC.IHR.PSRC.P5 1998-01-01  2.883926  \n",
      "4488  VC.IHR.PSRC.P5 1999-01-01  2.628678  \n",
      "5984  VC.IHR.PSRC.P5 2000-01-01  2.401379  \n",
      "\n",
      "Rows after the change:\n",
      "     Country Name Country Code                              Indicator Name  \\\n",
      "0        Malaysia          MYS  Intentional homicides (per 100,000 people)   \n",
      "1496     Malaysia          MYS  Intentional homicides (per 100,000 people)   \n",
      "2992     Malaysia          MYS  Intentional homicides (per 100,000 people)   \n",
      "4488     Malaysia          MYS  Intentional homicides (per 100,000 people)   \n",
      "5984     Malaysia          MYS  Intentional homicides (per 100,000 people)   \n",
      "\n",
      "      Indicator Code       Year     Value  High_Homicide  \n",
      "0     VC.IHR.PSRC.P5 1996-01-01  2.160563              1  \n",
      "1496  VC.IHR.PSRC.P5 1997-01-01  2.541275              1  \n",
      "2992  VC.IHR.PSRC.P5 1998-01-01  2.883926              1  \n",
      "4488  VC.IHR.PSRC.P5 1999-01-01  2.628678              1  \n",
      "5984  VC.IHR.PSRC.P5 2000-01-01  2.401379              1  \n"
     ]
    }
   ],
   "source": [
    "# Step 1: Capture rows before change\n",
    "before_change = data_long[\n",
    "    (data_long['Indicator Name'] == 'Intentional homicides (per 100,000 people)') & \n",
    "    (data_long['Value'] > 2)\n",
    "].copy()\n",
    "\n",
    "print(\"Rows before the change:\")\n",
    "print(before_change.head(5))\n",
    "\n",
    "# Step 2: Apply the transformation\n",
    "# Flag rows with high homicide rates (>2 per 100,000 people)\n",
    "data_long['High_Homicide'] = data_long.apply(\n",
    "    lambda row: 1 if row['Indicator Name'] == 'Intentional homicides (per 100,000 people)' and row['Value'] > 2 else 0, \n",
    "    axis=1\n",
    ")\n",
    "\n",
    "# Step 3: Display rows after the change\n",
    "after_change = data_long[data_long['High_Homicide'] == 1]\n",
    "\n",
    "print(\"\\nRows after the change:\")\n",
    "print(after_change.head(5))\n"
   ]
  },
  {
   "cell_type": "markdown",
   "id": "4c2f22c9",
   "metadata": {},
   "source": [
    "# 1.4.3  Reverse the change by drop"
   ]
  },
  {
   "cell_type": "code",
   "execution_count": 10,
   "id": "aa4ecebc",
   "metadata": {},
   "outputs": [
    {
     "name": "stdout",
     "output_type": "stream",
     "text": [
      "Change reversed. Current columns in the dataset:\n",
      "Index(['Country Name', 'Country Code', 'Indicator Name', 'Indicator Code',\n",
      "       'Year', 'Value'],\n",
      "      dtype='object')\n"
     ]
    }
   ],
   "source": [
    "# Reverse the change by dropping the 'High_Homicide' column\n",
    "data_long.drop(columns=['High_Homicide'], inplace=True)\n",
    "\n",
    "print(\"Change reversed. Current columns in the dataset:\")\n",
    "print(data_long.columns)\n",
    "\n"
   ]
  },
  {
   "cell_type": "markdown",
   "id": "3c2bb635",
   "metadata": {},
   "source": [
    "# 1.4.4  Merging"
   ]
  },
  {
   "cell_type": "code",
   "execution_count": 18,
   "id": "474cc92c",
   "metadata": {
    "scrolled": false
   },
   "outputs": [
    {
     "name": "stdout",
     "output_type": "stream",
     "text": [
      "Dataset before the merge (data_long):\n",
      "  Country Name Country Code  \\\n",
      "0     Malaysia          MYS   \n",
      "1     Malaysia          MYS   \n",
      "2     Malaysia          MYS   \n",
      "3     Malaysia          MYS   \n",
      "4     Malaysia          MYS   \n",
      "\n",
      "                                      Indicator Name    Indicator Code  \\\n",
      "0         Intentional homicides (per 100,000 people)    VC.IHR.PSRC.P5   \n",
      "1  Internally displaced persons, new displacement...       VC.IDP.NWDS   \n",
      "2  Voice and Accountability: Percentile Rank, Upp...  VA.PER.RNK.UPPER   \n",
      "3                 Voice and Accountability: Estimate            VA.EST   \n",
      "4              High-technology exports (current US$)    TX.VAL.TECH.CD   \n",
      "\n",
      "        Year      Value  High_Homicide  \n",
      "0 1996-01-01   2.160563              1  \n",
      "1 1996-01-01  40.018551              0  \n",
      "2 1996-01-01  56.500000              0  \n",
      "3 1996-01-01  40.018551              0  \n",
      "4 1996-01-01  40.018551              0  \n",
      "\n",
      "Other dataset to be merged (other_data):\n",
      "     INDICATOR_CODE                                     INDICATOR_NAME  \\\n",
      "0    VC.IHR.PSRC.P5         Intentional homicides (per 100,000 people)   \n",
      "1       VC.IDP.NWDS  Internally displaced persons, new displacement...   \n",
      "2  VA.PER.RNK.UPPER  Voice and Accountability: Percentile Rank, Upp...   \n",
      "3            VA.EST                 Voice and Accountability: Estimate   \n",
      "4    TX.VAL.TECH.CD              High-technology exports (current US$)   \n",
      "\n",
      "                                         SOURCE_NOTE  \\\n",
      "0  Intentional homicides are estimates of unlawfu...   \n",
      "1  Internally displaced persons are defined accor...   \n",
      "2  Voice and Accountability captures perceptions ...   \n",
      "3  Voice and Accountability captures perceptions ...   \n",
      "4  High-technology exports are products with high...   \n",
      "\n",
      "                                 SOURCE_ORGANIZATION  Unnamed: 4  \n",
      "0  UN Office on Drugs and Crime's International H...         NaN  \n",
      "1  The Internal Displacement Monitoring Centre (h...         NaN  \n",
      "2  Detailed documentation of the WGI, interactive...         NaN  \n",
      "3  Detailed documentation of the WGI, interactive...         NaN  \n",
      "4  United Nations, Comtrade database through the ...         NaN  \n",
      "\n",
      "Dataset after the merge:\n",
      "  Country Name Country Code                              Indicator Name  \\\n",
      "0     Malaysia          MYS  Intentional homicides (per 100,000 people)   \n",
      "1     Malaysia          MYS  Intentional homicides (per 100,000 people)   \n",
      "2     Malaysia          MYS  Intentional homicides (per 100,000 people)   \n",
      "3     Malaysia          MYS  Intentional homicides (per 100,000 people)   \n",
      "4     Malaysia          MYS  Intentional homicides (per 100,000 people)   \n",
      "\n",
      "   Indicator Code       Year     Value  High_Homicide  INDICATOR_CODE  \\\n",
      "0  VC.IHR.PSRC.P5 1996-01-01  2.160563              1  VC.IHR.PSRC.P5   \n",
      "1  VC.IHR.PSRC.P5 1997-01-01  2.541275              1  VC.IHR.PSRC.P5   \n",
      "2  VC.IHR.PSRC.P5 1998-01-01  2.883926              1  VC.IHR.PSRC.P5   \n",
      "3  VC.IHR.PSRC.P5 1999-01-01  2.628678              1  VC.IHR.PSRC.P5   \n",
      "4  VC.IHR.PSRC.P5 2000-01-01  2.401379              1  VC.IHR.PSRC.P5   \n",
      "\n",
      "                               INDICATOR_NAME  \\\n",
      "0  Intentional homicides (per 100,000 people)   \n",
      "1  Intentional homicides (per 100,000 people)   \n",
      "2  Intentional homicides (per 100,000 people)   \n",
      "3  Intentional homicides (per 100,000 people)   \n",
      "4  Intentional homicides (per 100,000 people)   \n",
      "\n",
      "                                         SOURCE_NOTE  \\\n",
      "0  Intentional homicides are estimates of unlawfu...   \n",
      "1  Intentional homicides are estimates of unlawfu...   \n",
      "2  Intentional homicides are estimates of unlawfu...   \n",
      "3  Intentional homicides are estimates of unlawfu...   \n",
      "4  Intentional homicides are estimates of unlawfu...   \n",
      "\n",
      "                                 SOURCE_ORGANIZATION  Unnamed: 4  \n",
      "0  UN Office on Drugs and Crime's International H...         NaN  \n",
      "1  UN Office on Drugs and Crime's International H...         NaN  \n",
      "2  UN Office on Drugs and Crime's International H...         NaN  \n",
      "3  UN Office on Drugs and Crime's International H...         NaN  \n",
      "4  UN Office on Drugs and Crime's International H...         NaN  \n"
     ]
    }
   ],
   "source": [
    "# Load another dataset for merging\n",
    "other_data = pd.read_csv(\"C:/Users/sakthi/Downloads/API_MYS_DS2_en_csv_v2_8636/Metadata_Indicator_API_MYS_DS2_en_csv_v2_8636.csv\")\n",
    "\n",
    "# Perform the merge with corrected column mappings\n",
    "merged_data = pd.merge(data_long, other_data, \n",
    "                       left_on='Indicator Code', \n",
    "                       right_on='INDICATOR_CODE', \n",
    "                       how='inner')\n",
    "\n",
    "# Display datasets before and after the merge\n",
    "print(\"Dataset before the merge (data_long):\")\n",
    "print(data_long.head(5))  # Preview data_long\n",
    "\n",
    "print(\"\\nOther dataset to be merged (other_data):\")\n",
    "print(other_data.head(5))  # Preview other_data\n",
    "\n",
    "print(\"\\nDataset after the merge:\")\n",
    "print(merged_data.head(5))  # Preview merged_data\n",
    "\n",
    "\n"
   ]
  },
  {
   "cell_type": "markdown",
   "id": "6aa4170a",
   "metadata": {},
   "source": [
    "# Summary Insights"
   ]
  },
  {
   "cell_type": "code",
   "execution_count": 20,
   "id": "926962fa",
   "metadata": {
    "scrolled": false
   },
   "outputs": [
    {
     "name": "stdout",
     "output_type": "stream",
     "text": [
      "Homicide Statistics by Country:\n",
      "   Country Name     Value\n",
      "0     Malaysia  3.944421\n"
     ]
    }
   ],
   "source": [
    "# Group data by country and get mean homicide rates\n",
    "homicide_stats = data_long[data_long['Indicator Name'] == 'Intentional homicides (per 100,000 people)'] \\\n",
    "    .groupby('Country Name')['Value'].mean().reset_index()\n",
    "\n",
    "# Print insights\n",
    "print(\"Homicide Statistics by Country:\\n\", homicide_stats)\n"
   ]
  },
  {
   "cell_type": "markdown",
   "id": "817170b2",
   "metadata": {},
   "source": [
    "# Saving final cleaned dataset file"
   ]
  },
  {
   "cell_type": "code",
   "execution_count": 21,
   "id": "79b41767",
   "metadata": {},
   "outputs": [],
   "source": [
    "# Save the cleaned dataset to a new file\n",
    "cleaned_file_path = 'cleaned_API_MYS_DS2.csv'\n",
    "data_long.to_csv(cleaned_file_path, index=False)\n"
   ]
  },
  {
   "cell_type": "markdown",
   "id": "c714aa93",
   "metadata": {},
   "source": [
    "# Queries Using Pandas & NumPy \n",
    "(After all clealing work done)"
   ]
  },
  {
   "cell_type": "code",
   "execution_count": 22,
   "id": "145c714b",
   "metadata": {},
   "outputs": [
    {
     "name": "stdout",
     "output_type": "stream",
     "text": [
      "     Country Name Country Code                              Indicator Name  \\\n",
      "0        Malaysia          MYS  Intentional homicides (per 100,000 people)   \n",
      "1496     Malaysia          MYS  Intentional homicides (per 100,000 people)   \n",
      "2992     Malaysia          MYS  Intentional homicides (per 100,000 people)   \n",
      "4488     Malaysia          MYS  Intentional homicides (per 100,000 people)   \n",
      "5984     Malaysia          MYS  Intentional homicides (per 100,000 people)   \n",
      "\n",
      "      Indicator Code       Year     Value  High_Homicide  \n",
      "0     VC.IHR.PSRC.P5 1996-01-01  2.160563              1  \n",
      "1496  VC.IHR.PSRC.P5 1997-01-01  2.541275              1  \n",
      "2992  VC.IHR.PSRC.P5 1998-01-01  2.883926              1  \n",
      "4488  VC.IHR.PSRC.P5 1999-01-01  2.628678              1  \n",
      "5984  VC.IHR.PSRC.P5 2000-01-01  2.401379              1  \n"
     ]
    }
   ],
   "source": [
    "# Check Data for Specific Indicators:\n",
    "\n",
    "homicide_data = data_long[data_long['Indicator Name'] == 'Intentional homicides (per 100,000 people)']\n",
    "print(homicide_data.head())\n"
   ]
  },
  {
   "cell_type": "code",
   "execution_count": 23,
   "id": "f8678688",
   "metadata": {},
   "outputs": [
    {
     "name": "stdout",
     "output_type": "stream",
     "text": [
      "Countries with missing data for 2000: ['Malaysia']\n"
     ]
    }
   ],
   "source": [
    "# Find Countries with Missing Data for a Specific Year:\n",
    "\n",
    "missing_countries = data_long[(data_long['Year'] == '2000') & (data_long['Value'].isnull())]['Country Name'].unique()\n",
    "print(\"Countries with missing data for 2000:\", missing_countries)\n"
   ]
  },
  {
   "cell_type": "code",
   "execution_count": 24,
   "id": "75e12c52",
   "metadata": {},
   "outputs": [
    {
     "name": "stdout",
     "output_type": "stream",
     "text": [
      "Indicator Name\n",
      "ARI treatment (% of children under 5 taken to a health provider)                                  46.976174\n",
      "Access to clean fuels and technologies for cooking (% of population)                              86.662191\n",
      "Access to clean fuels and technologies for cooking, rural (% of rural population)                 83.689968\n",
      "Access to clean fuels and technologies for cooking, urban (% of urban population)                 89.884413\n",
      "Access to electricity (% of population)                                                           91.217746\n",
      "                                                                                                    ...    \n",
      "Women who believe a husband is justified in beating his wife when she refuses sex with him (%)    45.170261\n",
      "Women who were first married by age 15 (% of women ages 20-24)                                    45.170261\n",
      "Women who were first married by age 18 (% of women ages 20-24)                                    45.170261\n",
      "Women's share of population ages 15+ living with HIV (%)                                          15.284590\n",
      "Young people (ages 15-24) newly infected with HIV                                                       NaN\n",
      "Name: Value, Length: 1496, dtype: float64\n"
     ]
    }
   ],
   "source": [
    "# Calculate Mean Values by Indicator:\n",
    "\n",
    "mean_values = data_long.groupby('Indicator Name')['Value'].mean()\n",
    "print(mean_values)\n"
   ]
  },
  {
   "cell_type": "code",
   "execution_count": 25,
   "id": "d361ac17",
   "metadata": {},
   "outputs": [
    {
     "name": "stdout",
     "output_type": "stream",
     "text": [
      "Year with max homicides in Malaysia: 2022-01-01 00:00:00\n"
     ]
    }
   ],
   "source": [
    "# Find the Year with Maximum Homicides for Malaysia:\n",
    "\n",
    "malaysia_homicides = data_long[(data_long['Country Name'] == 'Malaysia') & \n",
    "                               (data_long['Indicator Name'] == 'Intentional homicides (per 100,000 people)')]\n",
    "max_homicides_year = malaysia_homicides.loc[malaysia_homicides['Value'].idxmax()]\n",
    "print(\"Year with max homicides in Malaysia:\", max_homicides_year['Year'])\n"
   ]
  },
  {
   "cell_type": "markdown",
   "id": "65762bd7",
   "metadata": {},
   "source": [
    "# Visualisation"
   ]
  },
  {
   "cell_type": "code",
   "execution_count": 26,
   "id": "96250dbe",
   "metadata": {},
   "outputs": [
    {
     "data": {
      "image/png": "[encoded data removed]",
      "text/plain": [
       "<Figure size 640x480 with 1 Axes>"
      ]
     },
     "metadata": {},
     "output_type": "display_data"
    }
   ],
   "source": [
    "import matplotlib.pyplot as plt\n",
    "\n",
    "homicide_data = data_long[data_long['Indicator Name'] == 'Intentional homicides (per 100,000 people)']\n",
    "plt.plot(homicide_data['Year'], homicide_data['Value'], marker='o', label='Homicide Rate')\n",
    "plt.title('Intentional Homicides Over Time (Malaysia)')\n",
    "plt.xlabel('Year')\n",
    "plt.ylabel('Rate (per 100,000 people)')\n",
    "plt.legend()\n",
    "plt.grid(True)\n",
    "plt.show()"
   ]
  },
  {
   "cell_type": "code",
   "execution_count": null,
   "id": "4e1321e1",
   "metadata": {},
   "outputs": [],
   "source": []
  }
 ],
 "metadata": {
  "kernelspec": {
   "display_name": "Python 3 (ipykernel)",
   "language": "python",
   "name": "python3"
  },
  "language_info": {
   "codemirror_mode": {
    "name": "ipython",
    "version": 3
   },
   "file_extension": ".py",
   "mimetype": "text/x-python",
   "name": "python",
   "nbconvert_exporter": "python",
   "pygments_lexer": "ipython3",
   "version": "3.9.19"
  }
 },
 "nbformat": 4,
 "nbformat_minor": 5
}
